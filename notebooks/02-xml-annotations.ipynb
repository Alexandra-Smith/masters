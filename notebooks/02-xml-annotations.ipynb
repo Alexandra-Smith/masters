{
 "cells": [
  {
   "cell_type": "code",
   "execution_count": 1,
   "metadata": {},
   "outputs": [],
   "source": [
    "import json\n",
    "import os\n",
    "# import xmltodict\n",
    "from sys import argv\n",
    "from os.path import exists\n",
    "# import simplejson as json\n",
    "import numpy as np\n",
    "import matplotlib.pyplot as plt\n",
    "import lxml.etree as ET\n",
    "from geojson import Point, Feature, FeatureCollection, Polygon, dump\n",
    "import geopandas as gpd\n",
    "from openslide import open_slide"
   ]
  },
  {
   "cell_type": "code",
   "execution_count": 2,
   "metadata": {},
   "outputs": [],
   "source": [
    "# Get path to raw data \n",
    "main_directory = os.path.dirname(os.getcwd())\n",
    "\n",
    "#  Read in svs file\n",
    "os.chdir(main_directory + '/data/raw/svs_files')\n",
    "svs_data_directory = os.getcwd()\n",
    "svs_files = os.listdir(svs_data_directory)\n",
    "\n",
    "svs_file = svs_files[0]\n",
    "slide = open_slide(svs_file)\n",
    "slide_props = slide.properties\n",
    "\n",
    "image_id = slide_props[\"aperio.Filename\"]"
   ]
  },
  {
   "cell_type": "code",
   "execution_count": 7,
   "metadata": {},
   "outputs": [],
   "source": [
    "# Read in xml file\n",
    "os.chdir(main_directory + '/data/raw/xml_labels')\n",
    "xml_data_directory = os.getcwd()\n",
    "\n",
    "xml_file = image_id + '.xml'"
   ]
  },
  {
   "cell_type": "code",
   "execution_count": 8,
   "metadata": {},
   "outputs": [
    {
     "name": "stdout",
     "output_type": "stream",
     "text": [
      "svs file name is TCGA-A2-A0SY-01Z-00-DX1\n",
      "xml file name is TCGA-A2-A0SY-01Z-00-DX1.xml\n",
      "True\n"
     ]
    }
   ],
   "source": [
    "# Check working with correct svs corresponding to xml file\n",
    "print(f'svs file name is {slide_props[\"aperio.Filename\"]}')\n",
    "print(f'xml file name is {xml_file}')\n",
    "print(xml_file.rstrip('.xml') == slide_props['aperio.Filename'])"
   ]
  },
  {
   "cell_type": "code",
   "execution_count": 10,
   "metadata": {},
   "outputs": [],
   "source": [
    "points = []\n",
    "features = []\n",
    "\n",
    "# Get annotations from XML file\n",
    "tree = ET.parse(xml_file)\n",
    "root = tree.getroot()\n",
    "for Annotation in root.findall(\"./Annotation\"): # for all annotations\n",
    "    # iterate on all regions\n",
    "    for Region in Annotation.findall(\"./*/Region\"):\n",
    "        # extract region attributes\n",
    "        regionID = Region.attrib['Id']; regionArea = Region.attrib['Area']\n",
    "        # print(regionID)\n",
    "        # if regionID == '6':\n",
    "            # iterate all points in region\n",
    "        for Vertex in Region.findall(\"./*/Vertex\"):\n",
    "            # get points\n",
    "            x_point = float(np.int32(np.float64(Vertex.attrib['X'])))\n",
    "            y_point = float(np.int32(np.float64(Vertex.attrib['Y'])))\n",
    "            points.append([x_point, y_point])\n",
    "        # features.append(Feature(geometry=Polygon([points]), properties={\"name\": xml_file, \"region_id\": regionID, \"object_type\": \"annotation\"}))\n",
    "\n",
    "# feature_collection = FeatureCollection(features)\n",
    "\n",
    "# Save as geojson file\n",
    "# with open('shapes.geojson', 'w') as f:\n",
    "#    dump(feature_collection, f)"
   ]
  },
  {
   "cell_type": "code",
   "execution_count": 21,
   "metadata": {},
   "outputs": [
    {
     "name": "stdout",
     "output_type": "stream",
     "text": [
      "Downsample factors: (1.0, 4.00004470006258, 16.001443204809114, 64.00958799196559)\n",
      "Downsampled image height: 5848 and width: 8389\n",
      "Working with image downsampled by 16.001443204809114\n"
     ]
    }
   ],
   "source": [
    "# Get downsample factors\n",
    "factors = slide.level_downsamples\n",
    "print(f'Downsample factors: {factors}')\n",
    "\n",
    "# Choose level to work with\n",
    "LEVEL = 2\n",
    "height = slide_props[f'openslide.level[{LEVEL}].height']\n",
    "width = slide_props[f'openslide.level[{LEVEL}].width']\n",
    "FACTOR = factors[LEVEL]\n",
    "print(f\"Downsampled image height: {height} and width: {width}\")\n",
    "print(f\"Working with image downsampled by {FACTOR}\")"
   ]
  },
  {
   "cell_type": "code",
   "execution_count": 97,
   "metadata": {},
   "outputs": [],
   "source": [
    "# Downsample all annotation points\n",
    "# (x, y)\n",
    "downsample_points = []\n",
    "for point in points:\n",
    "    downsample_points.append([int(point[0]/FACTOR), int(point[1]/FACTOR)])\n",
    "\n",
    "# Initialise downsampled binary image\n",
    "binary_image = np.ones([int(height), int(width)])\n",
    "\n",
    "for point in downsample_points:\n",
    "    binary_image[point[1], point[0]] = 0"
   ]
  },
  {
   "cell_type": "code",
   "execution_count": 98,
   "metadata": {},
   "outputs": [
    {
     "name": "stdout",
     "output_type": "stream",
     "text": [
      "7328\n",
      "5046\n"
     ]
    }
   ],
   "source": [
    "x_points = [downsample_points[i][0] for i in range(len(downsample_points))]\n",
    "y_points = [downsample_points[i][1] for i in range(len(downsample_points))]\n",
    "print(np.max(x_points))\n",
    "print(np.max(y_points))"
   ]
  },
  {
   "cell_type": "code",
   "execution_count": 79,
   "metadata": {},
   "outputs": [
    {
     "name": "stdout",
     "output_type": "stream",
     "text": [
      "4212\n"
     ]
    }
   ],
   "source": [
    "# duplicate coordinates?\n",
    "print(len(list(set(map(tuple,downsample_points)))))"
   ]
  },
  {
   "cell_type": "code",
   "execution_count": 55,
   "metadata": {},
   "outputs": [
    {
     "name": "stdout",
     "output_type": "stream",
     "text": [
      "4287\n",
      "[[1. 1. 1. ... 1. 1. 1.]\n",
      " [1. 1. 1. ... 1. 1. 1.]\n",
      " [1. 1. 1. ... 1. 1. 1.]\n",
      " ...\n",
      " [1. 1. 1. ... 1. 1. 1.]\n",
      " [1. 1. 1. ... 1. 1. 1.]\n",
      " [1. 1. 1. ... 1. 1. 1.]]\n",
      "4212\n",
      "49054660\n"
     ]
    }
   ],
   "source": [
    "print(len(downsample_points))\n",
    "print(binary_image)\n",
    "print(np.count_nonzero(binary_image == 0))"
   ]
  },
  {
   "cell_type": "code",
   "execution_count": 99,
   "metadata": {},
   "outputs": [
    {
     "data": {
      "text/plain": [
       "<matplotlib.image.AxesImage at 0x14c861790>"
      ]
     },
     "execution_count": 99,
     "metadata": {},
     "output_type": "execute_result"
    },
    {
     "data": {
      "image/png": "[encoded data removed]",
      "text/plain": [
       "<Figure size 800x800 with 1 Axes>"
      ]
     },
     "metadata": {},
     "output_type": "display_data"
    }
   ],
   "source": [
    "# Visualise binary image\n",
    "plt.figure(figsize=(8,8))\n",
    "plt.imshow(binary_image, cmap=\"gray\", vmin=0, vmax=1)    "
   ]
  },
  {
   "cell_type": "code",
   "execution_count": 91,
   "metadata": {},
   "outputs": [
    {
     "name": "stdout",
     "output_type": "stream",
     "text": [
      "[4619, 4267]\n"
     ]
    }
   ],
   "source": [
    "print(downsample_points[0])"
   ]
  },
  {
   "cell_type": "code",
   "execution_count": 100,
   "metadata": {},
   "outputs": [
    {
     "name": "stdout",
     "output_type": "stream",
     "text": [
      "0.0\n",
      "[[1. 1. 1. ... 1. 1. 1.]\n",
      " [1. 1. 1. ... 1. 1. 1.]\n",
      " [1. 1. 1. ... 1. 1. 1.]\n",
      " ...\n",
      " [1. 1. 1. ... 1. 1. 1.]\n",
      " [1. 1. 1. ... 1. 1. 1.]\n",
      " [1. 1. 1. ... 1. 1. 1.]]\n"
     ]
    },
    {
     "data": {
      "image/png": "[encoded data removed]",
      "text/plain": [
       "<Figure size 640x480 with 1 Axes>"
      ]
     },
     "metadata": {},
     "output_type": "display_data"
    }
   ],
   "source": [
    "# Visualise binary image\n",
    "print(binary_image[4267, 4619]) # x=4619, y=4267\n",
    "# plot image as (y, x)\n",
    "plt.imshow(binary_image[4100:4400, 4500:4700], cmap=\"gray\", vmin=0, vmax=1) "
   ]
  },
  {
   "cell_type": "code",
   "execution_count": null,
   "metadata": {},
   "outputs": [],
   "source": [
    "def extract_image_patches(image, patch_size):\n",
    "    # Use nn.Fold to extract image patches"
   ]
  },
  {
   "cell_type": "code",
   "execution_count": null,
   "metadata": {},
   "outputs": [],
   "source": [
    "def extract_label_patches(xml, patch_size):\n",
    "    # Initialise patch\n",
    "    patch = np.zeros([patch_size, patch_size])\n",
    "    # Run through points in patch and check if it is labelled\n",
    "    # Keep track of patch number to work out coordinates"
   ]
  },
  {
   "cell_type": "code",
   "execution_count": null,
   "metadata": {},
   "outputs": [],
   "source": [
    "# Create binary mask of original dimensions\n"
   ]
  }
 ],
 "metadata": {
  "kernelspec": {
   "display_name": "Python 3.8.13 ('masters')",
   "language": "python",
   "name": "python3"
  },
  "language_info": {
   "codemirror_mode": {
    "name": "ipython",
    "version": 3
   },
   "file_extension": ".py",
   "mimetype": "text/x-python",
   "name": "python",
   "nbconvert_exporter": "python",
   "pygments_lexer": "ipython3",
   "version": "3.8.13"
  },
  "orig_nbformat": 4,
  "vscode": {
   "interpreter": {
    "hash": "ffe23d2e96a16864107ff4dcf870e48a8d9f9eb7155608451cb62e6ec1007317"
   }
  }
 },
 "nbformat": 4,
 "nbformat_minor": 2
}
