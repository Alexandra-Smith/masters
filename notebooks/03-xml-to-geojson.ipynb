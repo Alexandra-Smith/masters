{
 "cells": [
  {
   "cell_type": "code",
   "execution_count": 1,
   "metadata": {},
   "outputs": [],
   "source": [
    "import os\n",
    "import numpy as np\n",
    "import matplotlib.pyplot as plt\n",
    "import lxml.etree as ET\n",
    "from geojson import Point, Feature, FeatureCollection, Polygon, dump\n",
    "from openslide import open_slide"
   ]
  },
  {
   "cell_type": "code",
   "execution_count": 2,
   "metadata": {},
   "outputs": [
    {
     "name": "stdout",
     "output_type": "stream",
     "text": [
      "/Users/alexandrasmith/Desktop/Workspace/Projects/masters\n"
     ]
    }
   ],
   "source": [
    "# Path to raw data \n",
    "# main_directory = os.path.dirname(os.getcwd())\n",
    "# print(main_directory)\n",
    "# os.chdir(main_directory + '/data/raw/xml_labels')\n",
    "# xml_data_directory = os.getcwd()\n",
    "# xml_files = os.listdir(xml_data_directory)\n",
    "# # file name\n",
    "# xml_file = xml_files[0]"
   ]
  },
  {
   "cell_type": "code",
   "execution_count": 2,
   "metadata": {},
   "outputs": [],
   "source": [
    "# get xml files for svs files\n",
    "# Path to raw data \n",
    "main_directory = os.path.dirname(os.getcwd())\n",
    "\n",
    "#  Read in svs file\n",
    "os.chdir(main_directory + '/data/raw/svs_files')\n",
    "svs_data_directory = os.getcwd()\n",
    "svs_files = os.listdir(svs_data_directory)"
   ]
  },
  {
   "cell_type": "code",
   "execution_count": 3,
   "metadata": {},
   "outputs": [
    {
     "name": "stdout",
     "output_type": "stream",
     "text": [
      "svs file name is TCGA-C8-A12Q-01Z-00-DX1 and xml file name is TCGA-C8-A12Q-01Z-00-DX1.xml\n",
      "Working with same files: True\n"
     ]
    }
   ],
   "source": [
    "svs_file = svs_files[2]\n",
    "slide = open_slide(svs_file)\n",
    "slide_props = slide.properties\n",
    "image_id = slide_props[\"aperio.Filename\"]\n",
    "\n",
    "# Read in xml file\n",
    "os.chdir(main_directory + '/data/raw/xml_labels')\n",
    "xml_data_directory = os.getcwd()\n",
    "\n",
    "xml_file = image_id + '.xml'\n",
    "# Check working with correct svs corresponding to xml file\n",
    "print(f'svs file name is {slide_props[\"aperio.Filename\"]} and xml file name is {xml_file}')\n",
    "print(f'Working with same files: {xml_file.rstrip(\".xml\") == slide_props[\"aperio.Filename\"]}')"
   ]
  },
  {
   "cell_type": "code",
   "execution_count": 7,
   "metadata": {},
   "outputs": [],
   "source": [
    "points = []\n",
    "features = []\n",
    "save_destination = '/Users/alexandrasmith/Desktop/Workspace/Projects/masters/data/interim/geojson_labels/'\n",
    "file_id = xml_file.rstrip('.xml')\n",
    "# Get annotations from XML file\n",
    "tree = ET.parse(xml_file)\n",
    "root = tree.getroot()\n",
    "\n",
    "for Annotation in root.findall(\"./Annotation\"): # for all annotations\n",
    "    # iterate on all regions\n",
    "    for Region in Annotation.findall(\"./*/Region\"):\n",
    "        # extract region attributes\n",
    "        regionID = Region.attrib['Id']; regionArea = Region.attrib['Area']\n",
    "        # iterate all points in region\n",
    "        for Vertex in Region.findall(\"./*/Vertex\"):\n",
    "            # get points\n",
    "            x_point = float(np.int32(np.float64(Vertex.attrib['X'])))\n",
    "            y_point = float(np.int32(np.float64(Vertex.attrib['Y'])))\n",
    "            points.append([x_point, y_point])\n",
    "        # Ensure that polygon produced is in closed form \n",
    "        # i.e having same start and end point\n",
    "        starting_point = points[0]\n",
    "        if starting_point != points[-1]:\n",
    "            points.append(starting_point)\n",
    "        features.append(Feature(geometry=Polygon([points]), properties={\"name\": xml_file, \"region_id\": regionID, \"object_type\": \"annotation\"}))\n",
    "\n",
    "with open(save_destination + file_id + '.geojson', 'w') as f:\n",
    "    dump(features, f)"
   ]
  }
 ],
 "metadata": {
  "kernelspec": {
   "display_name": "masters",
   "language": "python",
   "name": "python3"
  },
  "language_info": {
   "codemirror_mode": {
    "name": "ipython",
    "version": 3
   },
   "file_extension": ".py",
   "mimetype": "text/x-python",
   "name": "python",
   "nbconvert_exporter": "python",
   "pygments_lexer": "ipython3",
   "version": "3.8.13"
  },
  "orig_nbformat": 4,
  "vscode": {
   "interpreter": {
    "hash": "ffe23d2e96a16864107ff4dcf870e48a8d9f9eb7155608451cb62e6ec1007317"
   }
  }
 },
 "nbformat": 4,
 "nbformat_minor": 2
}
