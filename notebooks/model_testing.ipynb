{
 "cells": [
  {
   "cell_type": "markdown",
   "metadata": {},
   "source": [
    "## Fine-tuning torchvision models\n",
    "\n",
    "### Tutorial from https://pytorch.org/tutorials/beginner/finetuning_torchvision_models_tutorial.html#inception-v3"
   ]
  },
  {
   "cell_type": "markdown",
   "metadata": {},
   "source": [
    "### Install necessary modules"
   ]
  },
  {
   "cell_type": "code",
   "execution_count": 1,
   "metadata": {},
   "outputs": [
    {
     "name": "stdout",
     "output_type": "stream",
     "text": [
      "PyTorch Version:  2.0.0+cu117\n",
      "Torchvision Version:  0.15.1+cu117\n"
     ]
    }
   ],
   "source": [
    "# from __future__ import print_function\n",
    "# from __future__ import division\n",
    "import torch\n",
    "import torch.nn as nn\n",
    "import torch.optim as optim\n",
    "import numpy as np\n",
    "import torchvision\n",
    "from torchvision import datasets, models, transforms\n",
    "import torch.utils.data as data_utils\n",
    "import matplotlib.pyplot as plt\n",
    "import time\n",
    "import os\n",
    "import random\n",
    "import copy\n",
    "from PIL import Image\n",
    "from torch.utils.data import Dataset\n",
    "print(\"PyTorch Version: \",torch.__version__)\n",
    "print(\"Torchvision Version: \",torchvision.__version__)"
   ]
  },
  {
   "cell_type": "code",
   "execution_count": 2,
   "metadata": {},
   "outputs": [],
   "source": [
    "# Model parameters\n",
    "model_name = 'inception'\n",
    "batch_size=32\n",
    "num_classes = 2\n",
    "num_epochs = 15\n",
    "# Flag for feature extracting. When False, we finetune the whole model,\n",
    "#   when True we only update the reshaped layer params\n",
    "feature_extract = True"
   ]
  },
  {
   "cell_type": "markdown",
   "metadata": {},
   "source": [
    "### Define a few helper functions"
   ]
  },
  {
   "cell_type": "code",
   "execution_count": 3,
   "metadata": {},
   "outputs": [],
   "source": [
    "def train_model(model, dataloaders, criterion, optimizer, num_epochs, is_inception):\n",
    "    since = time.time()\n",
    "\n",
    "    val_acc_history = []\n",
    "\n",
    "    best_model_wts = copy.deepcopy(model.state_dict())\n",
    "    best_acc = 0.0\n",
    "\n",
    "    for epoch in range(num_epochs):\n",
    "        print('Epoch {}/{}'.format(epoch, num_epochs - 1))\n",
    "        print('-' * 10)\n",
    "\n",
    "        # phase = \"train\"\n",
    "        # model.train()\n",
    "\n",
    "        # Each epoch has a training and validation phase\n",
    "        for phase in ['train', 'val']:\n",
    "            if phase == 'train':\n",
    "                model.train()  # Set model to training mode\n",
    "            else:\n",
    "                model.eval()   # Set model to evaluate mode\n",
    "\n",
    "            running_loss = 0.0\n",
    "            running_corrects = 0\n",
    "\n",
    "            # # Iterate over data.\n",
    "            # for inputs, labels in dataloaders:\n",
    "            #     inputs = inputs.to(device)\n",
    "            #     labels = labels.to(device)\n",
    "            # Iterate over data.\n",
    "            for inputs, labels in dataloaders[phase]:\n",
    "                inputs = inputs.to(device)\n",
    "                labels = labels.to(device)\n",
    "\n",
    "                # zero the parameter gradients\n",
    "                optimizer.zero_grad()\n",
    "\n",
    "                # forward\n",
    "                # track history if only in train\n",
    "                with torch.set_grad_enabled(phase == 'train'):\n",
    "                    # Get model outputs and calculate loss\n",
    "                    # Special case for inception because in training it has an auxiliary output. In train\n",
    "                    #   mode we calculate the loss by summing the final output and the auxiliary output\n",
    "                    #   but in testing we only consider the final output.\n",
    "                    if is_inception and phase == 'train':\n",
    "                        # From https://discuss.pytorch.org/t/how-to-optimize-inception-model-with-auxiliary-classifiers/7958\n",
    "                        outputs, aux_outputs = model(inputs)\n",
    "                        loss1 = criterion(outputs, labels)\n",
    "                        loss2 = criterion(aux_outputs, labels)\n",
    "                        loss = loss1 + 0.4*loss2\n",
    "                    else:\n",
    "                        outputs = model(inputs)\n",
    "                        loss = criterion(outputs, labels)\n",
    "\n",
    "                    _, preds = torch.max(outputs, 1)\n",
    "\n",
    "                    # backward + optimize only if in training phase\n",
    "                    if phase == 'train':\n",
    "                        loss.backward()\n",
    "                        optimizer.step()\n",
    "\n",
    "                # statistics\n",
    "                running_loss += loss.item() * inputs.size(0)\n",
    "                running_corrects += torch.sum(preds == labels.data)\n",
    "\n",
    "            # epoch_loss = running_loss / len(dataloaders.dataset)\n",
    "            # epoch_acc = running_corrects.double() / len(dataloaders.dataset)\n",
    "            epoch_loss = running_loss / len(dataloaders[phase].dataset)\n",
    "            epoch_acc = running_corrects.double() / len(dataloaders[phase].dataset)\n",
    "\n",
    "            print('{} Loss: {:.4f} Acc: {:.4f}'.format(phase, epoch_loss, epoch_acc))\n",
    "\n",
    "            # deep copy the model\n",
    "            if phase == 'val' and epoch_acc > best_acc:\n",
    "                best_acc = epoch_acc\n",
    "                best_model_wts = copy.deepcopy(model.state_dict())\n",
    "            if phase == 'val':\n",
    "                val_acc_history.append(epoch_acc)\n",
    "\n",
    "        print()\n",
    "\n",
    "    time_elapsed = time.time() - since\n",
    "    print('Training complete in {:.0f}m {:.0f}s'.format(time_elapsed // 60, time_elapsed % 60))\n",
    "    print('Best val Acc: {:4f}'.format(best_acc))\n",
    "\n",
    "    # load best model weights\n",
    "    model.load_state_dict(best_model_wts)\n",
    "    return model, val_acc_history\n",
    "\n",
    "def set_parameter_requires_grad(model, feature_extracting):\n",
    "    if feature_extracting:\n",
    "        for param in model.parameters():\n",
    "            param.requires_grad = False"
   ]
  },
  {
   "cell_type": "code",
   "execution_count": 4,
   "metadata": {},
   "outputs": [],
   "source": [
    "def initialize_model(num_classes, feature_extract, use_pretrained=True):\n",
    "    \"\"\" Inception v3\n",
    "    Be careful, expects (299,299) sized images and has auxiliary output\n",
    "    \"\"\"\n",
    "    model_ft = models.inception_v3(pretrained=use_pretrained)\n",
    "    set_parameter_requires_grad(model_ft, feature_extract)\n",
    "    # Need to reshape both the primary output layer and the auxiliary output layer\n",
    "    # Handle the auxilary net\n",
    "    num_ftrs = model_ft.AuxLogits.fc.in_features\n",
    "    model_ft.AuxLogits.fc = nn.Linear(num_ftrs, num_classes)\n",
    "    # Handle the primary net\n",
    "    num_ftrs = model_ft.fc.in_features\n",
    "    model_ft.fc = nn.Linear(num_ftrs, num_classes)\n",
    "    input_size = 299\n",
    "\n",
    "    return model_ft, input_size"
   ]
  },
  {
   "cell_type": "code",
   "execution_count": 5,
   "metadata": {},
   "outputs": [],
   "source": [
    "# Split image folders into train, val, test\n",
    "def split_data(patch_directory, split: list, seed):\n",
    "    '''\n",
    "    Function that takes in the split percentage for train/val/test sets, and randomly chooses which cases\n",
    "    to allocate to which set (to ensure all patches from one case go into one set)\n",
    "    Parameters:\n",
    "    patch_directory: folder containing all patches\n",
    "    split: list of integers for splitting sets\n",
    "    seed: option to set the seed value for randomness\n",
    "    Returns:\n",
    "    3 lists for each of train/val/test, where each list contains the case names to be used in the set\n",
    "    '''\n",
    "    \n",
    "    random.seed(seed)\n",
    "\n",
    "    case_folders = os.listdir(patch_directory) # get 147 case folders\n",
    "    \n",
    "    d = {}\n",
    "    for folder in case_folders:\n",
    "        num_patches_in_folder = len(os.listdir(patch_directory + folder))\n",
    "        d[folder] = num_patches_in_folder\n",
    "    \n",
    "    total_num_patches = sum(d.values())\n",
    "    train_split, val_split, test_split = split\n",
    "    train_num_patches = int((train_split/100)*total_num_patches)\n",
    "    val_num_patches = int((val_split/100)*total_num_patches)\n",
    "\n",
    "    # list all folders in the directory\n",
    "    folders = [os.path.join(patch_directory, folder) for folder in os.listdir(patch_directory) if os.path.isdir(os.path.join(patch_directory, folder))]\n",
    "    \n",
    "    # SELECT TRAINING CASES\n",
    "    train_cases = [] # store all selected cases\n",
    "    num_selected_train = 0 # number of patches selected so far\n",
    "    selected_folders = set() # a set to store the selected folder names to keep track of those already selected\n",
    "    while num_selected_train < train_num_patches:\n",
    "        folder = random.choice(folders)\n",
    "        if folder not in selected_folders:\n",
    "            case = folder.replace(patch_directory, '')\n",
    "            num_patches = len(os.listdir(folder))\n",
    "            num_selected_train += num_patches\n",
    "            selected_folders.add(folder) # add to set of selected folders\n",
    "            train_cases.append(case)\n",
    "\n",
    "    # SELECT VAL CASES\n",
    "    val_cases = [] # store all selected cases\n",
    "    num_selected_val = 0 # number of patches selected so far\n",
    "    while num_selected_val < val_num_patches:\n",
    "        folder = random.choice(folders)\n",
    "        if folder not in selected_folders:\n",
    "            case = folder.replace(patch_directory, '')\n",
    "            num_patches = len(os.listdir(folder))\n",
    "            num_selected_val += num_patches\n",
    "            selected_folders.add(folder)\n",
    "            val_cases.append(case)\n",
    "\n",
    "    # SELECT TEST CASES\n",
    "    cases = [folder.replace(patch_directory, '') for folder in folders]\n",
    "    used = train_cases+val_cases\n",
    "    test_cases = [case for case in cases if case not in used]\n",
    "    \n",
    "    # test_patches = [len(os.listdir(patch_directory + folder)) for folder in test_cases]\n",
    "    num_selected_test = sum([len(os.listdir(patch_directory + folder)) for folder in test_cases])\n",
    "    # dict = {x: for x in ['train', 'val', 'test']}\n",
    "    print(f\"Number of training patches: {num_selected_train} \\nNumber of validation patches {num_selected_val} \\nNumber of test patches {num_selected_test}\")\n",
    "    return train_cases, val_cases, test_cases"
   ]
  },
  {
   "cell_type": "code",
   "execution_count": 6,
   "metadata": {},
   "outputs": [],
   "source": [
    "# Create a custom PyTorch dataset to read in your images and apply transforms\n",
    "\n",
    "class CustomDataset(Dataset):\n",
    "    def __init__(self, img_folders, label_files, transform=None):\n",
    "        self.img_folders = img_folders\n",
    "        self.label_files = label_files\n",
    "        self.transform = transform\n",
    "\n",
    "        self.imgs = [] # Keeps image paths to load in the __getitem__ method\n",
    "        self.labels = []\n",
    "\n",
    "        # Load images and corresponding labels\n",
    "        for i, (img_folder, label_file) in enumerate(zip(img_folders, label_files)):\n",
    "            # print(\"Patch directory\", img_folder, \"\\nLabel file\", label_file)\n",
    "            labels_pt = torch.load(label_file) # Load .pt file\n",
    "            # Run through all patches from the case folder\n",
    "            for i, img in enumerate(os.listdir(img_folder)):\n",
    "                if os.path.isfile(img_folder + '/' + img) and os.path.isfile(label_file):\n",
    "                    # print(img_folder + img)\n",
    "                    if img.startswith('._'):\n",
    "                        img = img.replace('._', '')\n",
    "                    idx = int(img.replace('.png', '').split(\"_\")[1])\n",
    "                    self.imgs.append(img_folder + '/' + img)\n",
    "                    self.labels.append(labels_pt[idx].item()) # get label as int\n",
    "        \n",
    "    def __len__(self):\n",
    "        return len(self.imgs)\n",
    "    \n",
    "    def __getitem__(self, idx):\n",
    "        # Load image at given index\n",
    "        image_path = self.imgs[idx]\n",
    "        image = Image.open(image_path).convert('RGB')\n",
    "        \n",
    "        if self.transform is not None: # Apply transformations\n",
    "            image = self.transform(image)\n",
    "        \n",
    "        label = self.labels[idx] # Load corresponding image label\n",
    "        \n",
    "        return image, label # Return transformed image and label"
   ]
  },
  {
   "cell_type": "code",
   "execution_count": 8,
   "metadata": {},
   "outputs": [
    {
     "ename": "NameError",
     "evalue": "name 'model_name' is not defined",
     "output_type": "error",
     "traceback": [
      "\u001b[0;31m---------------------------------------------------------------------------\u001b[0m",
      "\u001b[0;31mNameError\u001b[0m                                 Traceback (most recent call last)",
      "Cell \u001b[0;32mIn[8], line 2\u001b[0m\n\u001b[1;32m      1\u001b[0m \u001b[38;5;66;03m# Initialise data transforms\u001b[39;00m\n\u001b[0;32m----> 2\u001b[0m \u001b[38;5;28;01mif\u001b[39;00m \u001b[43mmodel_name\u001b[49m \u001b[38;5;241m==\u001b[39m \u001b[38;5;124m'\u001b[39m\u001b[38;5;124minception\u001b[39m\u001b[38;5;124m'\u001b[39m: \u001b[38;5;66;03m### InceptionV3 takes in 299x299 as input\u001b[39;00m\n\u001b[1;32m      3\u001b[0m     INPUT_SIZE\u001b[38;5;241m=\u001b[39m\u001b[38;5;241m299\u001b[39m\n\u001b[1;32m      4\u001b[0m \u001b[38;5;28;01melse\u001b[39;00m:\n",
      "\u001b[0;31mNameError\u001b[0m: name 'model_name' is not defined"
     ]
    }
   ],
   "source": [
    "# Initialise data transforms\n",
    "if model_name == 'inception': ### InceptionV3 takes in 299x299 as input\n",
    "    INPUT_SIZE=299\n",
    "else:\n",
    "    INPUT_SIZE=224\n",
    "data_transforms = {\n",
    "    'train': transforms.Compose([\n",
    "        transforms.Resize(INPUT_SIZE),\n",
    "        transforms.RandomHorizontalFlip(),\n",
    "        transforms.ToTensor(),\n",
    "        transforms.Normalize([0.485, 0.456, 0.406], [0.229, 0.224, 0.225])\n",
    "    ]),\n",
    "    'val': transforms.Compose([\n",
    "        transforms.Resize(INPUT_SIZE),\n",
    "        transforms.ToTensor(),\n",
    "        transforms.Normalize([0.485, 0.456, 0.406], [0.229, 0.224, 0.225])\n",
    "    ]),\n",
    "    'test' : transforms.Compose([\n",
    "        transforms.Resize(INPUT_SIZE),\n",
    "        transforms.ToTensor(),\n",
    "        transforms.Normalize([0.485, 0.456, 0.406], [0.229, 0.224, 0.225])\n",
    "    ]),\n",
    "}"
   ]
  },
  {
   "cell_type": "code",
   "execution_count": null,
   "metadata": {},
   "outputs": [],
   "source": [
    "PATCH_SIZE=256\n",
    "STRIDE=PATCH_SIZE\n",
    "split=[70, 15, 15] # for splitting into train/val/test\n",
    "SEED = 42"
   ]
  },
  {
   "cell_type": "code",
   "execution_count": null,
   "metadata": {},
   "outputs": [],
   "source": [
    "img_dir = '../data/patches/'\n",
    "train_cases, val_cases, test_cases = split_data(img_dir, split, SEED)"
   ]
  },
  {
   "cell_type": "code",
   "execution_count": null,
   "metadata": {},
   "outputs": [],
   "source": [
    "# Check function\n",
    "print(len(train_cases + val_cases + test_cases) == 147)"
   ]
  },
  {
   "cell_type": "code",
   "execution_count": null,
   "metadata": {},
   "outputs": [],
   "source": [
    "# TESTING CUSTOM DATASET ON VERY LIMITED DATA (for memory issues)\n",
    "img_dir = '../data/patches/'\n",
    "labels_dir = '../data/labels/'\n",
    "\n",
    "cases = ['A2-A0CX', 'A2-A0SW']\n",
    "img_folders = [img_dir + case for case in cases]\n",
    "label_folders = [labels_dir + case + '.pt' for case in cases]\n",
    "\n",
    "test_dataset = CustomDataset(img_folders, label_folders, transform=data_transforms['train'])\n",
    "print(len(test_dataset))"
   ]
  },
  {
   "cell_type": "code",
   "execution_count": null,
   "metadata": {},
   "outputs": [],
   "source": [
    "# using full set of data\n",
    "\n",
    "img_dir = '../data/patches/'\n",
    "labels_dir = '../data/labels/'\n",
    "\n",
    "train_img_folders = [img_dir + case for case in train_cases]\n",
    "val_img_folders = [img_dir + case for case in val_cases]\n",
    "test_img_folders = [img_dir + case for case in test_cases]\n",
    "\n",
    "# Contains the file path for each .pt file for the cases used in each of the sets\n",
    "train_labels = [labels_dir + case + '.pt' for case in train_cases]\n",
    "val_labels = [labels_dir + case + '.pt' for case in val_cases]\n",
    "test_labels = [labels_dir + case + '.pt' for case in test_cases]\n",
    "\n",
    "image_datasets = {\n",
    "    'train': CustomDataset(train_img_folders, train_labels, transform=data_transforms['train']),\n",
    "    'val': CustomDataset(val_img_folders, val_labels, transform=data_transforms['val']),\n",
    "    'test': CustomDataset(test_img_folders, test_labels, transform=data_transforms['test'])\n",
    "}\n",
    "# Create training, validation and test dataloaders\n",
    "dataloaders = {\n",
    "    'train': data_utils.DataLoader(image_datasets['train'], batch_size=batch_size, shuffle=True),\n",
    "    'val': data_utils.DataLoader(image_datasets['val'], batch_size=batch_size, shuffle=True),\n",
    "    'test': data_utils.DataLoader(image_datasets['test'], batch_size=batch_size, shuffle=True)\n",
    "}"
   ]
  },
  {
   "cell_type": "code",
   "execution_count": null,
   "metadata": {},
   "outputs": [],
   "source": [
    "# WORK WITH SMALL SAMPLE OF DATA and IGNORE TEST DATA\n",
    " \n",
    "img_dir = '../data/patches/'\n",
    "labels_dir = '../data/labels/'\n",
    "\n",
    "split=[3, 1.5, 1.5]\n",
    "train_cases, val_cases, test_cases = split_data(img_dir, split, SEED)\n",
    "\n",
    "train_img_folders = [img_dir + case for case in train_cases]\n",
    "val_img_folders = [img_dir + case for case in val_cases]\n",
    "\n",
    "# Contains the file path for each .pt file for the cases used in each of the sets\n",
    "train_labels = [labels_dir + case + '.pt' for case in train_cases]\n",
    "val_labels = [labels_dir + case + '.pt' for case in val_cases]\n",
    "\n",
    "image_datasets = {\n",
    "    'train': CustomDataset(train_img_folders, train_labels, transform=data_transforms['train']),\n",
    "    'val': CustomDataset(val_img_folders, val_labels, transform=data_transforms['val'])\n",
    "}\n",
    "# Create training, validation and test dataloaders\n",
    "dataloaders = {\n",
    "    'train': data_utils.DataLoader(image_datasets['train'], batch_size=batch_size, shuffle=True),\n",
    "    'val': data_utils.DataLoader(image_datasets['val'], batch_size=batch_size, shuffle=True)\n",
    "}"
   ]
  },
  {
   "cell_type": "code",
   "execution_count": null,
   "metadata": {},
   "outputs": [],
   "source": [
    "dataset = image_datasets['train'] # check it is an object of the custom class\n",
    "print(dataset)"
   ]
  },
  {
   "cell_type": "code",
   "execution_count": null,
   "metadata": {},
   "outputs": [],
   "source": [
    "# Visualise some examples to check custom class is working\n",
    "import matplotlib.pyplot as plt\n",
    "\n",
    "mean = [0.485, 0.456, 0.406]\n",
    "std = [0.229, 0.224, 0.225]\n",
    "\n",
    "fig = plt.figure(figsize=(8, 8))\n",
    "\n",
    "for i in range(len(dataset)):\n",
    "    \n",
    "    sample = dataset[1900+ 80*i]\n",
    "\n",
    "    # print(i, sample[0].shape, sample[1])\n",
    "\n",
    "    ax = plt.subplot(3, 3, i + 1)\n",
    "    plt.tight_layout()\n",
    "    ax.set_title(f'class {sample[1]}')\n",
    "    ax.axis('off')\n",
    "    img = np.transpose(sample[0].numpy(), (1, 2, 0))\n",
    "    # img = img.astype('float') / np.max(img)\n",
    "    img = img * std + mean\n",
    "    # print(np.min(img), np.max(img))\n",
    "    plt.imshow(img)\n",
    "    if i == 8:\n",
    "        plt.show()\n",
    "        break"
   ]
  },
  {
   "cell_type": "code",
   "execution_count": null,
   "metadata": {},
   "outputs": [],
   "source": [
    "# Initialize the model for this run\n",
    "model_ft, input_size = initialize_model(num_classes, feature_extract, use_pretrained=True)\n",
    "\n",
    "# Print the model we just instantiated\n",
    "print(model_ft)"
   ]
  },
  {
   "cell_type": "code",
   "execution_count": null,
   "metadata": {},
   "outputs": [],
   "source": [
    "# Detect if we have a GPU available\n",
    "device = torch.device(\"cuda:0\" if torch.cuda.is_available() else \"cpu\")"
   ]
  },
  {
   "cell_type": "code",
   "execution_count": null,
   "metadata": {},
   "outputs": [],
   "source": [
    "# Send the model to GPU\n",
    "model_ft = model_ft.to(device)\n",
    "\n",
    "# Gather the parameters to be optimized/updated in this run. If we are\n",
    "#  finetuning we will be updating all parameters. However, if we are\n",
    "#  doing feature extract method, we will only update the parameters\n",
    "#  that we have just initialized, i.e. the parameters with requires_grad\n",
    "#  is True.\n",
    "params_to_update = model_ft.parameters()\n",
    "print(\"Params to learn:\")\n",
    "if feature_extract:\n",
    "    params_to_update = []\n",
    "    for name,param in model_ft.named_parameters():\n",
    "        if param.requires_grad == True:\n",
    "            params_to_update.append(param)\n",
    "            print(\"\\t\",name)\n",
    "else:\n",
    "    for name,param in model_ft.named_parameters():\n",
    "        if param.requires_grad == True:\n",
    "            print(\"\\t\",name)"
   ]
  },
  {
   "cell_type": "code",
   "execution_count": null,
   "metadata": {},
   "outputs": [],
   "source": [
    "# Observe that all parameters are being optimized\n",
    "# optimizer_ft = optim.RMSprop(params_to_update, lr=0.1, weight_decay=0.9, momentum=0.9, eps=1.0)\n",
    "optimizer_ft = optim.SGD(params_to_update, lr=0.01, momentum=0.9)\n",
    "\n",
    "# Setup the loss fxn\n",
    "criterion = nn.CrossEntropyLoss()"
   ]
  },
  {
   "cell_type": "code",
   "execution_count": null,
   "metadata": {},
   "outputs": [],
   "source": [
    "# Train and evaluate\n",
    "model_ft, hist = train_model(model_ft, dataloaders, criterion, optimizer_ft, num_epochs=num_epochs, is_inception=True)"
   ]
  },
  {
   "cell_type": "markdown",
   "metadata": {},
   "source": [
    "Look at data used in tutorial"
   ]
  },
  {
   "cell_type": "code",
   "execution_count": null,
   "metadata": {},
   "outputs": [],
   "source": [
    "data_dir = \"/Users/alexandrasmith/Downloads/hymenoptera_data\""
   ]
  },
  {
   "cell_type": "code",
   "execution_count": null,
   "metadata": {},
   "outputs": [],
   "source": [
    "# Data augmentation and normalization for training\n",
    "# Just normalization for validation\n",
    "data_transforms = {\n",
    "    'train': transforms.Compose([\n",
    "        transforms.RandomResizedCrop(input_size),\n",
    "        transforms.RandomHorizontalFlip(),\n",
    "        transforms.ToTensor(),\n",
    "        transforms.Normalize([0.485, 0.456, 0.406], [0.229, 0.224, 0.225])\n",
    "    ]),\n",
    "    'val': transforms.Compose([\n",
    "        transforms.Resize(input_size),\n",
    "        transforms.CenterCrop(input_size),\n",
    "        transforms.ToTensor(),\n",
    "        transforms.Normalize([0.485, 0.456, 0.406], [0.229, 0.224, 0.225])\n",
    "    ]),\n",
    "}\n",
    "\n",
    "print(\"Initializing Datasets and Dataloaders...\")\n",
    "\n",
    "# Create training and validation datasets\n",
    "image_datasets = {x: datasets.ImageFolder(os.path.join(data_dir, x), data_transforms[x]) for x in ['train', 'val']}\n",
    "# Create training and validation dataloaders\n",
    "dataloaders_dict = {x: torch.utils.data.DataLoader(image_datasets[x], batch_size=batch_size, shuffle=True, num_workers=4) for x in ['train', 'val']}"
   ]
  },
  {
   "cell_type": "code",
   "execution_count": null,
   "metadata": {},
   "outputs": [],
   "source": [
    "tr = dataloaders_dict['train']\n",
    "val = dataloaders_dict['val']\n",
    "\n",
    "train_features, train_labels = next(iter(tr))\n",
    "\n",
    "print(f\"Feature batch shape: {train_features.size()}\")\n",
    "print(f\"Labels batch shape: {train_labels.size()}\")\n",
    "img = train_features[0].squeeze()\n",
    "label = train_labels[0]"
   ]
  },
  {
   "cell_type": "code",
   "execution_count": null,
   "metadata": {},
   "outputs": [],
   "source": [
    "print(len(tr.dataset))\n",
    "print(len(val.dataset))"
   ]
  },
  {
   "cell_type": "code",
   "execution_count": null,
   "metadata": {},
   "outputs": [],
   "source": [
    "print(len(tr))"
   ]
  }
 ],
 "metadata": {
  "kernelspec": {
   "display_name": "env",
   "language": "python",
   "name": "env"
  },
  "language_info": {
   "codemirror_mode": {
    "name": "ipython",
    "version": 3
   },
   "file_extension": ".py",
   "mimetype": "text/x-python",
   "name": "python",
   "nbconvert_exporter": "python",
   "pygments_lexer": "ipython3",
   "version": "3.10.8"
  },
  "vscode": {
   "interpreter": {
    "hash": "916dbcbb3f70747c44a77c7bcd40155683ae19c65e1c03b4aa3499c5328201f1"
   }
  }
 },
 "nbformat": 4,
 "nbformat_minor": 4
}
