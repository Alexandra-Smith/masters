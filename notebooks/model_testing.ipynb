{
 "cells": [
  {
   "attachments": {},
   "cell_type": "markdown",
   "metadata": {},
   "source": [
    "## Fine-tuning torchvision models\n",
    "\n",
    "### Tutorial from https://pytorch.org/tutorials/beginner/finetuning_torchvision_models_tutorial.html#inception-v3"
   ]
  },
  {
   "cell_type": "code",
   "execution_count": 26,
   "metadata": {},
   "outputs": [
    {
     "name": "stdout",
     "output_type": "stream",
     "text": [
      "PyTorch Version:  1.13.1\n",
      "Torchvision Version:  0.15.0a0+9b233d4\n"
     ]
    }
   ],
   "source": [
    "from __future__ import print_function\n",
    "from __future__ import division\n",
    "import torch\n",
    "import torch.nn as nn\n",
    "import torch.optim as optim\n",
    "import numpy as np\n",
    "import torchvision\n",
    "from torchvision import datasets, models, transforms\n",
    "import torch.utils.data as data_utils\n",
    "import matplotlib.pyplot as plt\n",
    "import time\n",
    "import os\n",
    "import random\n",
    "import copy\n",
    "from PIL import Image\n",
    "from torch.utils.data import Dataset\n",
    "print(\"PyTorch Version: \",torch.__version__)\n",
    "print(\"Torchvision Version: \",torchvision.__version__)"
   ]
  },
  {
   "attachments": {},
   "cell_type": "markdown",
   "metadata": {},
   "source": [
    "### Define a few helper functions"
   ]
  },
  {
   "cell_type": "code",
   "execution_count": 4,
   "metadata": {},
   "outputs": [],
   "source": [
    "def train_model(model, dataloaders, criterion, optimizer, num_epochs=num_epochs, is_inception=False):\n",
    "    since = time.time()\n",
    "\n",
    "    val_acc_history = []\n",
    "\n",
    "    best_model_wts = copy.deepcopy(model.state_dict())\n",
    "    best_acc = 0.0\n",
    "\n",
    "    for epoch in range(num_epochs):\n",
    "        print('Epoch {}/{}'.format(epoch, num_epochs - 1))\n",
    "        print('-' * 10)\n",
    "\n",
    "        # phase = \"train\"\n",
    "        # model.train()\n",
    "\n",
    "        # Each epoch has a training and validation phase\n",
    "        for phase in ['train', 'val']:\n",
    "            if phase == 'train':\n",
    "                model.train()  # Set model to training mode\n",
    "            else:\n",
    "                model.eval()   # Set model to evaluate mode\n",
    "\n",
    "            running_loss = 0.0\n",
    "            running_corrects = 0\n",
    "\n",
    "            # # Iterate over data.\n",
    "            # for inputs, labels in dataloaders:\n",
    "            #     inputs = inputs.to(device)\n",
    "            #     labels = labels.to(device)\n",
    "            # Iterate over data.\n",
    "            for inputs, labels in dataloaders[phase]:\n",
    "                inputs = inputs.to(device)\n",
    "                labels = labels.to(device)\n",
    "\n",
    "                # zero the parameter gradients\n",
    "                optimizer.zero_grad()\n",
    "\n",
    "                # forward\n",
    "                # track history if only in train\n",
    "                with torch.set_grad_enabled(phase == 'train'):\n",
    "                    # Get model outputs and calculate loss\n",
    "                    # Special case for inception because in training it has an auxiliary output. In train\n",
    "                    #   mode we calculate the loss by summing the final output and the auxiliary output\n",
    "                    #   but in testing we only consider the final output.\n",
    "                    if is_inception and phase == 'train':\n",
    "                        # From https://discuss.pytorch.org/t/how-to-optimize-inception-model-with-auxiliary-classifiers/7958\n",
    "                        outputs, aux_outputs = model(inputs)\n",
    "                        loss1 = criterion(outputs, labels)\n",
    "                        loss2 = criterion(aux_outputs, labels)\n",
    "                        loss = loss1 + 0.4*loss2\n",
    "                    else:\n",
    "                        outputs = model(inputs)\n",
    "                        loss = criterion(outputs, labels)\n",
    "\n",
    "                    _, preds = torch.max(outputs, 1)\n",
    "\n",
    "                    # backward + optimize only if in training phase\n",
    "                    if phase == 'train':\n",
    "                        loss.backward()\n",
    "                        optimizer.step()\n",
    "\n",
    "                # statistics\n",
    "                running_loss += loss.item() * inputs.size(0)\n",
    "                running_corrects += torch.sum(preds == labels.data)\n",
    "\n",
    "            # epoch_loss = running_loss / len(dataloaders.dataset)\n",
    "            # epoch_acc = running_corrects.double() / len(dataloaders.dataset)\n",
    "            epoch_loss = running_loss / len(dataloaders[phase].dataset)\n",
    "            epoch_acc = running_corrects.double() / len(dataloaders[phase].dataset)\n",
    "\n",
    "            print('{} Loss: {:.4f} Acc: {:.4f}'.format(phase, epoch_loss, epoch_acc))\n",
    "\n",
    "            # deep copy the model\n",
    "            if phase == 'val' and epoch_acc > best_acc:\n",
    "                best_acc = epoch_acc\n",
    "                best_model_wts = copy.deepcopy(model.state_dict())\n",
    "            if phase == 'val':\n",
    "                val_acc_history.append(epoch_acc)\n",
    "\n",
    "        print()\n",
    "\n",
    "    time_elapsed = time.time() - since\n",
    "    print('Training complete in {:.0f}m {:.0f}s'.format(time_elapsed // 60, time_elapsed % 60))\n",
    "    print('Best val Acc: {:4f}'.format(best_acc))\n",
    "\n",
    "    # load best model weights\n",
    "    model.load_state_dict(best_model_wts)\n",
    "    return model, val_acc_history\n",
    "\n",
    "def set_parameter_requires_grad(model, feature_extracting):\n",
    "    if feature_extracting:\n",
    "        for param in model.parameters():\n",
    "            param.requires_grad = False"
   ]
  },
  {
   "cell_type": "code",
   "execution_count": 5,
   "metadata": {},
   "outputs": [],
   "source": [
    "def initialize_model(num_classes, feature_extract, use_pretrained=True):\n",
    "    model_ft = None\n",
    "    input_size = 0\n",
    "    \"\"\" Inception v3\n",
    "    Be careful, expects (299,299) sized images and has auxiliary output\n",
    "    \"\"\"\n",
    "    model_ft = models.inception_v3(pretrained=use_pretrained)\n",
    "    set_parameter_requires_grad(model_ft, feature_extract)\n",
    "    # Need to reshape both the primary output layer and the auxiliary output layer\n",
    "    # Handle the auxilary net\n",
    "    num_ftrs = model_ft.AuxLogits.fc.in_features\n",
    "    model_ft.AuxLogits.fc = nn.Linear(num_ftrs, num_classes)\n",
    "    # Handle the primary net\n",
    "    num_ftrs = model_ft.fc.in_features\n",
    "    model_ft.fc = nn.Linear(num_ftrs, num_classes)\n",
    "    input_size = 299\n",
    "\n",
    "    return model_ft, input_size"
   ]
  },
  {
   "cell_type": "code",
   "execution_count": 125,
   "metadata": {},
   "outputs": [],
   "source": [
    "# Split image folders into train, val, test\n",
    "def split_data(patch_directory, split: list, seed):\n",
    "    '''\n",
    "    Function that takes in the split percentage for train/val/test sets, and randomly chooses which cases\n",
    "    to allocate to which set (to ensure all patches from one case go into one set)\n",
    "    Parameters:\n",
    "    patch_directory: folder containing all patches\n",
    "    split: list of integers for splitting sets\n",
    "    seed: option to set the seed value for randomness\n",
    "    Returns:\n",
    "    3 lists for each of train/val/test, where each list contains the case names to be used in the set\n",
    "    '''\n",
    "    \n",
    "    random.seed(seed)\n",
    "\n",
    "    case_folders = os.listdir(patch_directory) # get 147 case folders\n",
    "    \n",
    "    d = {}\n",
    "    for folder in case_folders:\n",
    "        num_patches_in_folder = len(os.listdir(patch_directory + folder))\n",
    "        d[folder] = num_patches_in_folder\n",
    "    \n",
    "    total_num_patches = sum(d.values())\n",
    "    train_split, val_split, test_split = split\n",
    "    train_num_patches = int((train_split/100)*total_num_patches)\n",
    "    val_num_patches = int((val_split/100)*total_num_patches)\n",
    "\n",
    "    # list all folders in the directory\n",
    "    folders = [os.path.join(patch_directory, folder) for folder in os.listdir(patch_directory) if os.path.isdir(os.path.join(patch_directory, folder))]\n",
    "    \n",
    "    # SELECT TRAINING CASES\n",
    "    train_cases = [] # store all selected cases\n",
    "    num_selected_train = 0 # number of patches selected so far\n",
    "    selected_folders = set() # a set to store the selected folder names to keep track of those already selected\n",
    "    while num_selected_train < train_num_patches:\n",
    "        folder = random.choice(folders)\n",
    "        if folder not in selected_folders:\n",
    "            case = folder.replace(patch_directory, '')\n",
    "            num_patches = len(os.listdir(folder))\n",
    "            num_selected_train += num_patches\n",
    "            selected_folders.add(folder) # add to set of selected folders\n",
    "            train_cases.append(case)\n",
    "\n",
    "    # SELECT VAL CASES\n",
    "    val_cases = [] # store all selected cases\n",
    "    num_selected_val = 0 # number of patches selected so far\n",
    "    while num_selected_val < val_num_patches:\n",
    "        folder = random.choice(folders)\n",
    "        if folder not in selected_folders:\n",
    "            case = folder.replace(patch_directory, '')\n",
    "            num_patches = len(os.listdir(folder))\n",
    "            num_selected_val += num_patches\n",
    "            selected_folders.add(folder)\n",
    "            val_cases.append(case)\n",
    "\n",
    "    # SELECT TEST CASES\n",
    "    cases = [folder.replace(patch_directory, '') for folder in folders]\n",
    "    used = train_cases+val_cases\n",
    "    test_cases = [case for case in cases if case not in used]\n",
    "    \n",
    "    # test_patches = [len(os.listdir(patch_directory + folder)) for folder in test_cases]\n",
    "    num_selected_test = sum([len(os.listdir(patch_directory + folder)) for folder in test_cases])\n",
    "    # dict = {x: for x in ['train', 'val', 'test']}\n",
    "    print(f\"Number of training patches: {num_selected_train} \\nNumber of validation patches {num_selected_val} \\nNumber of test patches {num_selected_test}\")\n",
    "    return train_cases, val_cases, test_cases"
   ]
  },
  {
   "cell_type": "code",
   "execution_count": 139,
   "metadata": {},
   "outputs": [],
   "source": [
    "# Create a custom PyTorch dataset to read in your images and apply transforms\n",
    "\n",
    "class CustomDataset(Dataset):\n",
    "    def __init__(self, img_folders, label_files, transform=None):\n",
    "        self.img_folders = img_folders\n",
    "        self.label_files = label_files\n",
    "        self.transform = transform\n",
    "\n",
    "        self.imgs = [] # Keeps image paths to load in the __getitem__ method\n",
    "        self.labels = []\n",
    "\n",
    "        # Load images and corresponding labels\n",
    "        for i, (img_folder, label_file) in enumerate(zip(img_folders, label_files)):\n",
    "            # print(\"Patch directory\", img_folder, \"\\nLabel file\", label_file)\n",
    "            labels_pt = torch.load(label_file) # Load .pt file\n",
    "            # Run through all patches from the case folder\n",
    "            for i, img in enumerate(os.listdir(img_folder)):\n",
    "                if os.path.isfile(img_folder + img) and os.path.isfile(label_file):\n",
    "                    print(img_folder + img)\n",
    "                    self.imgs.append(img_folder + img)\n",
    "                    self.labels.append(labels_pt[i].item()) # get label as int\n",
    "            \n",
    "            print(self.imgs, self.labels)\n",
    "        \n",
    "    def __len__(self):\n",
    "        return len(self.imgs)\n",
    "    \n",
    "    def __getitem__(self, idx):\n",
    "        # Load image at given index\n",
    "        image_path = self.imgs[idx]\n",
    "        print(image_path)\n",
    "        image = Image.open(image_path).convert('RGB')\n",
    "        \n",
    "        if self.transform is not None: # Apply transformations\n",
    "            image = self.transform(image)\n",
    "        \n",
    "        label = self.labels[idx] # Load corresponding image label\n",
    "        \n",
    "        return image, label # Return transformed image and label"
   ]
  },
  {
   "cell_type": "code",
   "execution_count": 121,
   "metadata": {},
   "outputs": [],
   "source": [
    "PATCH_SIZE=256\n",
    "STRIDE=PATCH_SIZE\n",
    "split=[70, 15, 15] # for splitting into train/val/test\n",
    "SEED = 42\n",
    "\n",
    "# Model parameters\n",
    "batch_size=32\n",
    "num_classes = 2\n",
    "num_epochs = 15\n",
    "# Flag for feature extracting. When False, we finetune the whole model,\n",
    "#   when True we only update the reshaped layer params\n",
    "feature_extract = True"
   ]
  },
  {
   "cell_type": "code",
   "execution_count": 126,
   "metadata": {},
   "outputs": [
    {
     "name": "stdout",
     "output_type": "stream",
     "text": [
      "Number of training patches: 261925 \n",
      "Number of validation patches 56191 \n",
      "Number of test patches 53024\n"
     ]
    }
   ],
   "source": [
    "dir = '/Volumes/AlexS/MastersData/processed/patches/'\n",
    "train_cases, val_cases, test_cases = split_data(dir, split, SEED)"
   ]
  },
  {
   "cell_type": "code",
   "execution_count": 127,
   "metadata": {},
   "outputs": [
    {
     "name": "stdout",
     "output_type": "stream",
     "text": [
      "True\n"
     ]
    }
   ],
   "source": [
    "# Check function\n",
    "print(len(train_cases + val_cases + test_cases) == 147)"
   ]
  },
  {
   "cell_type": "code",
   "execution_count": 131,
   "metadata": {},
   "outputs": [],
   "source": [
    "# Initialise data transforms\n",
    "INPUT_SIZE=299 ### InceptionV3 takes in 299x299 as input\n",
    "data_transforms = {\n",
    "    'train': transforms.Compose([\n",
    "        transforms.Resize(INPUT_SIZE),\n",
    "        transforms.RandomHorizontalFlip(),\n",
    "        transforms.ToTensor(),\n",
    "        transforms.Normalize([0.485, 0.456, 0.406], [0.229, 0.224, 0.225])\n",
    "    ]),\n",
    "    'val': transforms.Compose([\n",
    "        transforms.Resize(INPUT_SIZE),\n",
    "        transforms.ToTensor(),\n",
    "        transforms.Normalize([0.485, 0.456, 0.406], [0.229, 0.224, 0.225])\n",
    "    ]),\n",
    "    'test' : transforms.Compose([\n",
    "        transforms.Resize(INPUT_SIZE),\n",
    "        transforms.ToTensor(),\n",
    "        transforms.Normalize([0.485, 0.456, 0.406], [0.229, 0.224, 0.225])\n",
    "    ]),\n",
    "}"
   ]
  },
  {
   "cell_type": "code",
   "execution_count": 140,
   "metadata": {},
   "outputs": [
    {
     "name": "stdout",
     "output_type": "stream",
     "text": [
      "[] []\n",
      "[] []\n",
      "[] []\n",
      "[] []\n",
      "[] []\n",
      "[] []\n",
      "[] []\n",
      "[] []\n",
      "[] []\n",
      "[] []\n",
      "[] []\n",
      "[] []\n",
      "[] []\n",
      "[] []\n",
      "[] []\n",
      "[] []\n",
      "[] []\n",
      "[] []\n",
      "[] []\n",
      "[] []\n",
      "[] []\n",
      "[] []\n",
      "[] []\n",
      "[] []\n",
      "[] []\n",
      "[] []\n",
      "[] []\n",
      "[] []\n",
      "[] []\n",
      "[] []\n",
      "[] []\n",
      "[] []\n",
      "[] []\n",
      "[] []\n",
      "[] []\n",
      "[] []\n",
      "[] []\n",
      "[] []\n",
      "[] []\n",
      "[] []\n",
      "[] []\n",
      "[] []\n",
      "[] []\n",
      "[] []\n",
      "[] []\n",
      "[] []\n",
      "[] []\n",
      "[] []\n",
      "[] []\n",
      "[] []\n",
      "[] []\n",
      "[] []\n",
      "[] []\n",
      "[] []\n",
      "[] []\n",
      "[] []\n",
      "[] []\n",
      "[] []\n",
      "[] []\n",
      "[] []\n",
      "[] []\n",
      "[] []\n",
      "[] []\n",
      "[] []\n",
      "[] []\n",
      "[] []\n",
      "[] []\n",
      "[] []\n",
      "[] []\n",
      "[] []\n",
      "[] []\n",
      "[] []\n",
      "[] []\n",
      "[] []\n",
      "[] []\n",
      "[] []\n",
      "[] []\n",
      "[] []\n",
      "[] []\n",
      "[] []\n",
      "[] []\n",
      "[] []\n",
      "[] []\n",
      "[] []\n",
      "[] []\n",
      "[] []\n",
      "[] []\n",
      "[] []\n",
      "[] []\n",
      "[] []\n",
      "[] []\n",
      "[] []\n",
      "[] []\n",
      "[] []\n",
      "[] []\n",
      "[] []\n",
      "[] []\n",
      "[] []\n",
      "[] []\n",
      "[] []\n",
      "[] []\n",
      "[] []\n",
      "[] []\n",
      "[] []\n",
      "[] []\n",
      "[] []\n",
      "[] []\n",
      "[] []\n",
      "[] []\n",
      "[] []\n",
      "[] []\n",
      "[] []\n",
      "[] []\n",
      "[] []\n"
     ]
    },
    {
     "ename": "KeyboardInterrupt",
     "evalue": "",
     "output_type": "error",
     "traceback": [
      "\u001b[0;31m---------------------------------------------------------------------------\u001b[0m",
      "\u001b[0;31mFileNotFoundError\u001b[0m                         Traceback (most recent call last)",
      "File \u001b[0;32m~/miniforge3/envs/masters/lib/python3.8/genericpath.py:30\u001b[0m, in \u001b[0;36misfile\u001b[0;34m(path)\u001b[0m\n\u001b[1;32m     29\u001b[0m \u001b[39mtry\u001b[39;00m:\n\u001b[0;32m---> 30\u001b[0m     st \u001b[39m=\u001b[39m os\u001b[39m.\u001b[39;49mstat(path)\n\u001b[1;32m     31\u001b[0m \u001b[39mexcept\u001b[39;00m (\u001b[39mOSError\u001b[39;00m, \u001b[39mValueError\u001b[39;00m):\n",
      "\u001b[0;31mFileNotFoundError\u001b[0m: [Errno 2] No such file or directory: '/Volumes/AlexS/MastersData/processed/patches/C8-A278C8-A278_1659.png'",
      "\nDuring handling of the above exception, another exception occurred:\n",
      "\u001b[0;31mKeyboardInterrupt\u001b[0m                         Traceback (most recent call last)",
      "\u001b[1;32m/Users/alexandrasmith/Desktop/Workspace/Projects/masters/notebooks/model_testing.ipynb Cell 12\u001b[0m in \u001b[0;36m1\n\u001b[1;32m     <a href='vscode-notebook-cell:/Users/alexandrasmith/Desktop/Workspace/Projects/masters/notebooks/model_testing.ipynb#X34sZmlsZQ%3D%3D?line=10'>11</a>\u001b[0m val_labels \u001b[39m=\u001b[39m [labels_dir \u001b[39m+\u001b[39m case \u001b[39m+\u001b[39m \u001b[39m'\u001b[39m\u001b[39m.pt\u001b[39m\u001b[39m'\u001b[39m \u001b[39mfor\u001b[39;00m case \u001b[39min\u001b[39;00m val_cases]\n\u001b[1;32m     <a href='vscode-notebook-cell:/Users/alexandrasmith/Desktop/Workspace/Projects/masters/notebooks/model_testing.ipynb#X34sZmlsZQ%3D%3D?line=11'>12</a>\u001b[0m test_labels \u001b[39m=\u001b[39m [labels_dir \u001b[39m+\u001b[39m case \u001b[39m+\u001b[39m \u001b[39m'\u001b[39m\u001b[39m.pt\u001b[39m\u001b[39m'\u001b[39m \u001b[39mfor\u001b[39;00m case \u001b[39min\u001b[39;00m test_cases]\n\u001b[1;32m     <a href='vscode-notebook-cell:/Users/alexandrasmith/Desktop/Workspace/Projects/masters/notebooks/model_testing.ipynb#X34sZmlsZQ%3D%3D?line=13'>14</a>\u001b[0m image_datasets \u001b[39m=\u001b[39m {\n\u001b[1;32m     <a href='vscode-notebook-cell:/Users/alexandrasmith/Desktop/Workspace/Projects/masters/notebooks/model_testing.ipynb#X34sZmlsZQ%3D%3D?line=14'>15</a>\u001b[0m     \u001b[39m'\u001b[39m\u001b[39mtrain\u001b[39m\u001b[39m'\u001b[39m: CustomDataset(train_img_folders, train_labels, transform\u001b[39m=\u001b[39mdata_transforms[\u001b[39m'\u001b[39m\u001b[39mtrain\u001b[39m\u001b[39m'\u001b[39m]),\n\u001b[0;32m---> <a href='vscode-notebook-cell:/Users/alexandrasmith/Desktop/Workspace/Projects/masters/notebooks/model_testing.ipynb#X34sZmlsZQ%3D%3D?line=15'>16</a>\u001b[0m     \u001b[39m'\u001b[39m\u001b[39mval\u001b[39m\u001b[39m'\u001b[39m: CustomDataset(val_img_folders, val_labels, transform\u001b[39m=\u001b[39;49mdata_transforms[\u001b[39m'\u001b[39;49m\u001b[39mval\u001b[39;49m\u001b[39m'\u001b[39;49m]),\n\u001b[1;32m     <a href='vscode-notebook-cell:/Users/alexandrasmith/Desktop/Workspace/Projects/masters/notebooks/model_testing.ipynb#X34sZmlsZQ%3D%3D?line=16'>17</a>\u001b[0m     \u001b[39m'\u001b[39m\u001b[39mtest\u001b[39m\u001b[39m'\u001b[39m: CustomDataset(test_img_folders, test_labels, transform\u001b[39m=\u001b[39mdata_transforms[\u001b[39m'\u001b[39m\u001b[39mtest\u001b[39m\u001b[39m'\u001b[39m])\n\u001b[1;32m     <a href='vscode-notebook-cell:/Users/alexandrasmith/Desktop/Workspace/Projects/masters/notebooks/model_testing.ipynb#X34sZmlsZQ%3D%3D?line=17'>18</a>\u001b[0m }\n",
      "\u001b[1;32m/Users/alexandrasmith/Desktop/Workspace/Projects/masters/notebooks/model_testing.ipynb Cell 12\u001b[0m in \u001b[0;36m1\n\u001b[1;32m     <a href='vscode-notebook-cell:/Users/alexandrasmith/Desktop/Workspace/Projects/masters/notebooks/model_testing.ipynb#X34sZmlsZQ%3D%3D?line=15'>16</a>\u001b[0m \u001b[39m# Run through all patches from the case folder\u001b[39;00m\n\u001b[1;32m     <a href='vscode-notebook-cell:/Users/alexandrasmith/Desktop/Workspace/Projects/masters/notebooks/model_testing.ipynb#X34sZmlsZQ%3D%3D?line=16'>17</a>\u001b[0m \u001b[39mfor\u001b[39;00m i, img \u001b[39min\u001b[39;00m \u001b[39menumerate\u001b[39m(os\u001b[39m.\u001b[39mlistdir(img_folder)):\n\u001b[0;32m---> <a href='vscode-notebook-cell:/Users/alexandrasmith/Desktop/Workspace/Projects/masters/notebooks/model_testing.ipynb#X34sZmlsZQ%3D%3D?line=17'>18</a>\u001b[0m     \u001b[39mif\u001b[39;00m os\u001b[39m.\u001b[39;49mpath\u001b[39m.\u001b[39;49misfile(img_folder \u001b[39m+\u001b[39;49m img) \u001b[39mand\u001b[39;00m os\u001b[39m.\u001b[39mpath\u001b[39m.\u001b[39misfile(label_file):\n\u001b[1;32m     <a href='vscode-notebook-cell:/Users/alexandrasmith/Desktop/Workspace/Projects/masters/notebooks/model_testing.ipynb#X34sZmlsZQ%3D%3D?line=18'>19</a>\u001b[0m         \u001b[39mself\u001b[39m\u001b[39m.\u001b[39mimgs\u001b[39m.\u001b[39mappend(img_folder \u001b[39m+\u001b[39m img)\n\u001b[1;32m     <a href='vscode-notebook-cell:/Users/alexandrasmith/Desktop/Workspace/Projects/masters/notebooks/model_testing.ipynb#X34sZmlsZQ%3D%3D?line=19'>20</a>\u001b[0m         \u001b[39mself\u001b[39m\u001b[39m.\u001b[39mlabels\u001b[39m.\u001b[39mappend(labels_pt[i]\u001b[39m.\u001b[39mitem()) \u001b[39m# get label as int\u001b[39;00m\n",
      "File \u001b[0;32m~/miniforge3/envs/masters/lib/python3.8/genericpath.py:30\u001b[0m, in \u001b[0;36misfile\u001b[0;34m(path)\u001b[0m\n\u001b[1;32m     28\u001b[0m \u001b[39m\"\"\"Test whether a path is a regular file\"\"\"\u001b[39;00m\n\u001b[1;32m     29\u001b[0m \u001b[39mtry\u001b[39;00m:\n\u001b[0;32m---> 30\u001b[0m     st \u001b[39m=\u001b[39m os\u001b[39m.\u001b[39;49mstat(path)\n\u001b[1;32m     31\u001b[0m \u001b[39mexcept\u001b[39;00m (\u001b[39mOSError\u001b[39;00m, \u001b[39mValueError\u001b[39;00m):\n\u001b[1;32m     32\u001b[0m     \u001b[39mreturn\u001b[39;00m \u001b[39mFalse\u001b[39;00m\n",
      "\u001b[0;31mKeyboardInterrupt\u001b[0m: "
     ]
    }
   ],
   "source": [
    "# Directories for PATCHES\n",
    "img_dir = '/Volumes/AlexS/MastersData/processed/patches/'\n",
    "labels_dir = '/Volumes/AlexS/MastersData/processed/labels/'\n",
    "\n",
    "train_img_folders = [img_dir + case for case in train_cases]\n",
    "val_img_folders = [img_dir + case for case in val_cases]\n",
    "test_img_folders = [img_dir + case for case in test_cases]\n",
    "\n",
    "# Contains the file path for each .pt file for the cases used in each of the sets\n",
    "train_labels = [labels_dir + case + '.pt' for case in train_cases]\n",
    "val_labels = [labels_dir + case + '.pt' for case in val_cases]\n",
    "test_labels = [labels_dir + case + '.pt' for case in test_cases]\n",
    "\n",
    "image_datasets = {\n",
    "    'train': CustomDataset(train_img_folders, train_labels, transform=data_transforms['train']),\n",
    "    'val': CustomDataset(val_img_folders, val_labels, transform=data_transforms['val']),\n",
    "    'test': CustomDataset(test_img_folders, test_labels, transform=data_transforms['test'])\n",
    "}\n",
    "# Create training, validation and test dataloaders\n",
    "# dataloaders = {\n",
    "#     'train': data_utils.DataLoader(image_datasets['train'], batch_size=batch_size, shuffle=True),\n",
    "#     'val': data_utils.DataLoader(image_datasets['val'], batch_size=batch_size, shuffle=True),\n",
    "#     'test': data_utils.DataLoader(image_datasets['test'], batch_size=batch_size, shuffle=True)\n",
    "# }"
   ]
  },
  {
   "cell_type": "code",
   "execution_count": 136,
   "metadata": {},
   "outputs": [
    {
     "name": "stdout",
     "output_type": "stream",
     "text": [
      "0\n"
     ]
    }
   ],
   "source": [
    "# Check customdataset class\n",
    "tr = image_datasets['train']\n",
    "print(len(tr))"
   ]
  },
  {
   "cell_type": "code",
   "execution_count": null,
   "metadata": {},
   "outputs": [],
   "source": [
    "# Initialize the model for this run\n",
    "model_ft, input_size = initialize_model(num_classes, feature_extract, use_pretrained=True)\n",
    "\n",
    "# Print the model we just instantiated\n",
    "# print(model_ft)"
   ]
  },
  {
   "cell_type": "code",
   "execution_count": 36,
   "metadata": {},
   "outputs": [],
   "source": [
    "patches = torch.load(SAVE_DEST + \"00-patches.pt\")\n",
    "labels = torch.load(SAVE_DEST + \"00-labels.pt\")\n",
    "\n",
    "\n",
    "# model_input = preprocess(patches)\n",
    "\n",
    "data_splits = split_data()\n",
    "\n",
    "# Create datasets\n",
    "image_datasets = {x:  data_splits[x] for x in ['train', 'val', 'test']}\n",
    "\n",
    "# data = data_utils.TensorDataset(model_input, labels)\n",
    "# train_set, val_set = data_utils.random_split(data, [515, 222])\n"
   ]
  },
  {
   "cell_type": "code",
   "execution_count": 38,
   "metadata": {},
   "outputs": [],
   "source": [
    "# Detect if we have a GPU available\n",
    "device = torch.device(\"cuda:0\" if torch.cuda.is_available() else \"cpu\")"
   ]
  },
  {
   "cell_type": "code",
   "execution_count": 39,
   "metadata": {},
   "outputs": [
    {
     "name": "stdout",
     "output_type": "stream",
     "text": [
      "Params to learn:\n",
      "\t AuxLogits.fc.weight\n",
      "\t AuxLogits.fc.bias\n",
      "\t fc.weight\n",
      "\t fc.bias\n"
     ]
    }
   ],
   "source": [
    "# Send the model to GPU\n",
    "model_ft = model_ft.to(device)\n",
    "\n",
    "# Gather the parameters to be optimized/updated in this run. If we are\n",
    "#  finetuning we will be updating all parameters. However, if we are\n",
    "#  doing feature extract method, we will only update the parameters\n",
    "#  that we have just initialized, i.e. the parameters with requires_grad\n",
    "#  is True.\n",
    "params_to_update = model_ft.parameters()\n",
    "print(\"Params to learn:\")\n",
    "if feature_extract:\n",
    "    params_to_update = []\n",
    "    for name,param in model_ft.named_parameters():\n",
    "        if param.requires_grad == True:\n",
    "            params_to_update.append(param)\n",
    "            print(\"\\t\",name)\n",
    "else:\n",
    "    for name,param in model_ft.named_parameters():\n",
    "        if param.requires_grad == True:\n",
    "            print(\"\\t\",name)"
   ]
  },
  {
   "cell_type": "code",
   "execution_count": 41,
   "metadata": {},
   "outputs": [
    {
     "name": "stdout",
     "output_type": "stream",
     "text": [
      "Epoch 0/14\n",
      "----------\n",
      "train Loss: 6.2658 Acc: 0.5437\n",
      "val Loss: 0.4573 Acc: 0.7883\n",
      "\n",
      "Epoch 1/14\n",
      "----------\n",
      "train Loss: 8.7676 Acc: 0.5534\n",
      "val Loss: 3.0552 Acc: 0.3829\n",
      "\n",
      "Epoch 2/14\n",
      "----------\n",
      "train Loss: 6.5809 Acc: 0.5165\n",
      "val Loss: 5.8723 Acc: 0.3874\n",
      "\n",
      "Epoch 3/14\n",
      "----------\n",
      "train Loss: 7.3325 Acc: 0.5515\n",
      "val Loss: 6.3727 Acc: 0.3874\n",
      "\n",
      "Epoch 4/14\n",
      "----------\n",
      "train Loss: 6.1727 Acc: 0.5379\n",
      "val Loss: 6.5908 Acc: 0.3829\n",
      "\n",
      "Epoch 5/14\n",
      "----------\n",
      "train Loss: 3.4675 Acc: 0.5728\n",
      "val Loss: 3.0533 Acc: 0.5631\n",
      "\n",
      "Epoch 6/14\n",
      "----------\n",
      "train Loss: 2.9590 Acc: 0.6117\n",
      "val Loss: 2.1019 Acc: 0.4189\n",
      "\n",
      "Epoch 7/14\n",
      "----------\n",
      "train Loss: 4.9292 Acc: 0.5786\n",
      "val Loss: 0.4591 Acc: 0.7387\n",
      "\n",
      "Epoch 8/14\n",
      "----------\n",
      "train Loss: 7.4369 Acc: 0.5515\n",
      "val Loss: 4.1477 Acc: 0.3649\n",
      "\n",
      "Epoch 9/14\n",
      "----------\n",
      "train Loss: 11.0690 Acc: 0.4718\n",
      "val Loss: 17.8299 Acc: 0.3829\n",
      "\n",
      "Epoch 10/14\n",
      "----------\n",
      "train Loss: 12.4964 Acc: 0.5029\n",
      "val Loss: 2.6091 Acc: 0.4099\n",
      "\n",
      "Epoch 11/14\n",
      "----------\n",
      "train Loss: 9.5399 Acc: 0.4796\n",
      "val Loss: 3.4384 Acc: 0.5586\n",
      "\n",
      "Epoch 12/14\n",
      "----------\n",
      "train Loss: 8.2883 Acc: 0.5184\n",
      "val Loss: 7.9635 Acc: 0.5405\n",
      "\n",
      "Epoch 13/14\n",
      "----------\n",
      "train Loss: 8.7218 Acc: 0.5282\n",
      "val Loss: 6.6028 Acc: 0.5631\n",
      "\n",
      "Epoch 14/14\n",
      "----------\n",
      "train Loss: 23.1743 Acc: 0.5107\n",
      "val Loss: 20.3828 Acc: 0.5676\n",
      "\n",
      "Training complete in 31m 44s\n",
      "Best val Acc: 0.788288\n"
     ]
    }
   ],
   "source": [
    "# Observe that all parameters are being optimized\n",
    "optimizer_ft = optim.RMSprop(params_to_update, lr=0.1, weight_decay=0.9, momentum=0.9, eps=1.0)\n",
    "\n",
    "# Setup the loss fxn\n",
    "criterion = nn.CrossEntropyLoss()\n",
    "\n",
    "# Train and evaluate\n",
    "model_ft, hist = train_model(model_ft, dataloaders, criterion, optimizer_ft, num_epochs=num_epochs, is_inception=True)"
   ]
  },
  {
   "attachments": {},
   "cell_type": "markdown",
   "metadata": {},
   "source": [
    "Look at data used in tutorial"
   ]
  },
  {
   "cell_type": "code",
   "execution_count": 13,
   "metadata": {},
   "outputs": [],
   "source": [
    "data_dir = \"/Users/alexandrasmith/Downloads/hymenoptera_data\""
   ]
  },
  {
   "cell_type": "code",
   "execution_count": 14,
   "metadata": {},
   "outputs": [
    {
     "name": "stdout",
     "output_type": "stream",
     "text": [
      "Initializing Datasets and Dataloaders...\n"
     ]
    }
   ],
   "source": [
    "# Data augmentation and normalization for training\n",
    "# Just normalization for validation\n",
    "data_transforms = {\n",
    "    'train': transforms.Compose([\n",
    "        transforms.RandomResizedCrop(input_size),\n",
    "        transforms.RandomHorizontalFlip(),\n",
    "        transforms.ToTensor(),\n",
    "        transforms.Normalize([0.485, 0.456, 0.406], [0.229, 0.224, 0.225])\n",
    "    ]),\n",
    "    'val': transforms.Compose([\n",
    "        transforms.Resize(input_size),\n",
    "        transforms.CenterCrop(input_size),\n",
    "        transforms.ToTensor(),\n",
    "        transforms.Normalize([0.485, 0.456, 0.406], [0.229, 0.224, 0.225])\n",
    "    ]),\n",
    "}\n",
    "\n",
    "print(\"Initializing Datasets and Dataloaders...\")\n",
    "\n",
    "# Create training and validation datasets\n",
    "image_datasets = {x: datasets.ImageFolder(os.path.join(data_dir, x), data_transforms[x]) for x in ['train', 'val']}\n",
    "# Create training and validation dataloaders\n",
    "dataloaders_dict = {x: torch.utils.data.DataLoader(image_datasets[x], batch_size=batch_size, shuffle=True, num_workers=4) for x in ['train', 'val']}"
   ]
  },
  {
   "cell_type": "code",
   "execution_count": 33,
   "metadata": {},
   "outputs": [
    {
     "name": "stdout",
     "output_type": "stream",
     "text": [
      "Feature batch shape: torch.Size([8, 3, 299, 299])\n",
      "Labels batch shape: torch.Size([8])\n"
     ]
    }
   ],
   "source": [
    "tr = dataloaders_dict['train']\n",
    "val = dataloaders_dict['val']\n",
    "\n",
    "train_features, train_labels = next(iter(tr))\n",
    "\n",
    "print(f\"Feature batch shape: {train_features.size()}\")\n",
    "print(f\"Labels batch shape: {train_labels.size()}\")\n",
    "img = train_features[0].squeeze()\n",
    "label = train_labels[0]"
   ]
  },
  {
   "cell_type": "code",
   "execution_count": 34,
   "metadata": {},
   "outputs": [
    {
     "name": "stdout",
     "output_type": "stream",
     "text": [
      "244\n",
      "153\n"
     ]
    }
   ],
   "source": [
    "print(len(tr.dataset))\n",
    "print(len(val.dataset))"
   ]
  },
  {
   "cell_type": "code",
   "execution_count": 35,
   "metadata": {},
   "outputs": [
    {
     "name": "stdout",
     "output_type": "stream",
     "text": [
      "31\n"
     ]
    }
   ],
   "source": [
    "print(len(tr))"
   ]
  }
 ],
 "metadata": {
  "kernelspec": {
   "display_name": "masters",
   "language": "python",
   "name": "python3"
  },
  "language_info": {
   "codemirror_mode": {
    "name": "ipython",
    "version": 3
   },
   "file_extension": ".py",
   "mimetype": "text/x-python",
   "name": "python",
   "nbconvert_exporter": "python",
   "pygments_lexer": "ipython3",
   "version": "3.8.13"
  },
  "orig_nbformat": 4,
  "vscode": {
   "interpreter": {
    "hash": "ffe23d2e96a16864107ff4dcf870e48a8d9f9eb7155608451cb62e6ec1007317"
   }
  }
 },
 "nbformat": 4,
 "nbformat_minor": 2
}
