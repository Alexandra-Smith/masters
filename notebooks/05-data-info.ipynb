{
 "cells": [
  {
   "cell_type": "markdown",
   "metadata": {},
   "source": [
    "### Extract meaningful information about data to put into thesis"
   ]
  },
  {
   "cell_type": "code",
   "execution_count": 13,
   "metadata": {},
   "outputs": [],
   "source": [
    "import pandas as pd\n",
    "import numpy as np\n",
    "import matplotlib.pyplot as plt\n",
    "import matplotlib.ticker as ticker\n",
    "import plotly.express as px\n",
    "import plotly.graph_objects as go\n",
    "import seaborn as sns"
   ]
  },
  {
   "cell_type": "markdown",
   "metadata": {},
   "source": [
    "Set defaults for plotting better visuals"
   ]
  },
  {
   "cell_type": "code",
   "execution_count": 14,
   "metadata": {},
   "outputs": [],
   "source": [
    "sns.set(font='Franklin Gothic Book',\n",
    "        rc={\n",
    " 'axes.axisbelow': False,\n",
    " 'axes.edgecolor': 'lightgrey',\n",
    " 'axes.facecolor': 'None',\n",
    " 'axes.grid': False,\n",
    " 'axes.labelcolor': 'dimgrey',\n",
    " 'axes.spines.right': False,\n",
    " 'axes.spines.top': False,\n",
    " 'figure.facecolor': 'white',\n",
    " 'lines.solid_capstyle': 'round',\n",
    " 'patch.edgecolor': 'w',\n",
    " 'patch.force_edgecolor': True,\n",
    " 'text.color': 'dimgrey',\n",
    " 'xtick.bottom': False,\n",
    " 'xtick.color': 'dimgrey',\n",
    " 'xtick.direction': 'out',\n",
    " 'xtick.top': False,\n",
    " 'ytick.color': 'dimgrey',\n",
    " 'ytick.direction': 'out',\n",
    " 'ytick.left': False,\n",
    " 'ytick.right': False})\n",
    "sns.set_context(\"notebook\", rc={\"font.size\":14,\n",
    "                                \"axes.titlesize\":18,\n",
    "                                \"axes.labelsize\":14})"
   ]
  },
  {
   "cell_type": "markdown",
   "metadata": {},
   "source": [
    "Create colour palette"
   ]
  },
  {
   "cell_type": "code",
   "execution_count": 15,
   "metadata": {},
   "outputs": [],
   "source": [
    "M_darkpurple = '#783CBB'\n",
    "M_lightpurple = '#A385DB'\n",
    "# M_green = '#479C8A'\n",
    "M_green = '#0a888a'\n",
    "M_yellow = '#FFDD99'\n",
    "M_lightpink = '#EFA9CD'\n",
    "M_darkpink = '#E953AD'\n",
    "\n",
    "colour_list = [M_lightpink, M_green, M_darkpurple, M_darkpink, M_lightpurple, M_yellow]\n",
    "cd = {'lightpink': M_lightpink, 'lightpurple': M_lightpurple, 'green': M_green, 'purple': M_darkpurple, 'pink': M_darkpink, 'yellow': M_yellow}\n",
    "plt.rcParams['axes.prop_cycle'] = plt.cycler(color=colour_list)"
   ]
  },
  {
   "cell_type": "markdown",
   "metadata": {},
   "source": [
    "Read in dataframe"
   ]
  },
  {
   "cell_type": "code",
   "execution_count": 4,
   "metadata": {},
   "outputs": [],
   "source": [
    "svs_df = pd.read_excel('/Users/alexandrasmith/Desktop/Workspace/Projects/masters/data/processed/svs_data_info.xlsx')\n",
    "svs_df.drop(['Unnamed: 0'], axis=1, inplace=True)\n",
    "# display(svs_df)"
   ]
  },
  {
   "cell_type": "code",
   "execution_count": 5,
   "metadata": {},
   "outputs": [],
   "source": [
    "patches_df = pd.read_excel('/Users/alexandrasmith/Desktop/Workspace/Projects/masters/data/processed/patches_data_info.xlsx')\n",
    "patches_df.drop(['Unnamed: 0'], axis=1, inplace=True)\n",
    "patches_df.drop(patches_df.tail(2).index, inplace=True)\n",
    "# display(patches_df)"
   ]
  },
  {
   "cell_type": "markdown",
   "metadata": {},
   "source": [
    "Combine the two dataframes, based on File_name"
   ]
  },
  {
   "cell_type": "code",
   "execution_count": 6,
   "metadata": {},
   "outputs": [
    {
     "data": {
      "text/html": [
       "<div>\n",
       "<style scoped>\n",
       "    .dataframe tbody tr th:only-of-type {\n",
       "        vertical-align: middle;\n",
       "    }\n",
       "\n",
       "    .dataframe tbody tr th {\n",
       "        vertical-align: top;\n",
       "    }\n",
       "\n",
       "    .dataframe thead th {\n",
       "        text-align: right;\n",
       "    }\n",
       "</style>\n",
       "<table border=\"1\" class=\"dataframe\">\n",
       "  <thead>\n",
       "    <tr style=\"text-align: right;\">\n",
       "      <th></th>\n",
       "      <th>File_name</th>\n",
       "      <th>Level0_factor</th>\n",
       "      <th>Level1_factor</th>\n",
       "      <th>Level2_factor</th>\n",
       "      <th>Level3_factor</th>\n",
       "      <th>Level0_height</th>\n",
       "      <th>Level0_width</th>\n",
       "      <th>Level1_height</th>\n",
       "      <th>Level1_width</th>\n",
       "      <th>Level2_height</th>\n",
       "      <th>...</th>\n",
       "      <th>Level3_width</th>\n",
       "      <th>Patch_size</th>\n",
       "      <th>Stride</th>\n",
       "      <th>Total_num_of_patches</th>\n",
       "      <th>Num_of_patches_discarded</th>\n",
       "      <th>Num_of_benign_tiles</th>\n",
       "      <th>Num_of_tumourous_tiles</th>\n",
       "      <th>Total num of remaining patches</th>\n",
       "      <th>% benign</th>\n",
       "      <th>% tumourous</th>\n",
       "    </tr>\n",
       "  </thead>\n",
       "  <tbody>\n",
       "    <tr>\n",
       "      <th>0</th>\n",
       "      <td>TCGA-A8-A09K-01Z-00-DX1</td>\n",
       "      <td>1.0</td>\n",
       "      <td>4.000000</td>\n",
       "      <td>16.000000</td>\n",
       "      <td>32.000000</td>\n",
       "      <td>49408</td>\n",
       "      <td>81408</td>\n",
       "      <td>12352</td>\n",
       "      <td>20352</td>\n",
       "      <td>3088</td>\n",
       "      <td>...</td>\n",
       "      <td>2544.0</td>\n",
       "      <td>256.0</td>\n",
       "      <td>256.0</td>\n",
       "      <td>3792.0</td>\n",
       "      <td>2695.0</td>\n",
       "      <td>217</td>\n",
       "      <td>880</td>\n",
       "      <td>1097</td>\n",
       "      <td>19.781222</td>\n",
       "      <td>80.218778</td>\n",
       "    </tr>\n",
       "    <tr>\n",
       "      <th>1</th>\n",
       "      <td>TCGA-A1-A0SP-01Z-00-DX1</td>\n",
       "      <td>1.0</td>\n",
       "      <td>4.000037</td>\n",
       "      <td>16.001438</td>\n",
       "      <td>32.005217</td>\n",
       "      <td>90504</td>\n",
       "      <td>109434</td>\n",
       "      <td>22626</td>\n",
       "      <td>27358</td>\n",
       "      <td>5656</td>\n",
       "      <td>...</td>\n",
       "      <td>3419.0</td>\n",
       "      <td>256.0</td>\n",
       "      <td>256.0</td>\n",
       "      <td>9328.0</td>\n",
       "      <td>3923.0</td>\n",
       "      <td>2489</td>\n",
       "      <td>2916</td>\n",
       "      <td>5405</td>\n",
       "      <td>46.049954</td>\n",
       "      <td>53.950046</td>\n",
       "    </tr>\n",
       "    <tr>\n",
       "      <th>2</th>\n",
       "      <td>TCGA-A2-A0YG-01Z-00-DX1</td>\n",
       "      <td>1.0</td>\n",
       "      <td>4.000051</td>\n",
       "      <td>16.002389</td>\n",
       "      <td>32.004777</td>\n",
       "      <td>77998</td>\n",
       "      <td>100812</td>\n",
       "      <td>19499</td>\n",
       "      <td>25203</td>\n",
       "      <td>4874</td>\n",
       "      <td>...</td>\n",
       "      <td>3150.0</td>\n",
       "      <td>256.0</td>\n",
       "      <td>256.0</td>\n",
       "      <td>7448.0</td>\n",
       "      <td>5818.0</td>\n",
       "      <td>316</td>\n",
       "      <td>1314</td>\n",
       "      <td>1630</td>\n",
       "      <td>19.386503</td>\n",
       "      <td>80.613497</td>\n",
       "    </tr>\n",
       "    <tr>\n",
       "      <th>3</th>\n",
       "      <td>TCGA-A2-A0CX-01Z-00-DX1</td>\n",
       "      <td>1.0</td>\n",
       "      <td>4.000133</td>\n",
       "      <td>16.001814</td>\n",
       "      <td>32.003627</td>\n",
       "      <td>81606</td>\n",
       "      <td>71819</td>\n",
       "      <td>20401</td>\n",
       "      <td>17954</td>\n",
       "      <td>5100</td>\n",
       "      <td>...</td>\n",
       "      <td>2244.0</td>\n",
       "      <td>256.0</td>\n",
       "      <td>256.0</td>\n",
       "      <td>5530.0</td>\n",
       "      <td>4301.0</td>\n",
       "      <td>372</td>\n",
       "      <td>857</td>\n",
       "      <td>1229</td>\n",
       "      <td>30.268511</td>\n",
       "      <td>69.731489</td>\n",
       "    </tr>\n",
       "    <tr>\n",
       "      <th>4</th>\n",
       "      <td>TCGA-A2-A0EY-01Z-00-DX1</td>\n",
       "      <td>1.0</td>\n",
       "      <td>4.000053</td>\n",
       "      <td>16.001258</td>\n",
       "      <td>32.002516</td>\n",
       "      <td>91820</td>\n",
       "      <td>112995</td>\n",
       "      <td>22955</td>\n",
       "      <td>28248</td>\n",
       "      <td>5738</td>\n",
       "      <td>...</td>\n",
       "      <td>3531.0</td>\n",
       "      <td>256.0</td>\n",
       "      <td>256.0</td>\n",
       "      <td>9790.0</td>\n",
       "      <td>3270.0</td>\n",
       "      <td>2631</td>\n",
       "      <td>3889</td>\n",
       "      <td>6520</td>\n",
       "      <td>40.352761</td>\n",
       "      <td>59.647239</td>\n",
       "    </tr>\n",
       "    <tr>\n",
       "      <th>...</th>\n",
       "      <td>...</td>\n",
       "      <td>...</td>\n",
       "      <td>...</td>\n",
       "      <td>...</td>\n",
       "      <td>...</td>\n",
       "      <td>...</td>\n",
       "      <td>...</td>\n",
       "      <td>...</td>\n",
       "      <td>...</td>\n",
       "      <td>...</td>\n",
       "      <td>...</td>\n",
       "      <td>...</td>\n",
       "      <td>...</td>\n",
       "      <td>...</td>\n",
       "      <td>...</td>\n",
       "      <td>...</td>\n",
       "      <td>...</td>\n",
       "      <td>...</td>\n",
       "      <td>...</td>\n",
       "      <td>...</td>\n",
       "      <td>...</td>\n",
       "    </tr>\n",
       "    <tr>\n",
       "      <th>142</th>\n",
       "      <td>TCGA-E9-A249-01Z-00-DX1</td>\n",
       "      <td>1.0</td>\n",
       "      <td>4.000054</td>\n",
       "      <td>16.001208</td>\n",
       "      <td>32.002416</td>\n",
       "      <td>74662</td>\n",
       "      <td>113288</td>\n",
       "      <td>18665</td>\n",
       "      <td>28322</td>\n",
       "      <td>4666</td>\n",
       "      <td>...</td>\n",
       "      <td>3540.0</td>\n",
       "      <td>256.0</td>\n",
       "      <td>256.0</td>\n",
       "      <td>7920.0</td>\n",
       "      <td>4015.0</td>\n",
       "      <td>216</td>\n",
       "      <td>3689</td>\n",
       "      <td>3905</td>\n",
       "      <td>5.531370</td>\n",
       "      <td>94.468630</td>\n",
       "    </tr>\n",
       "    <tr>\n",
       "      <th>143</th>\n",
       "      <td>TCGA-EW-A1P4-01Z-00-DX1</td>\n",
       "      <td>1.0</td>\n",
       "      <td>4.000110</td>\n",
       "      <td>16.001159</td>\n",
       "      <td>32.002318</td>\n",
       "      <td>81190</td>\n",
       "      <td>98631</td>\n",
       "      <td>20297</td>\n",
       "      <td>24657</td>\n",
       "      <td>5074</td>\n",
       "      <td>...</td>\n",
       "      <td>3082.0</td>\n",
       "      <td>256.0</td>\n",
       "      <td>256.0</td>\n",
       "      <td>7584.0</td>\n",
       "      <td>4478.0</td>\n",
       "      <td>2939</td>\n",
       "      <td>167</td>\n",
       "      <td>3106</td>\n",
       "      <td>94.623310</td>\n",
       "      <td>5.376690</td>\n",
       "    </tr>\n",
       "    <tr>\n",
       "      <th>144</th>\n",
       "      <td>TCGA-EW-A1PA-01Z-00-DX1</td>\n",
       "      <td>1.0</td>\n",
       "      <td>4.000086</td>\n",
       "      <td>16.000672</td>\n",
       "      <td>32.004568</td>\n",
       "      <td>79409</td>\n",
       "      <td>98055</td>\n",
       "      <td>19852</td>\n",
       "      <td>24513</td>\n",
       "      <td>4963</td>\n",
       "      <td>...</td>\n",
       "      <td>3064.0</td>\n",
       "      <td>256.0</td>\n",
       "      <td>256.0</td>\n",
       "      <td>7315.0</td>\n",
       "      <td>3784.0</td>\n",
       "      <td>2023</td>\n",
       "      <td>1508</td>\n",
       "      <td>3531</td>\n",
       "      <td>57.292552</td>\n",
       "      <td>42.707448</td>\n",
       "    </tr>\n",
       "    <tr>\n",
       "      <th>145</th>\n",
       "      <td>TCGA-EW-A1PD-01Z-00-DX1</td>\n",
       "      <td>1.0</td>\n",
       "      <td>4.000100</td>\n",
       "      <td>16.001426</td>\n",
       "      <td>32.002853</td>\n",
       "      <td>85834</td>\n",
       "      <td>113287</td>\n",
       "      <td>21458</td>\n",
       "      <td>28321</td>\n",
       "      <td>5364</td>\n",
       "      <td>...</td>\n",
       "      <td>3540.0</td>\n",
       "      <td>256.0</td>\n",
       "      <td>256.0</td>\n",
       "      <td>9130.0</td>\n",
       "      <td>6137.0</td>\n",
       "      <td>2440</td>\n",
       "      <td>553</td>\n",
       "      <td>2993</td>\n",
       "      <td>81.523555</td>\n",
       "      <td>18.476445</td>\n",
       "    </tr>\n",
       "    <tr>\n",
       "      <th>146</th>\n",
       "      <td>TCGA-EW-A1PF-01Z-00-DX1</td>\n",
       "      <td>1.0</td>\n",
       "      <td>4.000050</td>\n",
       "      <td>16.001234</td>\n",
       "      <td>32.004619</td>\n",
       "      <td>83880</td>\n",
       "      <td>118999</td>\n",
       "      <td>20970</td>\n",
       "      <td>29749</td>\n",
       "      <td>5242</td>\n",
       "      <td>...</td>\n",
       "      <td>3718.0</td>\n",
       "      <td>256.0</td>\n",
       "      <td>256.0</td>\n",
       "      <td>9396.0</td>\n",
       "      <td>6424.0</td>\n",
       "      <td>2099</td>\n",
       "      <td>873</td>\n",
       "      <td>2972</td>\n",
       "      <td>70.625841</td>\n",
       "      <td>29.374159</td>\n",
       "    </tr>\n",
       "  </tbody>\n",
       "</table>\n",
       "<p>147 rows × 22 columns</p>\n",
       "</div>"
      ],
      "text/plain": [
       "                   File_name  Level0_factor  Level1_factor  Level2_factor  \\\n",
       "0    TCGA-A8-A09K-01Z-00-DX1            1.0       4.000000      16.000000   \n",
       "1    TCGA-A1-A0SP-01Z-00-DX1            1.0       4.000037      16.001438   \n",
       "2    TCGA-A2-A0YG-01Z-00-DX1            1.0       4.000051      16.002389   \n",
       "3    TCGA-A2-A0CX-01Z-00-DX1            1.0       4.000133      16.001814   \n",
       "4    TCGA-A2-A0EY-01Z-00-DX1            1.0       4.000053      16.001258   \n",
       "..                       ...            ...            ...            ...   \n",
       "142  TCGA-E9-A249-01Z-00-DX1            1.0       4.000054      16.001208   \n",
       "143  TCGA-EW-A1P4-01Z-00-DX1            1.0       4.000110      16.001159   \n",
       "144  TCGA-EW-A1PA-01Z-00-DX1            1.0       4.000086      16.000672   \n",
       "145  TCGA-EW-A1PD-01Z-00-DX1            1.0       4.000100      16.001426   \n",
       "146  TCGA-EW-A1PF-01Z-00-DX1            1.0       4.000050      16.001234   \n",
       "\n",
       "     Level3_factor  Level0_height  Level0_width  Level1_height  Level1_width  \\\n",
       "0        32.000000          49408         81408          12352         20352   \n",
       "1        32.005217          90504        109434          22626         27358   \n",
       "2        32.004777          77998        100812          19499         25203   \n",
       "3        32.003627          81606         71819          20401         17954   \n",
       "4        32.002516          91820        112995          22955         28248   \n",
       "..             ...            ...           ...            ...           ...   \n",
       "142      32.002416          74662        113288          18665         28322   \n",
       "143      32.002318          81190         98631          20297         24657   \n",
       "144      32.004568          79409         98055          19852         24513   \n",
       "145      32.002853          85834        113287          21458         28321   \n",
       "146      32.004619          83880        118999          20970         29749   \n",
       "\n",
       "     Level2_height  ...  Level3_width  Patch_size  Stride  \\\n",
       "0             3088  ...        2544.0       256.0   256.0   \n",
       "1             5656  ...        3419.0       256.0   256.0   \n",
       "2             4874  ...        3150.0       256.0   256.0   \n",
       "3             5100  ...        2244.0       256.0   256.0   \n",
       "4             5738  ...        3531.0       256.0   256.0   \n",
       "..             ...  ...           ...         ...     ...   \n",
       "142           4666  ...        3540.0       256.0   256.0   \n",
       "143           5074  ...        3082.0       256.0   256.0   \n",
       "144           4963  ...        3064.0       256.0   256.0   \n",
       "145           5364  ...        3540.0       256.0   256.0   \n",
       "146           5242  ...        3718.0       256.0   256.0   \n",
       "\n",
       "     Total_num_of_patches  Num_of_patches_discarded  Num_of_benign_tiles  \\\n",
       "0                  3792.0                    2695.0                  217   \n",
       "1                  9328.0                    3923.0                 2489   \n",
       "2                  7448.0                    5818.0                  316   \n",
       "3                  5530.0                    4301.0                  372   \n",
       "4                  9790.0                    3270.0                 2631   \n",
       "..                    ...                       ...                  ...   \n",
       "142                7920.0                    4015.0                  216   \n",
       "143                7584.0                    4478.0                 2939   \n",
       "144                7315.0                    3784.0                 2023   \n",
       "145                9130.0                    6137.0                 2440   \n",
       "146                9396.0                    6424.0                 2099   \n",
       "\n",
       "     Num_of_tumourous_tiles Total num of remaining patches   % benign  \\\n",
       "0                       880                           1097  19.781222   \n",
       "1                      2916                           5405  46.049954   \n",
       "2                      1314                           1630  19.386503   \n",
       "3                       857                           1229  30.268511   \n",
       "4                      3889                           6520  40.352761   \n",
       "..                      ...                            ...        ...   \n",
       "142                    3689                           3905   5.531370   \n",
       "143                     167                           3106  94.623310   \n",
       "144                    1508                           3531  57.292552   \n",
       "145                     553                           2993  81.523555   \n",
       "146                     873                           2972  70.625841   \n",
       "\n",
       "    % tumourous  \n",
       "0     80.218778  \n",
       "1     53.950046  \n",
       "2     80.613497  \n",
       "3     69.731489  \n",
       "4     59.647239  \n",
       "..          ...  \n",
       "142   94.468630  \n",
       "143    5.376690  \n",
       "144   42.707448  \n",
       "145   18.476445  \n",
       "146   29.374159  \n",
       "\n",
       "[147 rows x 22 columns]"
      ]
     },
     "metadata": {},
     "output_type": "display_data"
    }
   ],
   "source": [
    "df = pd.merge(svs_df, patches_df, on='File_name')\n",
    "display(df)"
   ]
  },
  {
   "cell_type": "code",
   "execution_count": 24,
   "metadata": {},
   "outputs": [
    {
     "name": "stdout",
     "output_type": "stream",
     "text": [
      "89951.51700680272\n"
     ]
    }
   ],
   "source": [
    "print(np.mean(df['Level0_width']))"
   ]
  },
  {
   "cell_type": "markdown",
   "metadata": {},
   "source": [
    "Get all columns names"
   ]
  },
  {
   "cell_type": "code",
   "execution_count": 7,
   "metadata": {},
   "outputs": [
    {
     "name": "stdout",
     "output_type": "stream",
     "text": [
      "['File_name', 'Level0_factor', 'Level1_factor', 'Level2_factor', 'Level3_factor', 'Level0_height', 'Level0_width', 'Level1_height', 'Level1_width', 'Level2_height', 'Level2_width', 'Level3_height', 'Level3_width', 'Patch_size', 'Stride', 'Total_num_of_patches', 'Num_of_patches_discarded', 'Num_of_benign_tiles', 'Num_of_tumourous_tiles', 'Total num of remaining patches', '% benign', '% tumourous']\n"
     ]
    }
   ],
   "source": [
    "cols=[]\n",
    "for col in df.columns:\n",
    "    cols.append(col)\n",
    "print(cols)"
   ]
  },
  {
   "cell_type": "markdown",
   "metadata": {},
   "source": [
    "## Histograms"
   ]
  },
  {
   "cell_type": "code",
   "execution_count": 13,
   "metadata": {},
   "outputs": [
    {
     "data": {
      "text/plain": [
       "Text(0, 0.5, 'Number of slides')"
      ]
     },
     "execution_count": 13,
     "metadata": {},
     "output_type": "execute_result"
    },
    {
     "data": {
      "image/png": "[encoded data removed]",
      "text/plain": [
       "<Figure size 500x500 with 1 Axes>"
      ]
     },
     "metadata": {},
     "output_type": "display_data"
    }
   ],
   "source": [
    "plt.rcParams[\"figure.figsize\"] = [5, 5]\n",
    "ax = plt.figure().gca()\n",
    "ax.hist(df['Total_num_of_patches'], color=cd['green'])\n",
    "ax.yaxis.set_major_locator(ticker.MaxNLocator(integer=True))\n",
    "ax.set_xlabel('Number of patches per slide')\n",
    "ax.set_ylabel('Number of slides')"
   ]
  },
  {
   "cell_type": "code",
   "execution_count": 342,
   "metadata": {},
   "outputs": [
    {
     "data": {
      "image/png": "[encoded data removed]",
      "text/plain": [
       "<Figure size 800x800 with 1 Axes>"
      ]
     },
     "metadata": {},
     "output_type": "display_data"
    }
   ],
   "source": [
    "plt.rcParams[\"figure.figsize\"] = [8, 8]\n",
    "ax = plt.figure().gca()\n",
    "ax.bar([\"Benign\", \"Malignant\"], [df['Num_of_benign_tiles'].sum(), df['Num_of_tumourous_tiles'].sum()], color=cd['pink'], width=0.45)\n",
    "for i, v in enumerate([df['Num_of_benign_tiles'].sum(), df['Num_of_tumourous_tiles'].sum()]):\n",
    "    ax.text(i, v+3000, str(v), fontweight = 'bold')\n",
    "ax.set_xlabel('Number of patches')\n",
    "ax.set_title(\"Total number of patches per class\")\n",
    "# plt.savefig('/Users/alexandrasmith/Desktop/Workspace/Projects/masters/reports/data figs/patch_split.png')"
   ]
  },
  {
   "cell_type": "code",
   "execution_count": 37,
   "metadata": {},
   "outputs": [
    {
     "data": {
      "application/vnd.plotly.v1+json": {
       "config": {
        "plotlyServerURL": "https://plot.ly"
       },
       "data": [
        {
         "alignmentgroup": "True",
         "bingroup": "x",
         "hovertemplate": "variable=Total_num_of_patches<br>Number of patches=%{x}<br>count=%{y}<extra></extra>",
         "legendgroup": "Total_num_of_patches",
         "marker": {
          "color": "darkcyan",
          "pattern": {
           "shape": ""
          }
         },
         "name": "Total_num_of_patches",
         "offsetgroup": "Total_num_of_patches",
         "orientation": "v",
         "showlegend": true,
         "type": "histogram",
         "x": [
          3792,
          9328,
          7448,
          5530,
          9790,
          9794,
          11921,
          11088,
          5621,
          4125,
          3975,
          9480,
          1517,
          1014,
          5040,
          6072,
          2300,
          2142,
          1184,
          2115,
          2574,
          3344,
          2223,
          6603,
          2736,
          2320,
          1961,
          2430,
          475,
          1287,
          2107,
          3621,
          2394,
          2376,
          1968,
          2280,
          2322,
          2552,
          1190,
          2214,
          1968,
          3445,
          5913,
          2808,
          4485,
          5376,
          8645,
          9612,
          9906,
          5546,
          5335,
          3465,
          7808,
          5096,
          9075,
          6912,
          7070,
          2900,
          9960,
          6650,
          10530,
          10324,
          10769,
          10353,
          11837,
          9504,
          7290,
          8100,
          8961,
          8500,
          10234,
          5616,
          7770,
          7956,
          10320,
          8505,
          9546,
          8775,
          10057,
          9675,
          11102,
          10556,
          10350,
          5695,
          11234,
          7110,
          7040,
          7844,
          7920,
          10736,
          7047,
          4851,
          6248,
          4588,
          4148,
          3504,
          4760,
          2964,
          4514,
          5112,
          4672,
          3942,
          7098,
          3591,
          4690,
          6188,
          5400,
          4140,
          4464,
          5508,
          3776,
          10974,
          8550,
          8778,
          7654,
          4480,
          5530,
          5950,
          12728,
          6290,
          7440,
          6560,
          5733,
          4661,
          8453,
          9796,
          6497,
          3555,
          7952,
          9196,
          10668,
          6450,
          8568,
          9020,
          8449,
          9639,
          10710,
          8487,
          4554,
          1978,
          4503,
          8277,
          7920,
          7584,
          7315,
          9130,
          9396
         ],
         "xaxis": "x",
         "yaxis": "y"
        }
       ],
       "layout": {
        "autosize": true,
        "barmode": "relative",
        "legend": {
         "title": {
          "text": "variable"
         },
         "tracegroupgap": 0
        },
        "margin": {
         "t": 60
        },
        "showlegend": false,
        "template": {
         "data": {
          "bar": [
           {
            "error_x": {
             "color": "#2a3f5f"
            },
            "error_y": {
             "color": "#2a3f5f"
            },
            "marker": {
             "line": {
              "color": "#E5ECF6",
              "width": 0.5
             },
             "pattern": {
              "fillmode": "overlay",
              "size": 10,
              "solidity": 0.2
             }
            },
            "type": "bar"
           }
          ],
          "barpolar": [
           {
            "marker": {
             "line": {
              "color": "#E5ECF6",
              "width": 0.5
             },
             "pattern": {
              "fillmode": "overlay",
              "size": 10,
              "solidity": 0.2
             }
            },
            "type": "barpolar"
           }
          ],
          "carpet": [
           {
            "aaxis": {
             "endlinecolor": "#2a3f5f",
             "gridcolor": "white",
             "linecolor": "white",
             "minorgridcolor": "white",
             "startlinecolor": "#2a3f5f"
            },
            "baxis": {
             "endlinecolor": "#2a3f5f",
             "gridcolor": "white",
             "linecolor": "white",
             "minorgridcolor": "white",
             "startlinecolor": "#2a3f5f"
            },
            "type": "carpet"
           }
          ],
          "choropleth": [
           {
            "colorbar": {
             "outlinewidth": 0,
             "ticks": ""
            },
            "type": "choropleth"
           }
          ],
          "contour": [
           {
            "colorbar": {
             "outlinewidth": 0,
             "ticks": ""
            },
            "colorscale": [
             [
              0,
              "#0d0887"
             ],
             [
              0.1111111111111111,
              "#46039f"
             ],
             [
              0.2222222222222222,
              "#7201a8"
             ],
             [
              0.3333333333333333,
              "#9c179e"
             ],
             [
              0.4444444444444444,
              "#bd3786"
             ],
             [
              0.5555555555555556,
              "#d8576b"
             ],
             [
              0.6666666666666666,
              "#ed7953"
             ],
             [
              0.7777777777777778,
              "#fb9f3a"
             ],
             [
              0.8888888888888888,
              "#fdca26"
             ],
             [
              1,
              "#f0f921"
             ]
            ],
            "type": "contour"
           }
          ],
          "contourcarpet": [
           {
            "colorbar": {
             "outlinewidth": 0,
             "ticks": ""
            },
            "type": "contourcarpet"
           }
          ],
          "heatmap": [
           {
            "colorbar": {
             "outlinewidth": 0,
             "ticks": ""
            },
            "colorscale": [
             [
              0,
              "#0d0887"
             ],
             [
              0.1111111111111111,
              "#46039f"
             ],
             [
              0.2222222222222222,
              "#7201a8"
             ],
             [
              0.3333333333333333,
              "#9c179e"
             ],
             [
              0.4444444444444444,
              "#bd3786"
             ],
             [
              0.5555555555555556,
              "#d8576b"
             ],
             [
              0.6666666666666666,
              "#ed7953"
             ],
             [
              0.7777777777777778,
              "#fb9f3a"
             ],
             [
              0.8888888888888888,
              "#fdca26"
             ],
             [
              1,
              "#f0f921"
             ]
            ],
            "type": "heatmap"
           }
          ],
          "heatmapgl": [
           {
            "colorbar": {
             "outlinewidth": 0,
             "ticks": ""
            },
            "colorscale": [
             [
              0,
              "#0d0887"
             ],
             [
              0.1111111111111111,
              "#46039f"
             ],
             [
              0.2222222222222222,
              "#7201a8"
             ],
             [
              0.3333333333333333,
              "#9c179e"
             ],
             [
              0.4444444444444444,
              "#bd3786"
             ],
             [
              0.5555555555555556,
              "#d8576b"
             ],
             [
              0.6666666666666666,
              "#ed7953"
             ],
             [
              0.7777777777777778,
              "#fb9f3a"
             ],
             [
              0.8888888888888888,
              "#fdca26"
             ],
             [
              1,
              "#f0f921"
             ]
            ],
            "type": "heatmapgl"
           }
          ],
          "histogram": [
           {
            "marker": {
             "pattern": {
              "fillmode": "overlay",
              "size": 10,
              "solidity": 0.2
             }
            },
            "type": "histogram"
           }
          ],
          "histogram2d": [
           {
            "colorbar": {
             "outlinewidth": 0,
             "ticks": ""
            },
            "colorscale": [
             [
              0,
              "#0d0887"
             ],
             [
              0.1111111111111111,
              "#46039f"
             ],
             [
              0.2222222222222222,
              "#7201a8"
             ],
             [
              0.3333333333333333,
              "#9c179e"
             ],
             [
              0.4444444444444444,
              "#bd3786"
             ],
             [
              0.5555555555555556,
              "#d8576b"
             ],
             [
              0.6666666666666666,
              "#ed7953"
             ],
             [
              0.7777777777777778,
              "#fb9f3a"
             ],
             [
              0.8888888888888888,
              "#fdca26"
             ],
             [
              1,
              "#f0f921"
             ]
            ],
            "type": "histogram2d"
           }
          ],
          "histogram2dcontour": [
           {
            "colorbar": {
             "outlinewidth": 0,
             "ticks": ""
            },
            "colorscale": [
             [
              0,
              "#0d0887"
             ],
             [
              0.1111111111111111,
              "#46039f"
             ],
             [
              0.2222222222222222,
              "#7201a8"
             ],
             [
              0.3333333333333333,
              "#9c179e"
             ],
             [
              0.4444444444444444,
              "#bd3786"
             ],
             [
              0.5555555555555556,
              "#d8576b"
             ],
             [
              0.6666666666666666,
              "#ed7953"
             ],
             [
              0.7777777777777778,
              "#fb9f3a"
             ],
             [
              0.8888888888888888,
              "#fdca26"
             ],
             [
              1,
              "#f0f921"
             ]
            ],
            "type": "histogram2dcontour"
           }
          ],
          "mesh3d": [
           {
            "colorbar": {
             "outlinewidth": 0,
             "ticks": ""
            },
            "type": "mesh3d"
           }
          ],
          "parcoords": [
           {
            "line": {
             "colorbar": {
              "outlinewidth": 0,
              "ticks": ""
             }
            },
            "type": "parcoords"
           }
          ],
          "pie": [
           {
            "automargin": true,
            "type": "pie"
           }
          ],
          "scatter": [
           {
            "fillpattern": {
             "fillmode": "overlay",
             "size": 10,
             "solidity": 0.2
            },
            "type": "scatter"
           }
          ],
          "scatter3d": [
           {
            "line": {
             "colorbar": {
              "outlinewidth": 0,
              "ticks": ""
             }
            },
            "marker": {
             "colorbar": {
              "outlinewidth": 0,
              "ticks": ""
             }
            },
            "type": "scatter3d"
           }
          ],
          "scattercarpet": [
           {
            "marker": {
             "colorbar": {
              "outlinewidth": 0,
              "ticks": ""
             }
            },
            "type": "scattercarpet"
           }
          ],
          "scattergeo": [
           {
            "marker": {
             "colorbar": {
              "outlinewidth": 0,
              "ticks": ""
             }
            },
            "type": "scattergeo"
           }
          ],
          "scattergl": [
           {
            "marker": {
             "colorbar": {
              "outlinewidth": 0,
              "ticks": ""
             }
            },
            "type": "scattergl"
           }
          ],
          "scattermapbox": [
           {
            "marker": {
             "colorbar": {
              "outlinewidth": 0,
              "ticks": ""
             }
            },
            "type": "scattermapbox"
           }
          ],
          "scatterpolar": [
           {
            "marker": {
             "colorbar": {
              "outlinewidth": 0,
              "ticks": ""
             }
            },
            "type": "scatterpolar"
           }
          ],
          "scatterpolargl": [
           {
            "marker": {
             "colorbar": {
              "outlinewidth": 0,
              "ticks": ""
             }
            },
            "type": "scatterpolargl"
           }
          ],
          "scatterternary": [
           {
            "marker": {
             "colorbar": {
              "outlinewidth": 0,
              "ticks": ""
             }
            },
            "type": "scatterternary"
           }
          ],
          "surface": [
           {
            "colorbar": {
             "outlinewidth": 0,
             "ticks": ""
            },
            "colorscale": [
             [
              0,
              "#0d0887"
             ],
             [
              0.1111111111111111,
              "#46039f"
             ],
             [
              0.2222222222222222,
              "#7201a8"
             ],
             [
              0.3333333333333333,
              "#9c179e"
             ],
             [
              0.4444444444444444,
              "#bd3786"
             ],
             [
              0.5555555555555556,
              "#d8576b"
             ],
             [
              0.6666666666666666,
              "#ed7953"
             ],
             [
              0.7777777777777778,
              "#fb9f3a"
             ],
             [
              0.8888888888888888,
              "#fdca26"
             ],
             [
              1,
              "#f0f921"
             ]
            ],
            "type": "surface"
           }
          ],
          "table": [
           {
            "cells": {
             "fill": {
              "color": "#EBF0F8"
             },
             "line": {
              "color": "white"
             }
            },
            "header": {
             "fill": {
              "color": "#C8D4E3"
             },
             "line": {
              "color": "white"
             }
            },
            "type": "table"
           }
          ]
         },
         "layout": {
          "annotationdefaults": {
           "arrowcolor": "#2a3f5f",
           "arrowhead": 0,
           "arrowwidth": 1
          },
          "autotypenumbers": "strict",
          "coloraxis": {
           "colorbar": {
            "outlinewidth": 0,
            "ticks": ""
           }
          },
          "colorscale": {
           "diverging": [
            [
             0,
             "#8e0152"
            ],
            [
             0.1,
             "#c51b7d"
            ],
            [
             0.2,
             "#de77ae"
            ],
            [
             0.3,
             "#f1b6da"
            ],
            [
             0.4,
             "#fde0ef"
            ],
            [
             0.5,
             "#f7f7f7"
            ],
            [
             0.6,
             "#e6f5d0"
            ],
            [
             0.7,
             "#b8e186"
            ],
            [
             0.8,
             "#7fbc41"
            ],
            [
             0.9,
             "#4d9221"
            ],
            [
             1,
             "#276419"
            ]
           ],
           "sequential": [
            [
             0,
             "#0d0887"
            ],
            [
             0.1111111111111111,
             "#46039f"
            ],
            [
             0.2222222222222222,
             "#7201a8"
            ],
            [
             0.3333333333333333,
             "#9c179e"
            ],
            [
             0.4444444444444444,
             "#bd3786"
            ],
            [
             0.5555555555555556,
             "#d8576b"
            ],
            [
             0.6666666666666666,
             "#ed7953"
            ],
            [
             0.7777777777777778,
             "#fb9f3a"
            ],
            [
             0.8888888888888888,
             "#fdca26"
            ],
            [
             1,
             "#f0f921"
            ]
           ],
           "sequentialminus": [
            [
             0,
             "#0d0887"
            ],
            [
             0.1111111111111111,
             "#46039f"
            ],
            [
             0.2222222222222222,
             "#7201a8"
            ],
            [
             0.3333333333333333,
             "#9c179e"
            ],
            [
             0.4444444444444444,
             "#bd3786"
            ],
            [
             0.5555555555555556,
             "#d8576b"
            ],
            [
             0.6666666666666666,
             "#ed7953"
            ],
            [
             0.7777777777777778,
             "#fb9f3a"
            ],
            [
             0.8888888888888888,
             "#fdca26"
            ],
            [
             1,
             "#f0f921"
            ]
           ]
          },
          "colorway": [
           "#636efa",
           "#EF553B",
           "#00cc96",
           "#ab63fa",
           "#FFA15A",
           "#19d3f3",
           "#FF6692",
           "#B6E880",
           "#FF97FF",
           "#FECB52"
          ],
          "font": {
           "color": "#2a3f5f"
          },
          "geo": {
           "bgcolor": "white",
           "lakecolor": "white",
           "landcolor": "#E5ECF6",
           "showlakes": true,
           "showland": true,
           "subunitcolor": "white"
          },
          "hoverlabel": {
           "align": "left"
          },
          "hovermode": "closest",
          "mapbox": {
           "style": "light"
          },
          "paper_bgcolor": "white",
          "plot_bgcolor": "#E5ECF6",
          "polar": {
           "angularaxis": {
            "gridcolor": "white",
            "linecolor": "white",
            "ticks": ""
           },
           "bgcolor": "#E5ECF6",
           "radialaxis": {
            "gridcolor": "white",
            "linecolor": "white",
            "ticks": ""
           }
          },
          "scene": {
           "xaxis": {
            "backgroundcolor": "#E5ECF6",
            "gridcolor": "white",
            "gridwidth": 2,
            "linecolor": "white",
            "showbackground": true,
            "ticks": "",
            "zerolinecolor": "white"
           },
           "yaxis": {
            "backgroundcolor": "#E5ECF6",
            "gridcolor": "white",
            "gridwidth": 2,
            "linecolor": "white",
            "showbackground": true,
            "ticks": "",
            "zerolinecolor": "white"
           },
           "zaxis": {
            "backgroundcolor": "#E5ECF6",
            "gridcolor": "white",
            "gridwidth": 2,
            "linecolor": "white",
            "showbackground": true,
            "ticks": "",
            "zerolinecolor": "white"
           }
          },
          "shapedefaults": {
           "line": {
            "color": "#2a3f5f"
           }
          },
          "ternary": {
           "aaxis": {
            "gridcolor": "white",
            "linecolor": "white",
            "ticks": ""
           },
           "baxis": {
            "gridcolor": "white",
            "linecolor": "white",
            "ticks": ""
           },
           "bgcolor": "#E5ECF6",
           "caxis": {
            "gridcolor": "white",
            "linecolor": "white",
            "ticks": ""
           }
          },
          "title": {
           "x": 0.05
          },
          "xaxis": {
           "automargin": true,
           "gridcolor": "white",
           "linecolor": "white",
           "ticks": "",
           "title": {
            "standoff": 15
           },
           "zerolinecolor": "white",
           "zerolinewidth": 2
          },
          "yaxis": {
           "automargin": true,
           "gridcolor": "white",
           "linecolor": "white",
           "ticks": "",
           "title": {
            "standoff": 15
           },
           "zerolinecolor": "white",
           "zerolinewidth": 2
          }
         }
        },
        "title": {
         "text": "Total number of patches per slide",
         "x": 0.5,
         "xanchor": "center",
         "y": 0.94,
         "yanchor": "top"
        },
        "xaxis": {
         "anchor": "y",
         "autorange": true,
         "domain": [
          0,
          1
         ],
         "range": [
          -0.5,
          12999.5
         ],
         "tickformat": ",.0f",
         "title": {
          "text": "Number of patches"
         },
         "type": "linear"
        },
        "yaxis": {
         "anchor": "x",
         "autorange": true,
         "domain": [
          0,
          1
         ],
         "range": [
          0,
          18.94736842105263
         ],
         "title": {
          "text": "count"
         }
        }
       }
      },
      "image/png": "[encoded data removed]"
     },
     "metadata": {},
     "output_type": "display_data"
    }
   ],
   "source": [
    "fig = px.histogram(df['Total_num_of_patches'],\n",
    "                   labels={\n",
    "                     \"value\": \"Number of patches\",\n",
    "                     \"count\": \"Number of slides\"\n",
    "                    }, \n",
    "                   color_discrete_sequence=['darkcyan'])\n",
    "fig.update_layout(title={\n",
    "        'text': \"Total number of patches per slide\",\n",
    "        'y':0.94,\n",
    "        'x':0.5,\n",
    "        'xanchor': 'center',\n",
    "        'yanchor': 'top'},\n",
    "        showlegend=False,\n",
    "        xaxis_tickformat=\",.0f\")\n",
    "fig.show()"
   ]
  },
  {
   "cell_type": "code",
   "execution_count": 25,
   "metadata": {},
   "outputs": [
    {
     "name": "stdout",
     "output_type": "stream",
     "text": [
      "6347.39455782313\n"
     ]
    }
   ],
   "source": [
    "print(np.mean(df['Total_num_of_patches']))"
   ]
  },
  {
   "cell_type": "code",
   "execution_count": 15,
   "metadata": {},
   "outputs": [
    {
     "data": {
      "text/plain": [
       "Text(0, 0.5, 'Number of slides')"
      ]
     },
     "execution_count": 15,
     "metadata": {},
     "output_type": "execute_result"
    },
    {
     "data": {
      "image/png": "[encoded data removed]",
      "text/plain": [
       "<Figure size 600x600 with 1 Axes>"
      ]
     },
     "metadata": {},
     "output_type": "display_data"
    }
   ],
   "source": [
    "x = df['Level0_height']\n",
    "y = df['Level0_width']\n",
    "total_pixels_l0 = x * y\n",
    "\n",
    "plt.rcParams[\"figure.figsize\"] = [6, 6]\n",
    "ax = plt.figure().gca()\n",
    "ax.hist([x, y], color=[cd['purple'], cd['green']])\n",
    "# ax.yaxis.set_major_locator(ticker.MaxNLocator(integer=True))\n",
    "# formatter = ticker.ScalarFormatter(useOffset=False, useMathText=True)\n",
    "# formatter.set_scientific(False)\n",
    "# ax.xaxis.set_major_formatter(formatter)\n",
    "formatter = ticker.StrMethodFormatter('{x:,.0f}')\n",
    "ax.xaxis.set_major_formatter(formatter)\n",
    "ax.tick_params(axis='x', labelrotation=90.0)\n",
    "ax.legend(labels=['Height', 'Width'])\n",
    "ax.set_xlabel('Number of pixels')\n",
    "ax.set_ylabel('Number of slides')"
   ]
  },
  {
   "cell_type": "code",
   "execution_count": 274,
   "metadata": {},
   "outputs": [
    {
     "data": {
      "application/vnd.plotly.v1+json": {
       "config": {
        "plotlyServerURL": "https://plot.ly"
       },
       "data": [
        {
         "marker": {
          "color": "#E953AD"
         },
         "name": "height",
         "opacity": 0.8,
         "type": "histogram",
         "x": [
          49408,
          90504,
          77998,
          81606,
          91820,
          85033,
          93580,
          90209,
          75773,
          57339,
          77568,
          81484,
          38144,
          40192,
          108288,
          90368,
          51456,
          43264,
          33536,
          46336,
          40192,
          45824,
          58624,
          73472,
          59136,
          41728,
          55040,
          55552,
          26420,
          40776,
          50293,
          52486,
          39690,
          45546,
          42564,
          39098,
          44667,
          45769,
          34985,
          42281,
          42825,
          55081,
          83190,
          55796,
          67084,
          66370,
          67500,
          91613,
          80193,
          48479,
          56617,
          57072,
          66062,
          58121,
          77013,
          65843,
          72052,
          59645,
          85528,
          72522,
          92237,
          91781,
          91239,
          89104,
          92010,
          90300,
          83830,
          83210,
          89565,
          87795,
          88814,
          74506,
          76466,
          80638,
          88812,
          83541,
          88832,
          77492,
          91802,
          77417,
          93788,
          93819,
          92555,
          69184,
          84475,
          81301,
          82004,
          76795,
          57180,
          90978,
          89577,
          65278,
          73084,
          64441,
          69677,
          50035,
          72016,
          58924,
          62955,
          73766,
          65593,
          56013,
          80527,
          58946,
          71847,
          94153,
          77812,
          62110,
          63607,
          70579,
          61262,
          96009,
          93170,
          78961,
          88569,
          72039,
          80897,
          72452,
          88335,
          87551,
          82354,
          82169,
          65523,
          61354,
          81580,
          81025,
          75626,
          46773,
          73552,
          78731,
          86441,
          77547,
          74136,
          84037,
          72821,
          83672,
          87928,
          71160,
          67835,
          47334,
          58656,
          95467,
          74662,
          81190,
          79409,
          85834,
          83880
         ]
        },
        {
         "marker": {
          "color": "#0a888a"
         },
         "name": "width",
         "opacity": 0.8,
         "type": "histogram",
         "x": [
          81408,
          109434,
          100812,
          71819,
          112995,
          121855,
          134231,
          129472,
          79690,
          77564,
          54528,
          122895,
          42752,
          27392,
          49920,
          70656,
          47872,
          52480,
          38144,
          48896,
          68096,
          78336,
          40704,
          95744,
          49408,
          59648,
          38144,
          46336,
          19920,
          33864,
          44743,
          73303,
          64735,
          55775,
          49799,
          61751,
          55775,
          59759,
          35855,
          55775,
          49799,
          67208,
          75208,
          54264,
          71400,
          86632,
          137088,
          111384,
          130424,
          120904,
          99960,
          64736,
          125664,
          93296,
          124711,
          111383,
          103767,
          51407,
          123759,
          97673,
          119951,
          119698,
          124486,
          121856,
          137088,
          111080,
          92171,
          102461,
          106292,
          103419,
          121935,
          80650,
          107533,
          105334,
          122895,
          107533,
          114254,
          120656,
          115868,
          133104,
          125444,
          119698,
          117783,
          87371,
          141137,
          93131,
          90970,
          109165,
          148426,
          125444,
          83776,
          79016,
          90440,
          76160,
          62832,
          75207,
          70448,
          53312,
          76160,
          72969,
          75208,
          75208,
          93296,
          64736,
          69496,
          70448,
          74256,
          71400,
          74256,
          83776,
          65688,
          121855,
          98055,
          117095,
          91391,
          65688,
          72352,
          87584,
          152320,
          76159,
          96151,
          84728,
          93296,
          81871,
          110432,
          127568,
          91391,
          81871,
          115191,
          124712,
          130424,
          88536,
          121856,
          113288,
          121856,
          122808,
          129472,
          126616,
          70861,
          44049,
          81872,
          91392,
          113288,
          98631,
          98055,
          113287,
          118999
         ]
        }
       ],
       "layout": {
        "autosize": true,
        "barmode": "stack",
        "margin": {
         "b": 50,
         "l": 50,
         "r": 50,
         "t": 20
        },
        "template": {
         "data": {
          "bar": [
           {
            "error_x": {
             "color": "#2a3f5f"
            },
            "error_y": {
             "color": "#2a3f5f"
            },
            "marker": {
             "line": {
              "color": "#E5ECF6",
              "width": 0.5
             },
             "pattern": {
              "fillmode": "overlay",
              "size": 10,
              "solidity": 0.2
             }
            },
            "type": "bar"
           }
          ],
          "barpolar": [
           {
            "marker": {
             "line": {
              "color": "#E5ECF6",
              "width": 0.5
             },
             "pattern": {
              "fillmode": "overlay",
              "size": 10,
              "solidity": 0.2
             }
            },
            "type": "barpolar"
           }
          ],
          "carpet": [
           {
            "aaxis": {
             "endlinecolor": "#2a3f5f",
             "gridcolor": "white",
             "linecolor": "white",
             "minorgridcolor": "white",
             "startlinecolor": "#2a3f5f"
            },
            "baxis": {
             "endlinecolor": "#2a3f5f",
             "gridcolor": "white",
             "linecolor": "white",
             "minorgridcolor": "white",
             "startlinecolor": "#2a3f5f"
            },
            "type": "carpet"
           }
          ],
          "choropleth": [
           {
            "colorbar": {
             "outlinewidth": 0,
             "ticks": ""
            },
            "type": "choropleth"
           }
          ],
          "contour": [
           {
            "colorbar": {
             "outlinewidth": 0,
             "ticks": ""
            },
            "colorscale": [
             [
              0,
              "#0d0887"
             ],
             [
              0.1111111111111111,
              "#46039f"
             ],
             [
              0.2222222222222222,
              "#7201a8"
             ],
             [
              0.3333333333333333,
              "#9c179e"
             ],
             [
              0.4444444444444444,
              "#bd3786"
             ],
             [
              0.5555555555555556,
              "#d8576b"
             ],
             [
              0.6666666666666666,
              "#ed7953"
             ],
             [
              0.7777777777777778,
              "#fb9f3a"
             ],
             [
              0.8888888888888888,
              "#fdca26"
             ],
             [
              1,
              "#f0f921"
             ]
            ],
            "type": "contour"
           }
          ],
          "contourcarpet": [
           {
            "colorbar": {
             "outlinewidth": 0,
             "ticks": ""
            },
            "type": "contourcarpet"
           }
          ],
          "heatmap": [
           {
            "colorbar": {
             "outlinewidth": 0,
             "ticks": ""
            },
            "colorscale": [
             [
              0,
              "#0d0887"
             ],
             [
              0.1111111111111111,
              "#46039f"
             ],
             [
              0.2222222222222222,
              "#7201a8"
             ],
             [
              0.3333333333333333,
              "#9c179e"
             ],
             [
              0.4444444444444444,
              "#bd3786"
             ],
             [
              0.5555555555555556,
              "#d8576b"
             ],
             [
              0.6666666666666666,
              "#ed7953"
             ],
             [
              0.7777777777777778,
              "#fb9f3a"
             ],
             [
              0.8888888888888888,
              "#fdca26"
             ],
             [
              1,
              "#f0f921"
             ]
            ],
            "type": "heatmap"
           }
          ],
          "heatmapgl": [
           {
            "colorbar": {
             "outlinewidth": 0,
             "ticks": ""
            },
            "colorscale": [
             [
              0,
              "#0d0887"
             ],
             [
              0.1111111111111111,
              "#46039f"
             ],
             [
              0.2222222222222222,
              "#7201a8"
             ],
             [
              0.3333333333333333,
              "#9c179e"
             ],
             [
              0.4444444444444444,
              "#bd3786"
             ],
             [
              0.5555555555555556,
              "#d8576b"
             ],
             [
              0.6666666666666666,
              "#ed7953"
             ],
             [
              0.7777777777777778,
              "#fb9f3a"
             ],
             [
              0.8888888888888888,
              "#fdca26"
             ],
             [
              1,
              "#f0f921"
             ]
            ],
            "type": "heatmapgl"
           }
          ],
          "histogram": [
           {
            "marker": {
             "pattern": {
              "fillmode": "overlay",
              "size": 10,
              "solidity": 0.2
             }
            },
            "type": "histogram"
           }
          ],
          "histogram2d": [
           {
            "colorbar": {
             "outlinewidth": 0,
             "ticks": ""
            },
            "colorscale": [
             [
              0,
              "#0d0887"
             ],
             [
              0.1111111111111111,
              "#46039f"
             ],
             [
              0.2222222222222222,
              "#7201a8"
             ],
             [
              0.3333333333333333,
              "#9c179e"
             ],
             [
              0.4444444444444444,
              "#bd3786"
             ],
             [
              0.5555555555555556,
              "#d8576b"
             ],
             [
              0.6666666666666666,
              "#ed7953"
             ],
             [
              0.7777777777777778,
              "#fb9f3a"
             ],
             [
              0.8888888888888888,
              "#fdca26"
             ],
             [
              1,
              "#f0f921"
             ]
            ],
            "type": "histogram2d"
           }
          ],
          "histogram2dcontour": [
           {
            "colorbar": {
             "outlinewidth": 0,
             "ticks": ""
            },
            "colorscale": [
             [
              0,
              "#0d0887"
             ],
             [
              0.1111111111111111,
              "#46039f"
             ],
             [
              0.2222222222222222,
              "#7201a8"
             ],
             [
              0.3333333333333333,
              "#9c179e"
             ],
             [
              0.4444444444444444,
              "#bd3786"
             ],
             [
              0.5555555555555556,
              "#d8576b"
             ],
             [
              0.6666666666666666,
              "#ed7953"
             ],
             [
              0.7777777777777778,
              "#fb9f3a"
             ],
             [
              0.8888888888888888,
              "#fdca26"
             ],
             [
              1,
              "#f0f921"
             ]
            ],
            "type": "histogram2dcontour"
           }
          ],
          "mesh3d": [
           {
            "colorbar": {
             "outlinewidth": 0,
             "ticks": ""
            },
            "type": "mesh3d"
           }
          ],
          "parcoords": [
           {
            "line": {
             "colorbar": {
              "outlinewidth": 0,
              "ticks": ""
             }
            },
            "type": "parcoords"
           }
          ],
          "pie": [
           {
            "automargin": true,
            "type": "pie"
           }
          ],
          "scatter": [
           {
            "fillpattern": {
             "fillmode": "overlay",
             "size": 10,
             "solidity": 0.2
            },
            "type": "scatter"
           }
          ],
          "scatter3d": [
           {
            "line": {
             "colorbar": {
              "outlinewidth": 0,
              "ticks": ""
             }
            },
            "marker": {
             "colorbar": {
              "outlinewidth": 0,
              "ticks": ""
             }
            },
            "type": "scatter3d"
           }
          ],
          "scattercarpet": [
           {
            "marker": {
             "colorbar": {
              "outlinewidth": 0,
              "ticks": ""
             }
            },
            "type": "scattercarpet"
           }
          ],
          "scattergeo": [
           {
            "marker": {
             "colorbar": {
              "outlinewidth": 0,
              "ticks": ""
             }
            },
            "type": "scattergeo"
           }
          ],
          "scattergl": [
           {
            "marker": {
             "colorbar": {
              "outlinewidth": 0,
              "ticks": ""
             }
            },
            "type": "scattergl"
           }
          ],
          "scattermapbox": [
           {
            "marker": {
             "colorbar": {
              "outlinewidth": 0,
              "ticks": ""
             }
            },
            "type": "scattermapbox"
           }
          ],
          "scatterpolar": [
           {
            "marker": {
             "colorbar": {
              "outlinewidth": 0,
              "ticks": ""
             }
            },
            "type": "scatterpolar"
           }
          ],
          "scatterpolargl": [
           {
            "marker": {
             "colorbar": {
              "outlinewidth": 0,
              "ticks": ""
             }
            },
            "type": "scatterpolargl"
           }
          ],
          "scatterternary": [
           {
            "marker": {
             "colorbar": {
              "outlinewidth": 0,
              "ticks": ""
             }
            },
            "type": "scatterternary"
           }
          ],
          "surface": [
           {
            "colorbar": {
             "outlinewidth": 0,
             "ticks": ""
            },
            "colorscale": [
             [
              0,
              "#0d0887"
             ],
             [
              0.1111111111111111,
              "#46039f"
             ],
             [
              0.2222222222222222,
              "#7201a8"
             ],
             [
              0.3333333333333333,
              "#9c179e"
             ],
             [
              0.4444444444444444,
              "#bd3786"
             ],
             [
              0.5555555555555556,
              "#d8576b"
             ],
             [
              0.6666666666666666,
              "#ed7953"
             ],
             [
              0.7777777777777778,
              "#fb9f3a"
             ],
             [
              0.8888888888888888,
              "#fdca26"
             ],
             [
              1,
              "#f0f921"
             ]
            ],
            "type": "surface"
           }
          ],
          "table": [
           {
            "cells": {
             "fill": {
              "color": "#EBF0F8"
             },
             "line": {
              "color": "white"
             }
            },
            "header": {
             "fill": {
              "color": "#C8D4E3"
             },
             "line": {
              "color": "white"
             }
            },
            "type": "table"
           }
          ]
         },
         "layout": {
          "annotationdefaults": {
           "arrowcolor": "#2a3f5f",
           "arrowhead": 0,
           "arrowwidth": 1
          },
          "autotypenumbers": "strict",
          "coloraxis": {
           "colorbar": {
            "outlinewidth": 0,
            "ticks": ""
           }
          },
          "colorscale": {
           "diverging": [
            [
             0,
             "#8e0152"
            ],
            [
             0.1,
             "#c51b7d"
            ],
            [
             0.2,
             "#de77ae"
            ],
            [
             0.3,
             "#f1b6da"
            ],
            [
             0.4,
             "#fde0ef"
            ],
            [
             0.5,
             "#f7f7f7"
            ],
            [
             0.6,
             "#e6f5d0"
            ],
            [
             0.7,
             "#b8e186"
            ],
            [
             0.8,
             "#7fbc41"
            ],
            [
             0.9,
             "#4d9221"
            ],
            [
             1,
             "#276419"
            ]
           ],
           "sequential": [
            [
             0,
             "#0d0887"
            ],
            [
             0.1111111111111111,
             "#46039f"
            ],
            [
             0.2222222222222222,
             "#7201a8"
            ],
            [
             0.3333333333333333,
             "#9c179e"
            ],
            [
             0.4444444444444444,
             "#bd3786"
            ],
            [
             0.5555555555555556,
             "#d8576b"
            ],
            [
             0.6666666666666666,
             "#ed7953"
            ],
            [
             0.7777777777777778,
             "#fb9f3a"
            ],
            [
             0.8888888888888888,
             "#fdca26"
            ],
            [
             1,
             "#f0f921"
            ]
           ],
           "sequentialminus": [
            [
             0,
             "#0d0887"
            ],
            [
             0.1111111111111111,
             "#46039f"
            ],
            [
             0.2222222222222222,
             "#7201a8"
            ],
            [
             0.3333333333333333,
             "#9c179e"
            ],
            [
             0.4444444444444444,
             "#bd3786"
            ],
            [
             0.5555555555555556,
             "#d8576b"
            ],
            [
             0.6666666666666666,
             "#ed7953"
            ],
            [
             0.7777777777777778,
             "#fb9f3a"
            ],
            [
             0.8888888888888888,
             "#fdca26"
            ],
            [
             1,
             "#f0f921"
            ]
           ]
          },
          "colorway": [
           "#636efa",
           "#EF553B",
           "#00cc96",
           "#ab63fa",
           "#FFA15A",
           "#19d3f3",
           "#FF6692",
           "#B6E880",
           "#FF97FF",
           "#FECB52"
          ],
          "font": {
           "color": "#2a3f5f"
          },
          "geo": {
           "bgcolor": "white",
           "lakecolor": "white",
           "landcolor": "#E5ECF6",
           "showlakes": true,
           "showland": true,
           "subunitcolor": "white"
          },
          "hoverlabel": {
           "align": "left"
          },
          "hovermode": "closest",
          "mapbox": {
           "style": "light"
          },
          "paper_bgcolor": "white",
          "plot_bgcolor": "#E5ECF6",
          "polar": {
           "angularaxis": {
            "gridcolor": "white",
            "linecolor": "white",
            "ticks": ""
           },
           "bgcolor": "#E5ECF6",
           "radialaxis": {
            "gridcolor": "white",
            "linecolor": "white",
            "ticks": ""
           }
          },
          "scene": {
           "xaxis": {
            "backgroundcolor": "#E5ECF6",
            "gridcolor": "white",
            "gridwidth": 2,
            "linecolor": "white",
            "showbackground": true,
            "ticks": "",
            "zerolinecolor": "white"
           },
           "yaxis": {
            "backgroundcolor": "#E5ECF6",
            "gridcolor": "white",
            "gridwidth": 2,
            "linecolor": "white",
            "showbackground": true,
            "ticks": "",
            "zerolinecolor": "white"
           },
           "zaxis": {
            "backgroundcolor": "#E5ECF6",
            "gridcolor": "white",
            "gridwidth": 2,
            "linecolor": "white",
            "showbackground": true,
            "ticks": "",
            "zerolinecolor": "white"
           }
          },
          "shapedefaults": {
           "line": {
            "color": "#2a3f5f"
           }
          },
          "ternary": {
           "aaxis": {
            "gridcolor": "white",
            "linecolor": "white",
            "ticks": ""
           },
           "baxis": {
            "gridcolor": "white",
            "linecolor": "white",
            "ticks": ""
           },
           "bgcolor": "#E5ECF6",
           "caxis": {
            "gridcolor": "white",
            "linecolor": "white",
            "ticks": ""
           }
          },
          "title": {
           "x": 0.05
          },
          "xaxis": {
           "automargin": true,
           "gridcolor": "white",
           "linecolor": "white",
           "ticks": "",
           "title": {
            "standoff": 15
           },
           "zerolinecolor": "white",
           "zerolinewidth": 2
          },
          "yaxis": {
           "automargin": true,
           "gridcolor": "white",
           "linecolor": "white",
           "ticks": "",
           "title": {
            "standoff": 15
           },
           "zerolinecolor": "white",
           "zerolinewidth": 2
          }
         }
        },
        "title": {
         "x": 0.5,
         "xanchor": "center",
         "y": 0.94,
         "yanchor": "top"
        },
        "xaxis": {
         "autorange": true,
         "range": [
          9999.5,
          159999.5
         ],
         "tickformat": ",.0f",
         "title": {
          "text": "Number of pixels"
         },
         "type": "linear"
        },
        "yaxis": {
         "autorange": true,
         "range": [
          0,
          55.78947368421053
         ],
         "title": {
          "text": "Number of slides"
         }
        }
       }
      },
      "image/png": "[encoded data removed]"
     },
     "metadata": {},
     "output_type": "display_data"
    }
   ],
   "source": [
    "fig = go.Figure()\n",
    "fig.add_trace(go.Histogram(x=df['Level0_height'], marker_color=cd['pink'], name=\"height\"))\n",
    "fig.add_trace(go.Histogram(x=df['Level0_width'], marker_color=cd['green'], name=\"width\"))\n",
    "\n",
    "# The two histograms are drawn on top of another\n",
    "fig.update_layout(title={\n",
    "        'y':0.94,\n",
    "        'x':0.5,\n",
    "        'xanchor': 'center',\n",
    "        'yanchor': 'top'},\n",
    "        xaxis_title_text='Number of pixels',\n",
    "        xaxis_tickformat=\",.0f\",\n",
    "        yaxis_title_text='Number of slides',\n",
    "        barmode='stack', \n",
    "        width=700,\n",
    "        margin=dict(l=50, r=50, b=50, t=20))\n",
    "fig.update_traces(opacity=0.8)\n",
    "fig.show()"
   ]
  },
  {
   "cell_type": "code",
   "execution_count": 151,
   "metadata": {},
   "outputs": [
    {
     "data": {
      "text/plain": [
       "Text(0, 0.5, 'Number of slides')"
      ]
     },
     "execution_count": 151,
     "metadata": {},
     "output_type": "execute_result"
    },
    {
     "data": {
      "image/png": "[encoded data removed]",
      "text/plain": [
       "<Figure size 600x600 with 1 Axes>"
      ]
     },
     "metadata": {},
     "output_type": "display_data"
    }
   ],
   "source": [
    "ax = plt.figure().gca()\n",
    "pixels = x*y\n",
    "ax.hist(pixels, color=['darkcyan'])\n",
    "# formatter = ticker.ScalarFormatter(useOffset=False, useMathText=True)\n",
    "# lambda x: '{:.0f}'.format(x*status.sum()/100)\n",
    "formatter = ticker.FuncFormatter(lambda x, pos: f'{x/1000000000:.0f}')\n",
    "# formatter.set_scientific(False)\n",
    "ax.xaxis.set_major_formatter(formatter)\n",
    "ax.yaxis.set_major_locator(ticker.MaxNLocator(integer=True))\n",
    "ax.tick_params(axis='x', labelrotation=90.0)\n",
    "ax.set_xlabel('Number of pixels (in billions)')\n",
    "ax.set_ylabel('Number of slides')"
   ]
  },
  {
   "cell_type": "code",
   "execution_count": 278,
   "metadata": {},
   "outputs": [
    {
     "data": {
      "image/png": "[encoded data removed]",
      "text/plain": [
       "<Figure size 1200x500 with 1 Axes>"
      ]
     },
     "metadata": {},
     "output_type": "display_data"
    }
   ],
   "source": [
    "x = df['Num_of_benign_tiles']\n",
    "y = df['Num_of_tumourous_tiles']\n",
    "background = df['Total_num_of_patches'] - x - y\n",
    "instances = np.arange(len(x))\n",
    "plt.rcParams[\"figure.figsize\"] = [12, 5]\n",
    "bar_width=0.8\n",
    "ax = plt.figure().gca()\n",
    "ax.bar(instances, x, width=bar_width, label='Benign', color=cd['green'])\n",
    "ax.bar(instances, y, width=bar_width, label='Malignant', color=cd['pink'], bottom=x)\n",
    "ax.bar(instances, background, width=bar_width, label='Background', color=cd['yellow'], bottom=np.add(x, y))\n",
    "# ax.yaxis.set_major_locator(ticker.MaxNLocator(integer=True))\n",
    "# formatter = ticker.ScalarFormatter(useOffset=False, useMathText=True)\n",
    "# formatter.set_scientific(False)\n",
    "# ax.xaxis.set_major_formatter(formatter)\n",
    "# formatter = ticker.StrMethodFormatter('{x:,.0f}')\n",
    "# ax.xaxis.set_major_formatter(formatter)\n",
    "# ax.tick_params(axis='x', labelrotation=90.0)\n",
    "ax.legend()\n",
    "ax.set_xlabel('Cases')\n",
    "ax.set_ylabel('Number of tiles')\n",
    "plt.title('Distribution of tile classifications per case')\n",
    "# plt.savefig('/Users/alexandrasmith/Desktop/Workspace/Projects/masters/reports/data figs/patch_classifications_bar.png')\n"
   ]
  },
  {
   "cell_type": "code",
   "execution_count": 356,
   "metadata": {},
   "outputs": [
    {
     "data": {
      "image/png": "[encoded data removed]",
      "text/plain": [
       "<Figure size 1000x1000 with 1 Axes>"
      ]
     },
     "metadata": {},
     "output_type": "display_data"
    }
   ],
   "source": [
    "plt.rcParams[\"figure.figsize\"] = [10, 10]\n",
    "total_benign = df['Num_of_benign_tiles'].sum()\n",
    "total_tumourous = df['Num_of_tumourous_tiles'].sum()\n",
    "total_background = df['Num_of_patches_discarded'].sum()\n",
    "total_patches = total_benign + total_tumourous + total_background\n",
    "plt.pie([total_benign, total_tumourous, total_background], colors=[cd['green'], cd['pink'], cd['yellow']], startangle=90, autopct=lambda x: '{:,.0f}'.format(x*total_patches/100), labeldistance=1.2, pctdistance=0.31)\n",
    "# plt.pie(status, colors=['mediumpurple', 'mediumaquamarine'], startangle=90, autopct=lambda x: '{:.2f}%'.format(x))\n",
    "plt.legend(labels=['Benign', 'Tumourous', 'Background'], fontsize=17, bbox_to_anchor=(0.51,0.08), loc=\"center\", bbox_transform=plt.gcf().transFigure, ncol=3)\n",
    "\n",
    "#draw circle\n",
    "centre_circle = plt.Circle((0,0),0.550,fc='white')\n",
    "fig = plt.gcf()\n",
    "fig.gca().add_artist(centre_circle)\n",
    "# Equal aspect ratio ensures that pie is drawn as a circle\n",
    "# plt.axis('equal')  \n",
    "plt.tight_layout()\n",
    "# plt.title(\"Patch classifications\", x=0.5, y=0.97)\n",
    "# plt.show()\n",
    "# plt.savefig('/Users/alexandrasmith/Desktop/Workspace/Projects/masters/reports/data figs/patch_classifications_pie.png')"
   ]
  },
  {
   "cell_type": "code",
   "execution_count": 77,
   "metadata": {},
   "outputs": [
    {
     "data": {
      "application/vnd.plotly.v1+json": {
       "config": {
        "plotlyServerURL": "https://plot.ly"
       },
       "data": [
        {
         "marker": {
          "color": "darkcyan"
         },
         "name": "Benign",
         "opacity": 0.8,
         "type": "histogram",
         "y": [
          217,
          2489,
          316,
          372,
          2631,
          513,
          3034,
          2454,
          1894,
          253,
          149,
          956,
          66,
          5,
          121,
          16,
          112,
          113,
          74,
          190,
          93,
          55,
          26,
          154,
          133,
          83,
          109,
          13,
          59,
          64,
          481,
          566,
          77,
          687,
          332,
          310,
          329,
          879,
          79,
          403,
          996,
          746,
          427,
          327,
          501,
          1026,
          1267,
          2083,
          1814,
          321,
          576,
          396,
          743,
          1082,
          1123,
          1326,
          1076,
          317,
          2621,
          1559,
          739,
          3320,
          613,
          1526,
          1893,
          1094,
          2195,
          2361,
          1613,
          493,
          1280,
          460,
          1008,
          2922,
          2636,
          669,
          2827,
          707,
          1817,
          1297,
          807,
          2275,
          576,
          372,
          497,
          1027,
          402,
          451,
          1976,
          1178,
          1143,
          462,
          602,
          378,
          567,
          170,
          1192,
          1085,
          519,
          1171,
          864,
          655,
          584,
          330,
          331,
          651,
          89,
          333,
          404,
          355,
          1423,
          3239,
          1635,
          1709,
          224,
          328,
          837,
          1767,
          398,
          537,
          1734,
          957,
          1611,
          417,
          585,
          1124,
          398,
          343,
          507,
          1211,
          3774,
          963,
          349,
          1378,
          792,
          2144,
          2646,
          558,
          334,
          224,
          621,
          0,
          216,
          2939,
          2023,
          2440,
          2099
         ]
        },
        {
         "marker": {
          "color": "plum"
         },
         "name": "Tumorous",
         "opacity": 0.8,
         "type": "histogram",
         "y": [
          880,
          2916,
          1314,
          857,
          3889,
          1972,
          2463,
          2324,
          781,
          859,
          890,
          1302,
          440,
          367,
          875,
          430,
          566,
          394,
          481,
          616,
          1077,
          458,
          620,
          645,
          761,
          246,
          618,
          788,
          168,
          356,
          509,
          1150,
          1328,
          571,
          847,
          745,
          368,
          477,
          429,
          900,
          266,
          494,
          2575,
          1165,
          3,
          1352,
          4272,
          2372,
          2317,
          398,
          1302,
          1077,
          1340,
          1235,
          3747,
          859,
          2300,
          330,
          2805,
          200,
          4250,
          3079,
          3094,
          864,
          1657,
          1480,
          474,
          1441,
          2660,
          1452,
          3336,
          785,
          996,
          1457,
          2905,
          2251,
          1413,
          2086,
          1933,
          1805,
          3170,
          1528,
          1964,
          2793,
          4505,
          1233,
          1148,
          3970,
          2630,
          2131,
          2368,
          1921,
          1801,
          2236,
          1571,
          2341,
          1722,
          507,
          2001,
          1860,
          2027,
          1595,
          2967,
          925,
          1403,
          2782,
          2020,
          2090,
          1652,
          2646,
          245,
          3010,
          2898,
          1830,
          4898,
          2806,
          2027,
          1380,
          3087,
          2753,
          1603,
          1275,
          865,
          397,
          2648,
          1756,
          1003,
          291,
          1450,
          1984,
          351,
          1140,
          533,
          3367,
          1495,
          691,
          2424,
          315,
          1618,
          865,
          1750,
          1950,
          3689,
          167,
          1508,
          553,
          873
         ]
        },
        {
         "marker": {
          "color": "khaki"
         },
         "name": "Background",
         "opacity": 0.8,
         "type": "histogram",
         "y": [
          2695,
          3923,
          5818,
          4301,
          3270,
          7309,
          6424,
          6310,
          2946,
          3013,
          2936,
          7222,
          1011,
          642,
          4044,
          5626,
          1622,
          1635,
          629,
          1309,
          1404,
          2831,
          1577,
          5804,
          1842,
          1991,
          1234,
          1629,
          248,
          867,
          1117,
          1905,
          989,
          1118,
          789,
          1225,
          1625,
          1196,
          682,
          911,
          706,
          2205,
          2911,
          1316,
          3981,
          2998,
          3106,
          5157,
          5775,
          4827,
          3457,
          1992,
          5725,
          2779,
          4205,
          4727,
          3694,
          2253,
          4534,
          4891,
          5541,
          3925,
          7062,
          7963,
          8287,
          6930,
          4621,
          4298,
          4688,
          6555,
          5618,
          4371,
          5766,
          3577,
          4779,
          5585,
          5306,
          5982,
          6307,
          6573,
          7125,
          6753,
          7810,
          2530,
          6232,
          4850,
          5490,
          3423,
          3314,
          7427,
          3536,
          2468,
          3845,
          1974,
          2010,
          993,
          1846,
          1372,
          1994,
          2081,
          1781,
          1692,
          3547,
          2336,
          2956,
          2755,
          3291,
          1717,
          2408,
          2507,
          2108,
          4725,
          4017,
          5239,
          2532,
          1346,
          2666,
          2803,
          9243,
          3000,
          4103,
          4328,
          3257,
          3847,
          5220,
          6916,
          5096,
          2921,
          5995,
          6001,
          6543,
          4347,
          7686,
          4275,
          6162,
          6804,
          5640,
          7614,
          2602,
          889,
          2132,
          6327,
          4015,
          4478,
          3784,
          6137,
          6424
         ]
        }
       ],
       "layout": {
        "autosize": true,
        "barmode": "stack",
        "margin": {
         "b": 50,
         "l": 50,
         "r": 50,
         "t": 50
        },
        "template": {
         "data": {
          "bar": [
           {
            "error_x": {
             "color": "#2a3f5f"
            },
            "error_y": {
             "color": "#2a3f5f"
            },
            "marker": {
             "line": {
              "color": "#E5ECF6",
              "width": 0.5
             },
             "pattern": {
              "fillmode": "overlay",
              "size": 10,
              "solidity": 0.2
             }
            },
            "type": "bar"
           }
          ],
          "barpolar": [
           {
            "marker": {
             "line": {
              "color": "#E5ECF6",
              "width": 0.5
             },
             "pattern": {
              "fillmode": "overlay",
              "size": 10,
              "solidity": 0.2
             }
            },
            "type": "barpolar"
           }
          ],
          "carpet": [
           {
            "aaxis": {
             "endlinecolor": "#2a3f5f",
             "gridcolor": "white",
             "linecolor": "white",
             "minorgridcolor": "white",
             "startlinecolor": "#2a3f5f"
            },
            "baxis": {
             "endlinecolor": "#2a3f5f",
             "gridcolor": "white",
             "linecolor": "white",
             "minorgridcolor": "white",
             "startlinecolor": "#2a3f5f"
            },
            "type": "carpet"
           }
          ],
          "choropleth": [
           {
            "colorbar": {
             "outlinewidth": 0,
             "ticks": ""
            },
            "type": "choropleth"
           }
          ],
          "contour": [
           {
            "colorbar": {
             "outlinewidth": 0,
             "ticks": ""
            },
            "colorscale": [
             [
              0,
              "#0d0887"
             ],
             [
              0.1111111111111111,
              "#46039f"
             ],
             [
              0.2222222222222222,
              "#7201a8"
             ],
             [
              0.3333333333333333,
              "#9c179e"
             ],
             [
              0.4444444444444444,
              "#bd3786"
             ],
             [
              0.5555555555555556,
              "#d8576b"
             ],
             [
              0.6666666666666666,
              "#ed7953"
             ],
             [
              0.7777777777777778,
              "#fb9f3a"
             ],
             [
              0.8888888888888888,
              "#fdca26"
             ],
             [
              1,
              "#f0f921"
             ]
            ],
            "type": "contour"
           }
          ],
          "contourcarpet": [
           {
            "colorbar": {
             "outlinewidth": 0,
             "ticks": ""
            },
            "type": "contourcarpet"
           }
          ],
          "heatmap": [
           {
            "colorbar": {
             "outlinewidth": 0,
             "ticks": ""
            },
            "colorscale": [
             [
              0,
              "#0d0887"
             ],
             [
              0.1111111111111111,
              "#46039f"
             ],
             [
              0.2222222222222222,
              "#7201a8"
             ],
             [
              0.3333333333333333,
              "#9c179e"
             ],
             [
              0.4444444444444444,
              "#bd3786"
             ],
             [
              0.5555555555555556,
              "#d8576b"
             ],
             [
              0.6666666666666666,
              "#ed7953"
             ],
             [
              0.7777777777777778,
              "#fb9f3a"
             ],
             [
              0.8888888888888888,
              "#fdca26"
             ],
             [
              1,
              "#f0f921"
             ]
            ],
            "type": "heatmap"
           }
          ],
          "heatmapgl": [
           {
            "colorbar": {
             "outlinewidth": 0,
             "ticks": ""
            },
            "colorscale": [
             [
              0,
              "#0d0887"
             ],
             [
              0.1111111111111111,
              "#46039f"
             ],
             [
              0.2222222222222222,
              "#7201a8"
             ],
             [
              0.3333333333333333,
              "#9c179e"
             ],
             [
              0.4444444444444444,
              "#bd3786"
             ],
             [
              0.5555555555555556,
              "#d8576b"
             ],
             [
              0.6666666666666666,
              "#ed7953"
             ],
             [
              0.7777777777777778,
              "#fb9f3a"
             ],
             [
              0.8888888888888888,
              "#fdca26"
             ],
             [
              1,
              "#f0f921"
             ]
            ],
            "type": "heatmapgl"
           }
          ],
          "histogram": [
           {
            "marker": {
             "pattern": {
              "fillmode": "overlay",
              "size": 10,
              "solidity": 0.2
             }
            },
            "type": "histogram"
           }
          ],
          "histogram2d": [
           {
            "colorbar": {
             "outlinewidth": 0,
             "ticks": ""
            },
            "colorscale": [
             [
              0,
              "#0d0887"
             ],
             [
              0.1111111111111111,
              "#46039f"
             ],
             [
              0.2222222222222222,
              "#7201a8"
             ],
             [
              0.3333333333333333,
              "#9c179e"
             ],
             [
              0.4444444444444444,
              "#bd3786"
             ],
             [
              0.5555555555555556,
              "#d8576b"
             ],
             [
              0.6666666666666666,
              "#ed7953"
             ],
             [
              0.7777777777777778,
              "#fb9f3a"
             ],
             [
              0.8888888888888888,
              "#fdca26"
             ],
             [
              1,
              "#f0f921"
             ]
            ],
            "type": "histogram2d"
           }
          ],
          "histogram2dcontour": [
           {
            "colorbar": {
             "outlinewidth": 0,
             "ticks": ""
            },
            "colorscale": [
             [
              0,
              "#0d0887"
             ],
             [
              0.1111111111111111,
              "#46039f"
             ],
             [
              0.2222222222222222,
              "#7201a8"
             ],
             [
              0.3333333333333333,
              "#9c179e"
             ],
             [
              0.4444444444444444,
              "#bd3786"
             ],
             [
              0.5555555555555556,
              "#d8576b"
             ],
             [
              0.6666666666666666,
              "#ed7953"
             ],
             [
              0.7777777777777778,
              "#fb9f3a"
             ],
             [
              0.8888888888888888,
              "#fdca26"
             ],
             [
              1,
              "#f0f921"
             ]
            ],
            "type": "histogram2dcontour"
           }
          ],
          "mesh3d": [
           {
            "colorbar": {
             "outlinewidth": 0,
             "ticks": ""
            },
            "type": "mesh3d"
           }
          ],
          "parcoords": [
           {
            "line": {
             "colorbar": {
              "outlinewidth": 0,
              "ticks": ""
             }
            },
            "type": "parcoords"
           }
          ],
          "pie": [
           {
            "automargin": true,
            "type": "pie"
           }
          ],
          "scatter": [
           {
            "fillpattern": {
             "fillmode": "overlay",
             "size": 10,
             "solidity": 0.2
            },
            "type": "scatter"
           }
          ],
          "scatter3d": [
           {
            "line": {
             "colorbar": {
              "outlinewidth": 0,
              "ticks": ""
             }
            },
            "marker": {
             "colorbar": {
              "outlinewidth": 0,
              "ticks": ""
             }
            },
            "type": "scatter3d"
           }
          ],
          "scattercarpet": [
           {
            "marker": {
             "colorbar": {
              "outlinewidth": 0,
              "ticks": ""
             }
            },
            "type": "scattercarpet"
           }
          ],
          "scattergeo": [
           {
            "marker": {
             "colorbar": {
              "outlinewidth": 0,
              "ticks": ""
             }
            },
            "type": "scattergeo"
           }
          ],
          "scattergl": [
           {
            "marker": {
             "colorbar": {
              "outlinewidth": 0,
              "ticks": ""
             }
            },
            "type": "scattergl"
           }
          ],
          "scattermapbox": [
           {
            "marker": {
             "colorbar": {
              "outlinewidth": 0,
              "ticks": ""
             }
            },
            "type": "scattermapbox"
           }
          ],
          "scatterpolar": [
           {
            "marker": {
             "colorbar": {
              "outlinewidth": 0,
              "ticks": ""
             }
            },
            "type": "scatterpolar"
           }
          ],
          "scatterpolargl": [
           {
            "marker": {
             "colorbar": {
              "outlinewidth": 0,
              "ticks": ""
             }
            },
            "type": "scatterpolargl"
           }
          ],
          "scatterternary": [
           {
            "marker": {
             "colorbar": {
              "outlinewidth": 0,
              "ticks": ""
             }
            },
            "type": "scatterternary"
           }
          ],
          "surface": [
           {
            "colorbar": {
             "outlinewidth": 0,
             "ticks": ""
            },
            "colorscale": [
             [
              0,
              "#0d0887"
             ],
             [
              0.1111111111111111,
              "#46039f"
             ],
             [
              0.2222222222222222,
              "#7201a8"
             ],
             [
              0.3333333333333333,
              "#9c179e"
             ],
             [
              0.4444444444444444,
              "#bd3786"
             ],
             [
              0.5555555555555556,
              "#d8576b"
             ],
             [
              0.6666666666666666,
              "#ed7953"
             ],
             [
              0.7777777777777778,
              "#fb9f3a"
             ],
             [
              0.8888888888888888,
              "#fdca26"
             ],
             [
              1,
              "#f0f921"
             ]
            ],
            "type": "surface"
           }
          ],
          "table": [
           {
            "cells": {
             "fill": {
              "color": "#EBF0F8"
             },
             "line": {
              "color": "white"
             }
            },
            "header": {
             "fill": {
              "color": "#C8D4E3"
             },
             "line": {
              "color": "white"
             }
            },
            "type": "table"
           }
          ]
         },
         "layout": {
          "annotationdefaults": {
           "arrowcolor": "#2a3f5f",
           "arrowhead": 0,
           "arrowwidth": 1
          },
          "autotypenumbers": "strict",
          "coloraxis": {
           "colorbar": {
            "outlinewidth": 0,
            "ticks": ""
           }
          },
          "colorscale": {
           "diverging": [
            [
             0,
             "#8e0152"
            ],
            [
             0.1,
             "#c51b7d"
            ],
            [
             0.2,
             "#de77ae"
            ],
            [
             0.3,
             "#f1b6da"
            ],
            [
             0.4,
             "#fde0ef"
            ],
            [
             0.5,
             "#f7f7f7"
            ],
            [
             0.6,
             "#e6f5d0"
            ],
            [
             0.7,
             "#b8e186"
            ],
            [
             0.8,
             "#7fbc41"
            ],
            [
             0.9,
             "#4d9221"
            ],
            [
             1,
             "#276419"
            ]
           ],
           "sequential": [
            [
             0,
             "#0d0887"
            ],
            [
             0.1111111111111111,
             "#46039f"
            ],
            [
             0.2222222222222222,
             "#7201a8"
            ],
            [
             0.3333333333333333,
             "#9c179e"
            ],
            [
             0.4444444444444444,
             "#bd3786"
            ],
            [
             0.5555555555555556,
             "#d8576b"
            ],
            [
             0.6666666666666666,
             "#ed7953"
            ],
            [
             0.7777777777777778,
             "#fb9f3a"
            ],
            [
             0.8888888888888888,
             "#fdca26"
            ],
            [
             1,
             "#f0f921"
            ]
           ],
           "sequentialminus": [
            [
             0,
             "#0d0887"
            ],
            [
             0.1111111111111111,
             "#46039f"
            ],
            [
             0.2222222222222222,
             "#7201a8"
            ],
            [
             0.3333333333333333,
             "#9c179e"
            ],
            [
             0.4444444444444444,
             "#bd3786"
            ],
            [
             0.5555555555555556,
             "#d8576b"
            ],
            [
             0.6666666666666666,
             "#ed7953"
            ],
            [
             0.7777777777777778,
             "#fb9f3a"
            ],
            [
             0.8888888888888888,
             "#fdca26"
            ],
            [
             1,
             "#f0f921"
            ]
           ]
          },
          "colorway": [
           "#636efa",
           "#EF553B",
           "#00cc96",
           "#ab63fa",
           "#FFA15A",
           "#19d3f3",
           "#FF6692",
           "#B6E880",
           "#FF97FF",
           "#FECB52"
          ],
          "font": {
           "color": "#2a3f5f"
          },
          "geo": {
           "bgcolor": "white",
           "lakecolor": "white",
           "landcolor": "#E5ECF6",
           "showlakes": true,
           "showland": true,
           "subunitcolor": "white"
          },
          "hoverlabel": {
           "align": "left"
          },
          "hovermode": "closest",
          "mapbox": {
           "style": "light"
          },
          "paper_bgcolor": "white",
          "plot_bgcolor": "#E5ECF6",
          "polar": {
           "angularaxis": {
            "gridcolor": "white",
            "linecolor": "white",
            "ticks": ""
           },
           "bgcolor": "#E5ECF6",
           "radialaxis": {
            "gridcolor": "white",
            "linecolor": "white",
            "ticks": ""
           }
          },
          "scene": {
           "xaxis": {
            "backgroundcolor": "#E5ECF6",
            "gridcolor": "white",
            "gridwidth": 2,
            "linecolor": "white",
            "showbackground": true,
            "ticks": "",
            "zerolinecolor": "white"
           },
           "yaxis": {
            "backgroundcolor": "#E5ECF6",
            "gridcolor": "white",
            "gridwidth": 2,
            "linecolor": "white",
            "showbackground": true,
            "ticks": "",
            "zerolinecolor": "white"
           },
           "zaxis": {
            "backgroundcolor": "#E5ECF6",
            "gridcolor": "white",
            "gridwidth": 2,
            "linecolor": "white",
            "showbackground": true,
            "ticks": "",
            "zerolinecolor": "white"
           }
          },
          "shapedefaults": {
           "line": {
            "color": "#2a3f5f"
           }
          },
          "ternary": {
           "aaxis": {
            "gridcolor": "white",
            "linecolor": "white",
            "ticks": ""
           },
           "baxis": {
            "gridcolor": "white",
            "linecolor": "white",
            "ticks": ""
           },
           "bgcolor": "#E5ECF6",
           "caxis": {
            "gridcolor": "white",
            "linecolor": "white",
            "ticks": ""
           }
          },
          "title": {
           "x": 0.05
          },
          "xaxis": {
           "automargin": true,
           "gridcolor": "white",
           "linecolor": "white",
           "ticks": "",
           "title": {
            "standoff": 15
           },
           "zerolinecolor": "white",
           "zerolinewidth": 2
          },
          "yaxis": {
           "automargin": true,
           "gridcolor": "white",
           "linecolor": "white",
           "ticks": "",
           "title": {
            "standoff": 15
           },
           "zerolinecolor": "white",
           "zerolinewidth": 2
          }
         }
        },
        "title": {
         "text": "Number of tiles per class per case",
         "x": 0.5,
         "xanchor": "center",
         "y": 0.95,
         "yanchor": "top"
        },
        "xaxis": {
         "autorange": true,
         "range": [
          0,
          91.57894736842105
         ],
         "tickformat": ",.0f"
        },
        "yaxis": {
         "autorange": true,
         "range": [
          -0.5,
          9499.5
         ],
         "type": "linear"
        }
       }
      },
      "image/png": "[encoded data removed]"
     },
     "metadata": {},
     "output_type": "display_data"
    }
   ],
   "source": [
    "fig = go.Figure()\n",
    "fig.add_trace(go.Histogram(y=df['Num_of_benign_tiles'], marker_color=\"darkcyan\", name=\"Benign\"))\n",
    "fig.add_trace(go.Histogram(y=df['Num_of_tumourous_tiles'], marker_color=\"plum\", name=\"Tumorous\"))\n",
    "fig.add_trace(go.Histogram(y=df['Num_of_patches_discarded'], marker_color=\"khaki\", name=\"Background\"))\n",
    "\n",
    "# The two histograms are drawn on top of another\n",
    "fig.update_layout(title={\n",
    "        'text': \"Number of tiles per class per case\",\n",
    "        'y':0.95,\n",
    "        'x':0.5,\n",
    "        'xanchor': 'center',\n",
    "        'yanchor': 'top'},\n",
    "        # xaxis_title_text='Cases',\n",
    "        xaxis_tickformat=\",.0f\",\n",
    "        barmode='stack', \n",
    "        width=700,\n",
    "        margin=dict(l=50, r=50, b=50, t=50))\n",
    "fig.update_traces(opacity=0.8)\n",
    "fig.show()"
   ]
  },
  {
   "cell_type": "code",
   "execution_count": 174,
   "metadata": {},
   "outputs": [
    {
     "data": {
      "text/plain": [
       "Text(0.5, 0, '% of background patches per image')"
      ]
     },
     "execution_count": 174,
     "metadata": {},
     "output_type": "execute_result"
    },
    {
     "data": {
      "image/png": "[encoded data removed]",
      "text/plain": [
       "<Figure size 400x400 with 1 Axes>"
      ]
     },
     "metadata": {},
     "output_type": "display_data"
    }
   ],
   "source": [
    "# Caluclaute percentage of background pixels per image\n",
    "background_patches = df['Num_of_patches_discarded']\n",
    "total_patches = df['Total_num_of_patches']\n",
    "\n",
    "percentage_background = (background_patches/total_patches) * 100\n",
    "\n",
    "ax = plt.figure().gca()\n",
    "\n",
    "ax.hist(percentage_background, color=cd['purple'])\n",
    "# formatter = ticker.ScalarFormatter(useOffset=False, useMathText=True)\n",
    "# lambda x: '{:.0f}'.format(x*status.sum()/100)\n",
    "# formatter = ticker.FuncFormatter(lambda x, pos: f'{x/1000000000:.0f}')\n",
    "# formatter.set_scientific(False)\n",
    "# ax.xaxis.set_major_formatter(formatter)\n",
    "# ax.yaxis.set_major_locator(ticker.MaxNLocator(integer=True))\n",
    "# ax.tick_params(axis='x', labelrotation=90.0)\n",
    "ax.set_xlabel('% of background patches per image')\n",
    "# ax.set_ylabel('Number of slides')"
   ]
  },
  {
   "cell_type": "markdown",
   "metadata": {},
   "source": [
    "Next, calculate some statistics about the dimensions of the GIVEN images (i.e. at level 0)"
   ]
  },
  {
   "cell_type": "code",
   "execution_count": null,
   "metadata": {},
   "outputs": [],
   "source": [
    "# Calculate average width, height\n",
    "\n",
    "# Calculate average number of pixels\n",
    "\n",
    "# Show distribution of image sizes/number of pixels"
   ]
  },
  {
   "cell_type": "markdown",
   "metadata": {},
   "source": [
    "Also, calculate some information about images I am working with (i.e. level 1)"
   ]
  },
  {
   "cell_type": "code",
   "execution_count": null,
   "metadata": {},
   "outputs": [],
   "source": [
    "# * idea: calculate the average size of the images used (in GBs)"
   ]
  },
  {
   "cell_type": "markdown",
   "metadata": {},
   "source": [
    "## HER2 data"
   ]
  },
  {
   "cell_type": "code",
   "execution_count": 16,
   "metadata": {},
   "outputs": [
    {
     "data": {
      "text/html": [
       "<div>\n",
       "<style scoped>\n",
       "    .dataframe tbody tr th:only-of-type {\n",
       "        vertical-align: middle;\n",
       "    }\n",
       "\n",
       "    .dataframe tbody tr th {\n",
       "        vertical-align: top;\n",
       "    }\n",
       "\n",
       "    .dataframe thead th {\n",
       "        text-align: right;\n",
       "    }\n",
       "</style>\n",
       "<table border=\"1\" class=\"dataframe\">\n",
       "  <thead>\n",
       "    <tr style=\"text-align: right;\">\n",
       "      <th></th>\n",
       "      <th>File_name</th>\n",
       "      <th>Clinical.HER2.status</th>\n",
       "      <th>HER2A.status</th>\n",
       "      <th>Unnamed: 5</th>\n",
       "      <th>case_submitter_id</th>\n",
       "      <th>project_id</th>\n",
       "      <th>age_at_index</th>\n",
       "      <th>age_is_obfuscated</th>\n",
       "      <th>cause_of_death</th>\n",
       "      <th>cause_of_death_source</th>\n",
       "      <th>...</th>\n",
       "      <th>treatment_arm</th>\n",
       "      <th>treatment_dose</th>\n",
       "      <th>treatment_dose_units</th>\n",
       "      <th>treatment_effect</th>\n",
       "      <th>treatment_effect_indicator</th>\n",
       "      <th>treatment_frequency</th>\n",
       "      <th>treatment_intent_type</th>\n",
       "      <th>treatment_or_therapy</th>\n",
       "      <th>treatment_outcome</th>\n",
       "      <th>treatment_type</th>\n",
       "    </tr>\n",
       "  </thead>\n",
       "  <tbody>\n",
       "    <tr>\n",
       "      <th>0</th>\n",
       "      <td>TCGA-A1-A0SP-01Z-00-DX1</td>\n",
       "      <td>Negative</td>\n",
       "      <td>non-HER2A</td>\n",
       "      <td>NaN</td>\n",
       "      <td>NaN</td>\n",
       "      <td>NaN</td>\n",
       "      <td>NaN</td>\n",
       "      <td>NaN</td>\n",
       "      <td>NaN</td>\n",
       "      <td>NaN</td>\n",
       "      <td>...</td>\n",
       "      <td>NaN</td>\n",
       "      <td>NaN</td>\n",
       "      <td>NaN</td>\n",
       "      <td>NaN</td>\n",
       "      <td>NaN</td>\n",
       "      <td>NaN</td>\n",
       "      <td>NaN</td>\n",
       "      <td>NaN</td>\n",
       "      <td>NaN</td>\n",
       "      <td>NaN</td>\n",
       "    </tr>\n",
       "    <tr>\n",
       "      <th>1</th>\n",
       "      <td>TCGA-A2-A04W-01Z-00-DX1</td>\n",
       "      <td>Positive</td>\n",
       "      <td>HER2A</td>\n",
       "      <td>NaN</td>\n",
       "      <td>NaN</td>\n",
       "      <td>NaN</td>\n",
       "      <td>NaN</td>\n",
       "      <td>NaN</td>\n",
       "      <td>NaN</td>\n",
       "      <td>NaN</td>\n",
       "      <td>...</td>\n",
       "      <td>NaN</td>\n",
       "      <td>NaN</td>\n",
       "      <td>NaN</td>\n",
       "      <td>NaN</td>\n",
       "      <td>NaN</td>\n",
       "      <td>NaN</td>\n",
       "      <td>NaN</td>\n",
       "      <td>NaN</td>\n",
       "      <td>NaN</td>\n",
       "      <td>NaN</td>\n",
       "    </tr>\n",
       "    <tr>\n",
       "      <th>2</th>\n",
       "      <td>TCGA-A2-A04X-01Z-00-DX1</td>\n",
       "      <td>Positive</td>\n",
       "      <td>HER2A</td>\n",
       "      <td>NaN</td>\n",
       "      <td>NaN</td>\n",
       "      <td>NaN</td>\n",
       "      <td>NaN</td>\n",
       "      <td>NaN</td>\n",
       "      <td>NaN</td>\n",
       "      <td>NaN</td>\n",
       "      <td>...</td>\n",
       "      <td>NaN</td>\n",
       "      <td>NaN</td>\n",
       "      <td>NaN</td>\n",
       "      <td>NaN</td>\n",
       "      <td>NaN</td>\n",
       "      <td>NaN</td>\n",
       "      <td>NaN</td>\n",
       "      <td>NaN</td>\n",
       "      <td>NaN</td>\n",
       "      <td>NaN</td>\n",
       "    </tr>\n",
       "    <tr>\n",
       "      <th>3</th>\n",
       "      <td>TCGA-A2-A0CX-01Z-00-DX1</td>\n",
       "      <td>Positive</td>\n",
       "      <td>HER2A</td>\n",
       "      <td>NaN</td>\n",
       "      <td>NaN</td>\n",
       "      <td>NaN</td>\n",
       "      <td>NaN</td>\n",
       "      <td>NaN</td>\n",
       "      <td>NaN</td>\n",
       "      <td>NaN</td>\n",
       "      <td>...</td>\n",
       "      <td>NaN</td>\n",
       "      <td>NaN</td>\n",
       "      <td>NaN</td>\n",
       "      <td>NaN</td>\n",
       "      <td>NaN</td>\n",
       "      <td>NaN</td>\n",
       "      <td>NaN</td>\n",
       "      <td>NaN</td>\n",
       "      <td>NaN</td>\n",
       "      <td>NaN</td>\n",
       "    </tr>\n",
       "    <tr>\n",
       "      <th>4</th>\n",
       "      <td>TCGA-A2-A0EY-01Z-00-DX1</td>\n",
       "      <td>Positive</td>\n",
       "      <td>HER2A</td>\n",
       "      <td>NaN</td>\n",
       "      <td>NaN</td>\n",
       "      <td>NaN</td>\n",
       "      <td>NaN</td>\n",
       "      <td>NaN</td>\n",
       "      <td>NaN</td>\n",
       "      <td>NaN</td>\n",
       "      <td>...</td>\n",
       "      <td>NaN</td>\n",
       "      <td>NaN</td>\n",
       "      <td>NaN</td>\n",
       "      <td>NaN</td>\n",
       "      <td>NaN</td>\n",
       "      <td>NaN</td>\n",
       "      <td>NaN</td>\n",
       "      <td>NaN</td>\n",
       "      <td>NaN</td>\n",
       "      <td>NaN</td>\n",
       "    </tr>\n",
       "  </tbody>\n",
       "</table>\n",
       "<p>5 rows × 161 columns</p>\n",
       "</div>"
      ],
      "text/plain": [
       "                 File_name Clinical.HER2.status HER2A.status  Unnamed: 5  \\\n",
       "0  TCGA-A1-A0SP-01Z-00-DX1             Negative    non-HER2A         NaN   \n",
       "1  TCGA-A2-A04W-01Z-00-DX1             Positive        HER2A         NaN   \n",
       "2  TCGA-A2-A04X-01Z-00-DX1             Positive        HER2A         NaN   \n",
       "3  TCGA-A2-A0CX-01Z-00-DX1             Positive        HER2A         NaN   \n",
       "4  TCGA-A2-A0EY-01Z-00-DX1             Positive        HER2A         NaN   \n",
       "\n",
       "   case_submitter_id  project_id  age_at_index  age_is_obfuscated  \\\n",
       "0                NaN         NaN           NaN                NaN   \n",
       "1                NaN         NaN           NaN                NaN   \n",
       "2                NaN         NaN           NaN                NaN   \n",
       "3                NaN         NaN           NaN                NaN   \n",
       "4                NaN         NaN           NaN                NaN   \n",
       "\n",
       "   cause_of_death  cause_of_death_source  ...  treatment_arm  treatment_dose  \\\n",
       "0             NaN                    NaN  ...            NaN             NaN   \n",
       "1             NaN                    NaN  ...            NaN             NaN   \n",
       "2             NaN                    NaN  ...            NaN             NaN   \n",
       "3             NaN                    NaN  ...            NaN             NaN   \n",
       "4             NaN                    NaN  ...            NaN             NaN   \n",
       "\n",
       "   treatment_dose_units  treatment_effect  treatment_effect_indicator  \\\n",
       "0                   NaN               NaN                         NaN   \n",
       "1                   NaN               NaN                         NaN   \n",
       "2                   NaN               NaN                         NaN   \n",
       "3                   NaN               NaN                         NaN   \n",
       "4                   NaN               NaN                         NaN   \n",
       "\n",
       "   treatment_frequency  treatment_intent_type  treatment_or_therapy  \\\n",
       "0                  NaN                    NaN                   NaN   \n",
       "1                  NaN                    NaN                   NaN   \n",
       "2                  NaN                    NaN                   NaN   \n",
       "3                  NaN                    NaN                   NaN   \n",
       "4                  NaN                    NaN                   NaN   \n",
       "\n",
       "   treatment_outcome  treatment_type  \n",
       "0                NaN             NaN  \n",
       "1                NaN             NaN  \n",
       "2                NaN             NaN  \n",
       "3                NaN             NaN  \n",
       "4                NaN             NaN  \n",
       "\n",
       "[5 rows x 161 columns]"
      ]
     },
     "metadata": {},
     "output_type": "display_data"
    }
   ],
   "source": [
    "her2_df = pd.read_excel('/Users/alexandrasmith/Desktop/Workspace/Projects/masters/data/raw/HER2DataInfo.xlsx')\n",
    "her2_df.drop(['Source', 'My ID'], axis=1, inplace=True)\n",
    "her2_df = her2_df.rename(columns={'Case ID': 'File_name'})\n",
    "# patches_df.drop(['Unnamed: 0'], axis=1, inplace=True)\n",
    "display(her2_df.head())"
   ]
  },
  {
   "cell_type": "code",
   "execution_count": 17,
   "metadata": {},
   "outputs": [],
   "source": [
    "# Delete NaN columns\n",
    "for col in her2_df.columns:\n",
    "   if her2_df[col].isnull().all():\n",
    "     her2_df.drop([col], axis=1, inplace=True)\n",
    "\n",
    "# Rename column to match previous dataframes\n",
    "her2_df.rename(columns = {'Case ID':'File_name'}, inplace = True)\n",
    "\n",
    "# display(her2_df.head())"
   ]
  },
  {
   "cell_type": "code",
   "execution_count": 18,
   "metadata": {},
   "outputs": [],
   "source": [
    "# Keep only file names used for my project\n",
    "file_names = df['File_name']\n",
    "her2_filtered = her2_df[her2_df['File_name'].isin(file_names)]"
   ]
  },
  {
   "cell_type": "code",
   "execution_count": 19,
   "metadata": {},
   "outputs": [
    {
     "data": {
      "text/html": [
       "<div>\n",
       "<style scoped>\n",
       "    .dataframe tbody tr th:only-of-type {\n",
       "        vertical-align: middle;\n",
       "    }\n",
       "\n",
       "    .dataframe tbody tr th {\n",
       "        vertical-align: top;\n",
       "    }\n",
       "\n",
       "    .dataframe thead th {\n",
       "        text-align: right;\n",
       "    }\n",
       "</style>\n",
       "<table border=\"1\" class=\"dataframe\">\n",
       "  <thead>\n",
       "    <tr style=\"text-align: right;\">\n",
       "      <th></th>\n",
       "      <th>File_name</th>\n",
       "      <th>Level0_factor</th>\n",
       "      <th>Level1_factor</th>\n",
       "      <th>Level2_factor</th>\n",
       "      <th>Level3_factor</th>\n",
       "      <th>Level0_height</th>\n",
       "      <th>Level0_width</th>\n",
       "      <th>Level1_height</th>\n",
       "      <th>Level1_width</th>\n",
       "      <th>Level2_height</th>\n",
       "      <th>...</th>\n",
       "      <th>Stride</th>\n",
       "      <th>Total_num_of_patches</th>\n",
       "      <th>Num_of_patches_discarded</th>\n",
       "      <th>Num_of_benign_tiles</th>\n",
       "      <th>Num_of_tumourous_tiles</th>\n",
       "      <th>Total num of remaining patches</th>\n",
       "      <th>% benign</th>\n",
       "      <th>% tumourous</th>\n",
       "      <th>Clinical.HER2.status</th>\n",
       "      <th>HER2A.status</th>\n",
       "    </tr>\n",
       "  </thead>\n",
       "  <tbody>\n",
       "    <tr>\n",
       "      <th>0</th>\n",
       "      <td>TCGA-A8-A09K-01Z-00-DX1</td>\n",
       "      <td>1.0</td>\n",
       "      <td>4.000000</td>\n",
       "      <td>16.000000</td>\n",
       "      <td>32.000000</td>\n",
       "      <td>49408</td>\n",
       "      <td>81408</td>\n",
       "      <td>12352</td>\n",
       "      <td>20352</td>\n",
       "      <td>3088</td>\n",
       "      <td>...</td>\n",
       "      <td>256.0</td>\n",
       "      <td>3792.0</td>\n",
       "      <td>2695.0</td>\n",
       "      <td>217</td>\n",
       "      <td>880</td>\n",
       "      <td>1097</td>\n",
       "      <td>19.781222</td>\n",
       "      <td>80.218778</td>\n",
       "      <td>Negative</td>\n",
       "      <td>non-HER2A</td>\n",
       "    </tr>\n",
       "    <tr>\n",
       "      <th>1</th>\n",
       "      <td>TCGA-A1-A0SP-01Z-00-DX1</td>\n",
       "      <td>1.0</td>\n",
       "      <td>4.000037</td>\n",
       "      <td>16.001438</td>\n",
       "      <td>32.005217</td>\n",
       "      <td>90504</td>\n",
       "      <td>109434</td>\n",
       "      <td>22626</td>\n",
       "      <td>27358</td>\n",
       "      <td>5656</td>\n",
       "      <td>...</td>\n",
       "      <td>256.0</td>\n",
       "      <td>9328.0</td>\n",
       "      <td>3923.0</td>\n",
       "      <td>2489</td>\n",
       "      <td>2916</td>\n",
       "      <td>5405</td>\n",
       "      <td>46.049954</td>\n",
       "      <td>53.950046</td>\n",
       "      <td>Negative</td>\n",
       "      <td>non-HER2A</td>\n",
       "    </tr>\n",
       "    <tr>\n",
       "      <th>2</th>\n",
       "      <td>TCGA-A2-A0YG-01Z-00-DX1</td>\n",
       "      <td>1.0</td>\n",
       "      <td>4.000051</td>\n",
       "      <td>16.002389</td>\n",
       "      <td>32.004777</td>\n",
       "      <td>77998</td>\n",
       "      <td>100812</td>\n",
       "      <td>19499</td>\n",
       "      <td>25203</td>\n",
       "      <td>4874</td>\n",
       "      <td>...</td>\n",
       "      <td>256.0</td>\n",
       "      <td>7448.0</td>\n",
       "      <td>5818.0</td>\n",
       "      <td>316</td>\n",
       "      <td>1314</td>\n",
       "      <td>1630</td>\n",
       "      <td>19.386503</td>\n",
       "      <td>80.613497</td>\n",
       "      <td>Positive</td>\n",
       "      <td>HER2A</td>\n",
       "    </tr>\n",
       "    <tr>\n",
       "      <th>3</th>\n",
       "      <td>TCGA-A2-A0CX-01Z-00-DX1</td>\n",
       "      <td>1.0</td>\n",
       "      <td>4.000133</td>\n",
       "      <td>16.001814</td>\n",
       "      <td>32.003627</td>\n",
       "      <td>81606</td>\n",
       "      <td>71819</td>\n",
       "      <td>20401</td>\n",
       "      <td>17954</td>\n",
       "      <td>5100</td>\n",
       "      <td>...</td>\n",
       "      <td>256.0</td>\n",
       "      <td>5530.0</td>\n",
       "      <td>4301.0</td>\n",
       "      <td>372</td>\n",
       "      <td>857</td>\n",
       "      <td>1229</td>\n",
       "      <td>30.268511</td>\n",
       "      <td>69.731489</td>\n",
       "      <td>Positive</td>\n",
       "      <td>HER2A</td>\n",
       "    </tr>\n",
       "    <tr>\n",
       "      <th>4</th>\n",
       "      <td>TCGA-A2-A0EY-01Z-00-DX1</td>\n",
       "      <td>1.0</td>\n",
       "      <td>4.000053</td>\n",
       "      <td>16.001258</td>\n",
       "      <td>32.002516</td>\n",
       "      <td>91820</td>\n",
       "      <td>112995</td>\n",
       "      <td>22955</td>\n",
       "      <td>28248</td>\n",
       "      <td>5738</td>\n",
       "      <td>...</td>\n",
       "      <td>256.0</td>\n",
       "      <td>9790.0</td>\n",
       "      <td>3270.0</td>\n",
       "      <td>2631</td>\n",
       "      <td>3889</td>\n",
       "      <td>6520</td>\n",
       "      <td>40.352761</td>\n",
       "      <td>59.647239</td>\n",
       "      <td>Positive</td>\n",
       "      <td>HER2A</td>\n",
       "    </tr>\n",
       "    <tr>\n",
       "      <th>...</th>\n",
       "      <td>...</td>\n",
       "      <td>...</td>\n",
       "      <td>...</td>\n",
       "      <td>...</td>\n",
       "      <td>...</td>\n",
       "      <td>...</td>\n",
       "      <td>...</td>\n",
       "      <td>...</td>\n",
       "      <td>...</td>\n",
       "      <td>...</td>\n",
       "      <td>...</td>\n",
       "      <td>...</td>\n",
       "      <td>...</td>\n",
       "      <td>...</td>\n",
       "      <td>...</td>\n",
       "      <td>...</td>\n",
       "      <td>...</td>\n",
       "      <td>...</td>\n",
       "      <td>...</td>\n",
       "      <td>...</td>\n",
       "      <td>...</td>\n",
       "    </tr>\n",
       "    <tr>\n",
       "      <th>142</th>\n",
       "      <td>TCGA-E9-A249-01Z-00-DX1</td>\n",
       "      <td>1.0</td>\n",
       "      <td>4.000054</td>\n",
       "      <td>16.001208</td>\n",
       "      <td>32.002416</td>\n",
       "      <td>74662</td>\n",
       "      <td>113288</td>\n",
       "      <td>18665</td>\n",
       "      <td>28322</td>\n",
       "      <td>4666</td>\n",
       "      <td>...</td>\n",
       "      <td>256.0</td>\n",
       "      <td>7920.0</td>\n",
       "      <td>4015.0</td>\n",
       "      <td>216</td>\n",
       "      <td>3689</td>\n",
       "      <td>3905</td>\n",
       "      <td>5.531370</td>\n",
       "      <td>94.468630</td>\n",
       "      <td>Negative</td>\n",
       "      <td>non-HER2A</td>\n",
       "    </tr>\n",
       "    <tr>\n",
       "      <th>143</th>\n",
       "      <td>TCGA-EW-A1P4-01Z-00-DX1</td>\n",
       "      <td>1.0</td>\n",
       "      <td>4.000110</td>\n",
       "      <td>16.001159</td>\n",
       "      <td>32.002318</td>\n",
       "      <td>81190</td>\n",
       "      <td>98631</td>\n",
       "      <td>20297</td>\n",
       "      <td>24657</td>\n",
       "      <td>5074</td>\n",
       "      <td>...</td>\n",
       "      <td>256.0</td>\n",
       "      <td>7584.0</td>\n",
       "      <td>4478.0</td>\n",
       "      <td>2939</td>\n",
       "      <td>167</td>\n",
       "      <td>3106</td>\n",
       "      <td>94.623310</td>\n",
       "      <td>5.376690</td>\n",
       "      <td>Negative</td>\n",
       "      <td>non-HER2A</td>\n",
       "    </tr>\n",
       "    <tr>\n",
       "      <th>144</th>\n",
       "      <td>TCGA-EW-A1PA-01Z-00-DX1</td>\n",
       "      <td>1.0</td>\n",
       "      <td>4.000086</td>\n",
       "      <td>16.000672</td>\n",
       "      <td>32.004568</td>\n",
       "      <td>79409</td>\n",
       "      <td>98055</td>\n",
       "      <td>19852</td>\n",
       "      <td>24513</td>\n",
       "      <td>4963</td>\n",
       "      <td>...</td>\n",
       "      <td>256.0</td>\n",
       "      <td>7315.0</td>\n",
       "      <td>3784.0</td>\n",
       "      <td>2023</td>\n",
       "      <td>1508</td>\n",
       "      <td>3531</td>\n",
       "      <td>57.292552</td>\n",
       "      <td>42.707448</td>\n",
       "      <td>Negative</td>\n",
       "      <td>non-HER2A</td>\n",
       "    </tr>\n",
       "    <tr>\n",
       "      <th>145</th>\n",
       "      <td>TCGA-EW-A1PD-01Z-00-DX1</td>\n",
       "      <td>1.0</td>\n",
       "      <td>4.000100</td>\n",
       "      <td>16.001426</td>\n",
       "      <td>32.002853</td>\n",
       "      <td>85834</td>\n",
       "      <td>113287</td>\n",
       "      <td>21458</td>\n",
       "      <td>28321</td>\n",
       "      <td>5364</td>\n",
       "      <td>...</td>\n",
       "      <td>256.0</td>\n",
       "      <td>9130.0</td>\n",
       "      <td>6137.0</td>\n",
       "      <td>2440</td>\n",
       "      <td>553</td>\n",
       "      <td>2993</td>\n",
       "      <td>81.523555</td>\n",
       "      <td>18.476445</td>\n",
       "      <td>Positive</td>\n",
       "      <td>non-HER2A</td>\n",
       "    </tr>\n",
       "    <tr>\n",
       "      <th>146</th>\n",
       "      <td>TCGA-EW-A1PF-01Z-00-DX1</td>\n",
       "      <td>1.0</td>\n",
       "      <td>4.000050</td>\n",
       "      <td>16.001234</td>\n",
       "      <td>32.004619</td>\n",
       "      <td>83880</td>\n",
       "      <td>118999</td>\n",
       "      <td>20970</td>\n",
       "      <td>29749</td>\n",
       "      <td>5242</td>\n",
       "      <td>...</td>\n",
       "      <td>256.0</td>\n",
       "      <td>9396.0</td>\n",
       "      <td>6424.0</td>\n",
       "      <td>2099</td>\n",
       "      <td>873</td>\n",
       "      <td>2972</td>\n",
       "      <td>70.625841</td>\n",
       "      <td>29.374159</td>\n",
       "      <td>Negative</td>\n",
       "      <td>non-HER2A</td>\n",
       "    </tr>\n",
       "  </tbody>\n",
       "</table>\n",
       "<p>147 rows × 24 columns</p>\n",
       "</div>"
      ],
      "text/plain": [
       "                   File_name  Level0_factor  Level1_factor  Level2_factor  \\\n",
       "0    TCGA-A8-A09K-01Z-00-DX1            1.0       4.000000      16.000000   \n",
       "1    TCGA-A1-A0SP-01Z-00-DX1            1.0       4.000037      16.001438   \n",
       "2    TCGA-A2-A0YG-01Z-00-DX1            1.0       4.000051      16.002389   \n",
       "3    TCGA-A2-A0CX-01Z-00-DX1            1.0       4.000133      16.001814   \n",
       "4    TCGA-A2-A0EY-01Z-00-DX1            1.0       4.000053      16.001258   \n",
       "..                       ...            ...            ...            ...   \n",
       "142  TCGA-E9-A249-01Z-00-DX1            1.0       4.000054      16.001208   \n",
       "143  TCGA-EW-A1P4-01Z-00-DX1            1.0       4.000110      16.001159   \n",
       "144  TCGA-EW-A1PA-01Z-00-DX1            1.0       4.000086      16.000672   \n",
       "145  TCGA-EW-A1PD-01Z-00-DX1            1.0       4.000100      16.001426   \n",
       "146  TCGA-EW-A1PF-01Z-00-DX1            1.0       4.000050      16.001234   \n",
       "\n",
       "     Level3_factor  Level0_height  Level0_width  Level1_height  Level1_width  \\\n",
       "0        32.000000          49408         81408          12352         20352   \n",
       "1        32.005217          90504        109434          22626         27358   \n",
       "2        32.004777          77998        100812          19499         25203   \n",
       "3        32.003627          81606         71819          20401         17954   \n",
       "4        32.002516          91820        112995          22955         28248   \n",
       "..             ...            ...           ...            ...           ...   \n",
       "142      32.002416          74662        113288          18665         28322   \n",
       "143      32.002318          81190         98631          20297         24657   \n",
       "144      32.004568          79409         98055          19852         24513   \n",
       "145      32.002853          85834        113287          21458         28321   \n",
       "146      32.004619          83880        118999          20970         29749   \n",
       "\n",
       "     Level2_height  ...  Stride  Total_num_of_patches  \\\n",
       "0             3088  ...   256.0                3792.0   \n",
       "1             5656  ...   256.0                9328.0   \n",
       "2             4874  ...   256.0                7448.0   \n",
       "3             5100  ...   256.0                5530.0   \n",
       "4             5738  ...   256.0                9790.0   \n",
       "..             ...  ...     ...                   ...   \n",
       "142           4666  ...   256.0                7920.0   \n",
       "143           5074  ...   256.0                7584.0   \n",
       "144           4963  ...   256.0                7315.0   \n",
       "145           5364  ...   256.0                9130.0   \n",
       "146           5242  ...   256.0                9396.0   \n",
       "\n",
       "     Num_of_patches_discarded  Num_of_benign_tiles  Num_of_tumourous_tiles  \\\n",
       "0                      2695.0                  217                     880   \n",
       "1                      3923.0                 2489                    2916   \n",
       "2                      5818.0                  316                    1314   \n",
       "3                      4301.0                  372                     857   \n",
       "4                      3270.0                 2631                    3889   \n",
       "..                        ...                  ...                     ...   \n",
       "142                    4015.0                  216                    3689   \n",
       "143                    4478.0                 2939                     167   \n",
       "144                    3784.0                 2023                    1508   \n",
       "145                    6137.0                 2440                     553   \n",
       "146                    6424.0                 2099                     873   \n",
       "\n",
       "     Total num of remaining patches   % benign % tumourous  \\\n",
       "0                              1097  19.781222   80.218778   \n",
       "1                              5405  46.049954   53.950046   \n",
       "2                              1630  19.386503   80.613497   \n",
       "3                              1229  30.268511   69.731489   \n",
       "4                              6520  40.352761   59.647239   \n",
       "..                              ...        ...         ...   \n",
       "142                            3905   5.531370   94.468630   \n",
       "143                            3106  94.623310    5.376690   \n",
       "144                            3531  57.292552   42.707448   \n",
       "145                            2993  81.523555   18.476445   \n",
       "146                            2972  70.625841   29.374159   \n",
       "\n",
       "    Clinical.HER2.status HER2A.status  \n",
       "0               Negative    non-HER2A  \n",
       "1               Negative    non-HER2A  \n",
       "2               Positive        HER2A  \n",
       "3               Positive        HER2A  \n",
       "4               Positive        HER2A  \n",
       "..                   ...          ...  \n",
       "142             Negative    non-HER2A  \n",
       "143             Negative    non-HER2A  \n",
       "144             Negative    non-HER2A  \n",
       "145             Positive    non-HER2A  \n",
       "146             Negative    non-HER2A  \n",
       "\n",
       "[147 rows x 24 columns]"
      ]
     },
     "metadata": {},
     "output_type": "display_data"
    }
   ],
   "source": [
    "# Combine dataframes on case ID\n",
    "merged_df = pd.merge(df, her2_filtered, on='File_name', how='left')\n",
    "display(merged_df)"
   ]
  },
  {
   "cell_type": "markdown",
   "metadata": {},
   "source": [
    "## Pie chart"
   ]
  },
  {
   "cell_type": "markdown",
   "metadata": {},
   "source": [
    "Create a pie chart for number of patches that are HER2+-"
   ]
  },
  {
   "cell_type": "code",
   "execution_count": 20,
   "metadata": {},
   "outputs": [
    {
     "name": "stdout",
     "output_type": "stream",
     "text": [
      "Positive    77\n",
      "Negative    70\n",
      "Name: Clinical.HER2.status, dtype: int64\n"
     ]
    },
    {
     "data": {
      "image/png": "[encoded data removed]",
      "text/plain": [
       "<Figure size 400x400 with 1 Axes>"
      ]
     },
     "metadata": {},
     "output_type": "display_data"
    }
   ],
   "source": [
    "# Create pie chart\n",
    "# can increase figsize for better resolution (for final saved image)\n",
    "plt.rcParams[\"figure.figsize\"] = [4, 4]\n",
    "col_name = 'Clinical.HER2.status'\n",
    "status_counts = her2_filtered[col_name].value_counts()\n",
    "print(status_counts)\n",
    "plt.pie(status_counts, colors=[colourlist['purple'], colourlist['green']], startangle=90, autopct=lambda x: '{:.0f}'.format(x*status_counts.sum()/100))\n",
    "# plt.pie(status, colors=['mediumpurple', 'mediumaquamarine'], startangle=90, autopct=lambda x: '{:.2f}%'.format(x))\n",
    "plt.legend(labels=['HER2 +', 'HER2 -'], bbox_to_anchor=(0.5,0.08), loc=\"center\", bbox_transform=plt.gcf().transFigure, ncol=2)\n",
    "# plt.title(\"HER2 status: cases\")\n",
    "plt.show()"
   ]
  },
  {
   "cell_type": "code",
   "execution_count": 175,
   "metadata": {},
   "outputs": [
    {
     "data": {
      "application/vnd.plotly.v1+json": {
       "config": {
        "plotlyServerURL": "https://plot.ly"
       },
       "data": [
        {
         "domain": {
          "x": [
           0,
           1
          ],
          "y": [
           0,
           1
          ]
         },
         "hovertemplate": "label=%{label}<br>value=%{value}<extra></extra>",
         "labels": [
          "Positive",
          "Negative"
         ],
         "legendgroup": "",
         "name": "",
         "showlegend": true,
         "type": "pie",
         "values": [
          77,
          70
         ]
        }
       ],
       "layout": {
        "autosize": true,
        "legend": {
         "tracegroupgap": 0
        },
        "margin": {
         "b": 30,
         "l": 50,
         "r": 50,
         "t": 80
        },
        "template": {
         "data": {
          "bar": [
           {
            "error_x": {
             "color": "#2a3f5f"
            },
            "error_y": {
             "color": "#2a3f5f"
            },
            "marker": {
             "line": {
              "color": "#E5ECF6",
              "width": 0.5
             },
             "pattern": {
              "fillmode": "overlay",
              "size": 10,
              "solidity": 0.2
             }
            },
            "type": "bar"
           }
          ],
          "barpolar": [
           {
            "marker": {
             "line": {
              "color": "#E5ECF6",
              "width": 0.5
             },
             "pattern": {
              "fillmode": "overlay",
              "size": 10,
              "solidity": 0.2
             }
            },
            "type": "barpolar"
           }
          ],
          "carpet": [
           {
            "aaxis": {
             "endlinecolor": "#2a3f5f",
             "gridcolor": "white",
             "linecolor": "white",
             "minorgridcolor": "white",
             "startlinecolor": "#2a3f5f"
            },
            "baxis": {
             "endlinecolor": "#2a3f5f",
             "gridcolor": "white",
             "linecolor": "white",
             "minorgridcolor": "white",
             "startlinecolor": "#2a3f5f"
            },
            "type": "carpet"
           }
          ],
          "choropleth": [
           {
            "colorbar": {
             "outlinewidth": 0,
             "ticks": ""
            },
            "type": "choropleth"
           }
          ],
          "contour": [
           {
            "colorbar": {
             "outlinewidth": 0,
             "ticks": ""
            },
            "colorscale": [
             [
              0,
              "#0d0887"
             ],
             [
              0.1111111111111111,
              "#46039f"
             ],
             [
              0.2222222222222222,
              "#7201a8"
             ],
             [
              0.3333333333333333,
              "#9c179e"
             ],
             [
              0.4444444444444444,
              "#bd3786"
             ],
             [
              0.5555555555555556,
              "#d8576b"
             ],
             [
              0.6666666666666666,
              "#ed7953"
             ],
             [
              0.7777777777777778,
              "#fb9f3a"
             ],
             [
              0.8888888888888888,
              "#fdca26"
             ],
             [
              1,
              "#f0f921"
             ]
            ],
            "type": "contour"
           }
          ],
          "contourcarpet": [
           {
            "colorbar": {
             "outlinewidth": 0,
             "ticks": ""
            },
            "type": "contourcarpet"
           }
          ],
          "heatmap": [
           {
            "colorbar": {
             "outlinewidth": 0,
             "ticks": ""
            },
            "colorscale": [
             [
              0,
              "#0d0887"
             ],
             [
              0.1111111111111111,
              "#46039f"
             ],
             [
              0.2222222222222222,
              "#7201a8"
             ],
             [
              0.3333333333333333,
              "#9c179e"
             ],
             [
              0.4444444444444444,
              "#bd3786"
             ],
             [
              0.5555555555555556,
              "#d8576b"
             ],
             [
              0.6666666666666666,
              "#ed7953"
             ],
             [
              0.7777777777777778,
              "#fb9f3a"
             ],
             [
              0.8888888888888888,
              "#fdca26"
             ],
             [
              1,
              "#f0f921"
             ]
            ],
            "type": "heatmap"
           }
          ],
          "heatmapgl": [
           {
            "colorbar": {
             "outlinewidth": 0,
             "ticks": ""
            },
            "colorscale": [
             [
              0,
              "#0d0887"
             ],
             [
              0.1111111111111111,
              "#46039f"
             ],
             [
              0.2222222222222222,
              "#7201a8"
             ],
             [
              0.3333333333333333,
              "#9c179e"
             ],
             [
              0.4444444444444444,
              "#bd3786"
             ],
             [
              0.5555555555555556,
              "#d8576b"
             ],
             [
              0.6666666666666666,
              "#ed7953"
             ],
             [
              0.7777777777777778,
              "#fb9f3a"
             ],
             [
              0.8888888888888888,
              "#fdca26"
             ],
             [
              1,
              "#f0f921"
             ]
            ],
            "type": "heatmapgl"
           }
          ],
          "histogram": [
           {
            "marker": {
             "pattern": {
              "fillmode": "overlay",
              "size": 10,
              "solidity": 0.2
             }
            },
            "type": "histogram"
           }
          ],
          "histogram2d": [
           {
            "colorbar": {
             "outlinewidth": 0,
             "ticks": ""
            },
            "colorscale": [
             [
              0,
              "#0d0887"
             ],
             [
              0.1111111111111111,
              "#46039f"
             ],
             [
              0.2222222222222222,
              "#7201a8"
             ],
             [
              0.3333333333333333,
              "#9c179e"
             ],
             [
              0.4444444444444444,
              "#bd3786"
             ],
             [
              0.5555555555555556,
              "#d8576b"
             ],
             [
              0.6666666666666666,
              "#ed7953"
             ],
             [
              0.7777777777777778,
              "#fb9f3a"
             ],
             [
              0.8888888888888888,
              "#fdca26"
             ],
             [
              1,
              "#f0f921"
             ]
            ],
            "type": "histogram2d"
           }
          ],
          "histogram2dcontour": [
           {
            "colorbar": {
             "outlinewidth": 0,
             "ticks": ""
            },
            "colorscale": [
             [
              0,
              "#0d0887"
             ],
             [
              0.1111111111111111,
              "#46039f"
             ],
             [
              0.2222222222222222,
              "#7201a8"
             ],
             [
              0.3333333333333333,
              "#9c179e"
             ],
             [
              0.4444444444444444,
              "#bd3786"
             ],
             [
              0.5555555555555556,
              "#d8576b"
             ],
             [
              0.6666666666666666,
              "#ed7953"
             ],
             [
              0.7777777777777778,
              "#fb9f3a"
             ],
             [
              0.8888888888888888,
              "#fdca26"
             ],
             [
              1,
              "#f0f921"
             ]
            ],
            "type": "histogram2dcontour"
           }
          ],
          "mesh3d": [
           {
            "colorbar": {
             "outlinewidth": 0,
             "ticks": ""
            },
            "type": "mesh3d"
           }
          ],
          "parcoords": [
           {
            "line": {
             "colorbar": {
              "outlinewidth": 0,
              "ticks": ""
             }
            },
            "type": "parcoords"
           }
          ],
          "pie": [
           {
            "automargin": true,
            "type": "pie"
           }
          ],
          "scatter": [
           {
            "fillpattern": {
             "fillmode": "overlay",
             "size": 10,
             "solidity": 0.2
            },
            "type": "scatter"
           }
          ],
          "scatter3d": [
           {
            "line": {
             "colorbar": {
              "outlinewidth": 0,
              "ticks": ""
             }
            },
            "marker": {
             "colorbar": {
              "outlinewidth": 0,
              "ticks": ""
             }
            },
            "type": "scatter3d"
           }
          ],
          "scattercarpet": [
           {
            "marker": {
             "colorbar": {
              "outlinewidth": 0,
              "ticks": ""
             }
            },
            "type": "scattercarpet"
           }
          ],
          "scattergeo": [
           {
            "marker": {
             "colorbar": {
              "outlinewidth": 0,
              "ticks": ""
             }
            },
            "type": "scattergeo"
           }
          ],
          "scattergl": [
           {
            "marker": {
             "colorbar": {
              "outlinewidth": 0,
              "ticks": ""
             }
            },
            "type": "scattergl"
           }
          ],
          "scattermapbox": [
           {
            "marker": {
             "colorbar": {
              "outlinewidth": 0,
              "ticks": ""
             }
            },
            "type": "scattermapbox"
           }
          ],
          "scatterpolar": [
           {
            "marker": {
             "colorbar": {
              "outlinewidth": 0,
              "ticks": ""
             }
            },
            "type": "scatterpolar"
           }
          ],
          "scatterpolargl": [
           {
            "marker": {
             "colorbar": {
              "outlinewidth": 0,
              "ticks": ""
             }
            },
            "type": "scatterpolargl"
           }
          ],
          "scatterternary": [
           {
            "marker": {
             "colorbar": {
              "outlinewidth": 0,
              "ticks": ""
             }
            },
            "type": "scatterternary"
           }
          ],
          "surface": [
           {
            "colorbar": {
             "outlinewidth": 0,
             "ticks": ""
            },
            "colorscale": [
             [
              0,
              "#0d0887"
             ],
             [
              0.1111111111111111,
              "#46039f"
             ],
             [
              0.2222222222222222,
              "#7201a8"
             ],
             [
              0.3333333333333333,
              "#9c179e"
             ],
             [
              0.4444444444444444,
              "#bd3786"
             ],
             [
              0.5555555555555556,
              "#d8576b"
             ],
             [
              0.6666666666666666,
              "#ed7953"
             ],
             [
              0.7777777777777778,
              "#fb9f3a"
             ],
             [
              0.8888888888888888,
              "#fdca26"
             ],
             [
              1,
              "#f0f921"
             ]
            ],
            "type": "surface"
           }
          ],
          "table": [
           {
            "cells": {
             "fill": {
              "color": "#EBF0F8"
             },
             "line": {
              "color": "white"
             }
            },
            "header": {
             "fill": {
              "color": "#C8D4E3"
             },
             "line": {
              "color": "white"
             }
            },
            "type": "table"
           }
          ]
         },
         "layout": {
          "annotationdefaults": {
           "arrowcolor": "#2a3f5f",
           "arrowhead": 0,
           "arrowwidth": 1
          },
          "autotypenumbers": "strict",
          "coloraxis": {
           "colorbar": {
            "outlinewidth": 0,
            "ticks": ""
           }
          },
          "colorscale": {
           "diverging": [
            [
             0,
             "#8e0152"
            ],
            [
             0.1,
             "#c51b7d"
            ],
            [
             0.2,
             "#de77ae"
            ],
            [
             0.3,
             "#f1b6da"
            ],
            [
             0.4,
             "#fde0ef"
            ],
            [
             0.5,
             "#f7f7f7"
            ],
            [
             0.6,
             "#e6f5d0"
            ],
            [
             0.7,
             "#b8e186"
            ],
            [
             0.8,
             "#7fbc41"
            ],
            [
             0.9,
             "#4d9221"
            ],
            [
             1,
             "#276419"
            ]
           ],
           "sequential": [
            [
             0,
             "#0d0887"
            ],
            [
             0.1111111111111111,
             "#46039f"
            ],
            [
             0.2222222222222222,
             "#7201a8"
            ],
            [
             0.3333333333333333,
             "#9c179e"
            ],
            [
             0.4444444444444444,
             "#bd3786"
            ],
            [
             0.5555555555555556,
             "#d8576b"
            ],
            [
             0.6666666666666666,
             "#ed7953"
            ],
            [
             0.7777777777777778,
             "#fb9f3a"
            ],
            [
             0.8888888888888888,
             "#fdca26"
            ],
            [
             1,
             "#f0f921"
            ]
           ],
           "sequentialminus": [
            [
             0,
             "#0d0887"
            ],
            [
             0.1111111111111111,
             "#46039f"
            ],
            [
             0.2222222222222222,
             "#7201a8"
            ],
            [
             0.3333333333333333,
             "#9c179e"
            ],
            [
             0.4444444444444444,
             "#bd3786"
            ],
            [
             0.5555555555555556,
             "#d8576b"
            ],
            [
             0.6666666666666666,
             "#ed7953"
            ],
            [
             0.7777777777777778,
             "#fb9f3a"
            ],
            [
             0.8888888888888888,
             "#fdca26"
            ],
            [
             1,
             "#f0f921"
            ]
           ]
          },
          "colorway": [
           "#636efa",
           "#EF553B",
           "#00cc96",
           "#ab63fa",
           "#FFA15A",
           "#19d3f3",
           "#FF6692",
           "#B6E880",
           "#FF97FF",
           "#FECB52"
          ],
          "font": {
           "color": "#2a3f5f"
          },
          "geo": {
           "bgcolor": "white",
           "lakecolor": "white",
           "landcolor": "#E5ECF6",
           "showlakes": true,
           "showland": true,
           "subunitcolor": "white"
          },
          "hoverlabel": {
           "align": "left"
          },
          "hovermode": "closest",
          "mapbox": {
           "style": "light"
          },
          "paper_bgcolor": "white",
          "plot_bgcolor": "#E5ECF6",
          "polar": {
           "angularaxis": {
            "gridcolor": "white",
            "linecolor": "white",
            "ticks": ""
           },
           "bgcolor": "#E5ECF6",
           "radialaxis": {
            "gridcolor": "white",
            "linecolor": "white",
            "ticks": ""
           }
          },
          "scene": {
           "xaxis": {
            "backgroundcolor": "#E5ECF6",
            "gridcolor": "white",
            "gridwidth": 2,
            "linecolor": "white",
            "showbackground": true,
            "ticks": "",
            "zerolinecolor": "white"
           },
           "yaxis": {
            "backgroundcolor": "#E5ECF6",
            "gridcolor": "white",
            "gridwidth": 2,
            "linecolor": "white",
            "showbackground": true,
            "ticks": "",
            "zerolinecolor": "white"
           },
           "zaxis": {
            "backgroundcolor": "#E5ECF6",
            "gridcolor": "white",
            "gridwidth": 2,
            "linecolor": "white",
            "showbackground": true,
            "ticks": "",
            "zerolinecolor": "white"
           }
          },
          "shapedefaults": {
           "line": {
            "color": "#2a3f5f"
           }
          },
          "ternary": {
           "aaxis": {
            "gridcolor": "white",
            "linecolor": "white",
            "ticks": ""
           },
           "baxis": {
            "gridcolor": "white",
            "linecolor": "white",
            "ticks": ""
           },
           "bgcolor": "#E5ECF6",
           "caxis": {
            "gridcolor": "white",
            "linecolor": "white",
            "ticks": ""
           }
          },
          "title": {
           "x": 0.05
          },
          "xaxis": {
           "automargin": true,
           "gridcolor": "white",
           "linecolor": "white",
           "ticks": "",
           "title": {
            "standoff": 15
           },
           "zerolinecolor": "white",
           "zerolinewidth": 2
          },
          "yaxis": {
           "automargin": true,
           "gridcolor": "white",
           "linecolor": "white",
           "ticks": "",
           "title": {
            "standoff": 15
           },
           "zerolinecolor": "white",
           "zerolinewidth": 2
          }
         }
        },
        "title": {
         "text": "Number of cases per HER2 status",
         "x": 0.46,
         "xanchor": "center",
         "y": 0.92,
         "yanchor": "top"
        }
       }
      },
      "image/png": "[encoded data removed]"
     },
     "metadata": {},
     "output_type": "display_data"
    }
   ],
   "source": [
    "fig = px.pie(names=status_counts.index, values=status_counts.values, \n",
    "             color_discrete_map={'Positive':'darkcyan', 'Negative':'plum'})\n",
    "fig.update_layout(title={\n",
    "        'text': \"Number of cases per HER2 status\",\n",
    "        'y':0.92,\n",
    "        'x':0.46,\n",
    "        'xanchor': 'center',\n",
    "        'yanchor': 'top'},\n",
    "        width=600,\n",
    "        margin=dict(l=50, r=50, b=30, t=80))\n",
    "fig.show()"
   ]
  },
  {
   "cell_type": "markdown",
   "metadata": {},
   "source": [
    "Pie chart comparing number of benign and tumorous tiles available"
   ]
  },
  {
   "cell_type": "code",
   "execution_count": 42,
   "metadata": {},
   "outputs": [
    {
     "data": {
      "image/png": "[encoded data removed]",
      "text/plain": [
       "<Figure size 500x500 with 1 Axes>"
      ]
     },
     "metadata": {},
     "output_type": "display_data"
    }
   ],
   "source": [
    "plt.rcParams[\"figure.figsize\"] = [5, 5]\n",
    "total_benign = df['Num_of_benign_tiles'].sum()\n",
    "total_tumourous = df['Num_of_tumourous_tiles'].sum()\n",
    "total_patches = total_benign + total_tumourous\n",
    "plt.pie([total_benign, total_tumourous], labels=['Benign', 'Tumourous'], colors=['plum', 'mediumpurple'], explode=[0.02, 0.02], startangle=90, autopct=lambda x: '{:,.0f}'.format(x*total_patches/100), labeldistance=0.3, pctdistance=0.65)\n",
    "# plt.pie(status, colors=['mediumpurple', 'mediumaquamarine'], startangle=90, autopct=lambda x: '{:.2f}%'.format(x))\n",
    "# plt.legend(labels=['Benign', 'Tumourous'], bbox_to_anchor=(0.5,0.08), loc=\"center\", bbox_transform=plt.gcf().transFigure, ncol=2)\n",
    "plt.title(\"Patch classifications\")\n",
    "plt.show()"
   ]
  },
  {
   "cell_type": "code",
   "execution_count": 22,
   "metadata": {},
   "outputs": [
    {
     "name": "stdout",
     "output_type": "stream",
     "text": [
      "Clinical.HER2.status\n",
      "Negative    110799\n",
      "Positive    121707\n",
      "Name: Num_of_tumourous_tiles, dtype: object\n",
      "371140\n"
     ]
    },
    {
     "data": {
      "image/png": "[encoded data removed]",
      "text/plain": [
       "<Figure size 800x800 with 1 Axes>"
      ]
     },
     "metadata": {},
     "output_type": "display_data"
    }
   ],
   "source": [
    "category_totals = merged_df.groupby('Clinical.HER2.status')['Num_of_tumourous_tiles'].sum()\n",
    "print(category_totals)\n",
    "print(np.sum(category_totals.values) + merged_df['Num_of_benign_tiles'].sum())\n",
    "\n",
    "plt.rcParams[\"figure.figsize\"] = [8, 8]\n",
    "ax = plt.figure().gca()\n",
    "ax.bar([\"Benign\", \"HER2-\", \"HER2+\"], [merged_df['Num_of_benign_tiles'].sum(), category_totals.values[0], category_totals.values[1]], color=cd['pink'], width=0.55)\n",
    "\n",
    "for i, v in enumerate([merged_df['Num_of_benign_tiles'].sum(), category_totals.values[0], category_totals.values[1]]):\n",
    "    ax.text(i-0.15, v+1000, str(v), fontweight = 'bold')\n",
    "    \n",
    "ax.set_xlabel('Number of patches')\n",
    "ax.set_title(\"Total number of patches per class\")\n",
    "plt.savefig('/Users/alexandrasmith/Desktop/Workspace/Projects/masters/reports/data figs/patch_splitx3.png')"
   ]
  },
  {
   "cell_type": "markdown",
   "metadata": {},
   "source": [
    "## Matplotlib mosaic"
   ]
  },
  {
   "cell_type": "code",
   "execution_count": 48,
   "metadata": {},
   "outputs": [
    {
     "data": {
      "text/plain": [
       "<BarContainer object of 3 artists>"
      ]
     },
     "execution_count": 48,
     "metadata": {},
     "output_type": "execute_result"
    },
    {
     "data": {
      "image/png": "[encoded data removed]",
      "text/plain": [
       "<Figure size 1000x500 with 4 Axes>"
      ]
     },
     "metadata": {},
     "output_type": "display_data"
    }
   ],
   "source": [
    "plt.rcParams[\"figure.figsize\"] = [10, 5]\n",
    "fig = plt.figure(layout='constrained')\n",
    "mosaic = \"\"\"\n",
    "        abd\n",
    "        ccd\n",
    "        \"\"\"\n",
    "ax_dict = fig.subplot_mosaic(mosaic)\n",
    "\n",
    "ax_dict['a'].plot([1, 2, 3])\n",
    "ax_dict['b'].scatter([1, 2, 3], [4, 5, 6])\n",
    "ax_dict['c'].hist([1, 2, 3, 4, 5])\n",
    "ax_dict['d'].bar([1, 2, 3], [2, 4, 6])"
   ]
  },
  {
   "cell_type": "markdown",
   "metadata": {},
   "source": [
    "### Save .png of WSIs"
   ]
  },
  {
   "cell_type": "code",
   "execution_count": 2,
   "metadata": {},
   "outputs": [],
   "source": [
    "import os\n",
    "from openslide import open_slide\n",
    "\n",
    "img_dir = '/Volumes/AlexS/MastersData/SVS files/'\n",
    "svs_files = os.listdir(img_dir)\n",
    "save_dest = '/Users/alexandrasmith/Library/CloudStorage/OneDrive-StellenboschUniversity/Stellies/Masters/Visuals/WSI pngs/'\n",
    "\n",
    "plt.rcParams['figure.dpi']=300\n",
    "\n",
    "for img in svs_files:\n",
    "    if os.path.isfile(save_dest + img.replace('.svs', '') + '.png'):\n",
    "        continue\n",
    "    else:\n",
    "        # corrupt file\n",
    "        if img.startswith('TCGA-BH-A0B4'):\n",
    "            continue\n",
    "        else:\n",
    "            print(img)\n",
    "            slide = open_slide(img_dir + img)\n",
    "            slide_thumb = slide.get_thumbnail(size=(5000, 5000))\n",
    "            plt.imshow(np.array(slide_thumb))\n",
    "            plt.axis('off')\n",
    "            plt.savefig(save_dest + img.replace('.svs', '') + '.png', bbox_inches='tight')"
   ]
  },
  {
   "cell_type": "code",
   "execution_count": null,
   "metadata": {},
   "outputs": [],
   "source": [
    "######################"
   ]
  },
  {
   "cell_type": "code",
   "execution_count": 21,
   "metadata": {},
   "outputs": [],
   "source": [
    "def visualise_dataloader(dl, id_to_label=None, with_outputs=True):\n",
    "    total_num_images = len(dl.dataset)\n",
    "    idxs_seen = []\n",
    "    class_0_batch_counts = []\n",
    "    class_1_batch_counts = []\n",
    "\n",
    "    for i, batch in enumerate(dl):\n",
    "\n",
    "        idxs = batch[0].tolist()\n",
    "        classes = batch[1]\n",
    "        class_ids, class_counts = classes.unique(return_counts=True)\n",
    "        class_ids = set(class_ids.tolist())\n",
    "        class_counts = class_counts.tolist()\n",
    "\n",
    "        idxs_seen.extend(idxs)\n",
    "\n",
    "        if len(class_ids) == 2:\n",
    "            class_0_batch_counts.append(class_counts[0])\n",
    "            class_1_batch_counts.append(class_counts[1])\n",
    "        elif len(class_ids) == 1 and 0 in class_ids:\n",
    "            class_0_batch_counts.append(class_counts[0])\n",
    "            class_1_batch_counts.append(0)\n",
    "        elif len(class_ids) == 1 and 1 in class_ids:\n",
    "            class_0_batch_counts.append(0)\n",
    "            class_1_batch_counts.append(class_counts[0])\n",
    "        else:\n",
    "            raise ValueError(\"More than two classes detected\")\n",
    "\n",
    "    if with_outputs:\n",
    "        fig, ax = plt.subplots(1, figsize=(15, 15))\n",
    "\n",
    "        ind = np.arange(len(class_0_batch_counts))\n",
    "        width = 0.35\n",
    "\n",
    "        ax.bar(\n",
    "            ind,\n",
    "            class_0_batch_counts,\n",
    "            width,\n",
    "            label=(id_to_label[0] if id_to_label is not None else \"0\"),\n",
    "        )\n",
    "        ax.bar(\n",
    "            ind + width,\n",
    "            class_1_batch_counts,\n",
    "            width,\n",
    "            label=(id_to_label[1] if id_to_label is not None else \"1\"),\n",
    "        )\n",
    "        ax.set_xticks(ind, ind + 1)\n",
    "        ax.set_xlabel(\"Batch index\", fontsize=12)\n",
    "        ax.set_ylabel(\"No. of images in batch\", fontsize=12)\n",
    "        ax.set_aspect(\"equal\")\n",
    "\n",
    "        plt.legend()\n",
    "        plt.show()\n",
    "\n",
    "        num_images_seen = len(idxs_seen)\n",
    "\n",
    "        print(\n",
    "            f'Avg Proportion of {(id_to_label[0] if id_to_label is not None else \"Class 0\")} per batch: {(np.array(class_0_batch_counts) / 10).mean()}'\n",
    "        )\n",
    "        print(\n",
    "            f'Avg Proportion of {(id_to_label[1] if id_to_label is not None else \"Class 1\")} per batch: {(np.array(class_1_batch_counts) / 10).mean()}'\n",
    "        )\n",
    "        print(\"=============\")\n",
    "        print(f\"Num. unique images seen: {len(set(idxs_seen))}/{total_num_images}\")\n",
    "    return class_0_batch_counts, class_1_batch_counts, idxs_seen"
   ]
  },
  {
   "cell_type": "code",
   "execution_count": 1,
   "metadata": {},
   "outputs": [],
   "source": [
    "import sys\n",
    "from sklearn.metrics import roc_auc_score, roc_curve, confusion_matrix, ConfusionMatrixDisplay\n",
    "sys.path.append('/home/21576262@su/masters/')\n",
    "from src.data.get_data import kfolds_split, get_train_dataloader, get_test_dataloader"
   ]
  },
  {
   "cell_type": "code",
   "execution_count": 25,
   "metadata": {},
   "outputs": [
    {
     "name": "stdout",
     "output_type": "stream",
     "text": [
      "Model name: inception\n"
     ]
    }
   ],
   "source": [
    "# Number of classes in the dataset\n",
    "num_classes = 2\n",
    "# Batch size for training\n",
    "batch_size = 32\n",
    "# Number of epochs to train for\n",
    "num_epochs = 50\n",
    "\n",
    "model_name = 'inception'\n",
    "\n",
    "Inception = True if model_name == 'inception' else False\n",
    "InceptionResnet = True if model_name == 'inceptionresnet' else False\n",
    "\n",
    "print(f\"Model name: {model_name}\")\n",
    "\n",
    "SEED=42\n",
    "\n",
    "# CROSS VALIDATION\n",
    "k = 5\n",
    "data_splits = kfolds_split(k, SEED)\n",
    "fold_items = list(data_splits.items())\n",
    "\n",
    "for i in range(1):\n",
    "\n",
    "    # Get data\n",
    "    fold, data = fold_items[i]\n",
    "    train_cases = data['train'][0:10]\n",
    "    test_cases = data['test']\n",
    "    class_counts, train_dataloader = get_train_dataloader(train_cases, batch_size, Inception=False, InceptionResnet=False)\n",
    "    \n",
    "    # test_dataloader = get_test_dataloader(test_cases, batch_size, Inception=False, InceptionResnet=False)\n",
    "    # dataloaders = {'train': train_dataloader, 'test': test_dataloader}\n",
    "    \n",
    "    # class_0_batch_counts, class_1_batch_counts, ids_seen = visualise_dataloader(dataloaders['train'], {0: \"Benign\", 1: \"Malignant\"})\n",
    "    "
   ]
  },
  {
   "cell_type": "code",
   "execution_count": 4,
   "metadata": {},
   "outputs": [
    {
     "data": {
      "image/png": "[encoded data removed]",
      "text/plain": [
       "<Figure size 432x288 with 1 Axes>"
      ]
     },
     "metadata": {
      "needs_background": "light"
     },
     "output_type": "display_data"
    }
   ],
   "source": [
    "import matplotlib.pyplot as plt\n",
    "import numpy as np\n",
    "\n",
    "# Assuming you have two classes 0 and 1\n",
    "num_samples_class0, num_samples_class1 = class_counts\n",
    "\n",
    "# Compute class weights\n",
    "total_samples = num_samples_class0 + num_samples_class1\n",
    "class_weights = [total_samples / (2 * count) for count in original_counts]\n",
    "\n",
    "# Compute \"adjusted\" counts based on weights\n",
    "adjusted_counts = [count * weight for count, weight in zip(original_counts, class_weights)]\n",
    "\n",
    "# Plot\n",
    "bar_width = 0.35\n",
    "index = np.arange(2)\n",
    "\n",
    "fig, ax = plt.subplots()\n",
    "bar1 = ax.bar(index, original_counts, bar_width, label='Original', color='b')\n",
    "bar2 = ax.bar(index + bar_width, adjusted_counts, bar_width, label='Adjusted by Weights', color='r')\n",
    "\n",
    "ax.set_xlabel('Class')\n",
    "ax.set_ylabel('Effective Number of samples')\n",
    "ax.set_title('Original vs. Adjusted Class Distribution due to Weights')\n",
    "ax.set_xticks(index + bar_width / 2)\n",
    "ax.set_xticklabels(['Class 0', 'Class 1'])\n",
    "ax.legend()\n",
    "\n",
    "plt.tight_layout()\n",
    "plt.show()"
   ]
  },
  {
   "cell_type": "code",
   "execution_count": 41,
   "metadata": {},
   "outputs": [],
   "source": [
    "def visualise_dataloader(dl, id_to_label=None, with_outputs=True):\n",
    "    total_num_images = len(dl.dataset)\n",
    "    idxs_seen = []\n",
    "    class_0_batch_counts = []\n",
    "    class_1_batch_counts = []\n",
    "\n",
    "    for i, batch in enumerate(dl):\n",
    "\n",
    "        idxs = batch[0][:, 0].tolist()\n",
    "        classes = batch[1]\n",
    "        class_ids, class_counts = classes.unique(return_counts=True)\n",
    "        class_ids = set(class_ids.tolist())\n",
    "        class_counts = class_counts.tolist()\n",
    "\n",
    "        # idxs_seen.extend(idxs)\n",
    "\n",
    "        if len(class_ids) == 2:\n",
    "            class_0_batch_counts.append(class_counts[0])\n",
    "            class_1_batch_counts.append(class_counts[1])\n",
    "        elif len(class_ids) == 1 and 0 in class_ids:\n",
    "            class_0_batch_counts.append(class_counts[0])\n",
    "            class_1_batch_counts.append(0)\n",
    "        elif len(class_ids) == 1 and 1 in class_ids:\n",
    "            class_0_batch_counts.append(0)\n",
    "            class_1_batch_counts.append(class_counts[0])\n",
    "        else:\n",
    "            raise ValueError(\"More than two classes detected\")\n",
    "        \n",
    "    # print(class_0_batch_counts)\n",
    "\n",
    "    if with_outputs:\n",
    "        fig, ax = plt.subplots(1, figsize=(15, 15))\n",
    "\n",
    "        ind = np.arange(len(class_0_batch_counts))\n",
    "        width = 0.35\n",
    "\n",
    "        ax.bar(\n",
    "            ind,\n",
    "            class_0_batch_counts,\n",
    "            width,\n",
    "            color=cd['green'],\n",
    "            label=(id_to_label[0] if id_to_label is not None else \"0\")\n",
    "        )\n",
    "        ax.bar(\n",
    "            ind + width,\n",
    "            class_1_batch_counts,\n",
    "            width,\n",
    "            color=cd['pink'],\n",
    "            label=(id_to_label[1] if id_to_label is not None else \"1\")\n",
    "        )\n",
    "        ax.set_xticks(ind, ind + 1)\n",
    "        ax.set_xlabel(\"Batch index\", fontsize=12)\n",
    "        ax.set_ylabel(\"No. of images in batch\", fontsize=12)\n",
    "        ax.set_aspect(\"equal\")\n",
    "\n",
    "        plt.legend()\n",
    "        plt.show()\n",
    "\n",
    "        # num_images_seen = len(idxs_seen)\n",
    "\n",
    "        print(\n",
    "            f'Avg Proportion of {(id_to_label[0] if id_to_label is not None else \"Class 0\")} per batch: {(np.array(class_0_batch_counts) / 32).mean()}'\n",
    "        )\n",
    "        print(\n",
    "            f'Avg Proportion of {(id_to_label[1] if id_to_label is not None else \"Class 1\")} per batch: {(np.array(class_1_batch_counts) / 32).mean()}'\n",
    "        )\n",
    "        print(\"=============\")\n",
    "        # print(f\"Num. unique images seen: {len(set(idxs_seen))}/{total_num_images}\")\n",
    "    return class_0_batch_counts, class_1_batch_counts, 0"
   ]
  },
  {
   "cell_type": "code",
   "execution_count": 42,
   "metadata": {},
   "outputs": [
    {
     "data": {
      "image/png": "[encoded data removed]",
      "text/plain": [
       "<Figure size 1080x1080 with 1 Axes>"
      ]
     },
     "metadata": {},
     "output_type": "display_data"
    },
    {
     "name": "stdout",
     "output_type": "stream",
     "text": [
      "Avg Proportion of Benign per batch: 0.49856015358361777\n",
      "Avg Proportion of Malignant per batch: 0.5001599829351536\n",
      "=============\n"
     ]
    }
   ],
   "source": [
    "class_0_batch_counts, class_1_batch_counts, ids_seen = visualise_dataloader(train_dataloader, {0: \"Benign\", 1: \"Malignant\"})"
   ]
  },
  {
   "cell_type": "code",
   "execution_count": 3,
   "metadata": {},
   "outputs": [],
   "source": [
    "import matplotlib.pyplot as plt\n",
    "\n",
    "def plot_class_distribution(counts, title):\n",
    "    labels, values = zip(*counts.items())\n",
    "    plt.bar(labels, values)\n",
    "    plt.title(title)\n",
    "    plt.xlabel('Class Label')\n",
    "    plt.ylabel('Number of Samples')\n",
    "    plt.show()"
   ]
  },
  {
   "cell_type": "code",
   "execution_count": 6,
   "metadata": {},
   "outputs": [
    {
     "data": {
      "image/png": "[encoded data removed]",
      "text/plain": [
       "<Figure size 432x288 with 1 Axes>"
      ]
     },
     "metadata": {
      "needs_background": "light"
     },
     "output_type": "display_data"
    },
    {
     "data": {
      "image/png": "[encoded data removed]",
      "text/plain": [
       "<Figure size 432x288 with 1 Axes>"
      ]
     },
     "metadata": {
      "needs_background": "light"
     },
     "output_type": "display_data"
    }
   ],
   "source": [
    "plot_class_distribution(class_counts_before, \"Class Distribution Before Undersampling\")\n",
    "plot_class_distribution(class_counts_after, \"Class Distribution After Undersampling\")"
   ]
  },
  {
   "cell_type": "code",
   "execution_count": null,
   "metadata": {},
   "outputs": [],
   "source": []
  }
 ],
 "metadata": {
  "kernelspec": {
   "display_name": "Python 3 (ipykernel)",
   "language": "python",
   "name": "python3"
  },
  "language_info": {
   "codemirror_mode": {
    "name": "ipython",
    "version": 3
   },
   "file_extension": ".py",
   "mimetype": "text/x-python",
   "name": "python",
   "nbconvert_exporter": "python",
   "pygments_lexer": "ipython3",
   "version": "3.9.7"
  },
  "vscode": {
   "interpreter": {
    "hash": "ffe23d2e96a16864107ff4dcf870e48a8d9f9eb7155608451cb62e6ec1007317"
   }
  }
 },
 "nbformat": 4,
 "nbformat_minor": 4
}
