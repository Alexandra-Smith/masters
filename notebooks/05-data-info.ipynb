{
 "cells": [
  {
   "attachments": {},
   "cell_type": "markdown",
   "metadata": {},
   "source": [
    "### Extract meaningful information about data to put into thesis"
   ]
  },
  {
   "cell_type": "code",
   "execution_count": null,
   "metadata": {},
   "outputs": [],
   "source": [
    "import pandas as pd\n",
    "import numpy as np\n",
    "import matplotlib.pyplot as plt\n",
    "from openslide import open_slide"
   ]
  },
  {
   "cell_type": "code",
   "execution_count": null,
   "metadata": {},
   "outputs": [],
   "source": [
    "# read in data\n",
    "svs_files = "
   ]
  },
  {
   "attachments": {},
   "cell_type": "markdown",
   "metadata": {},
   "source": [
    "First, create dataframe containing information about the image dimensions at each of the levels"
   ]
  },
  {
   "cell_type": "code",
   "execution_count": null,
   "metadata": {},
   "outputs": [],
   "source": [
    "df = pd.DataFrame()\n",
    "col_names = ['File_name', 'Level0_factor', 'Level1_factor', 'Level2_factor', 'Level3_factor', 'Level0_height', 'Level0_width',\n",
    "            'Level1_height', 'Level1_width']\n",
    "df_data = []\n",
    "for svs in svs_files:\n",
    "    slide = open_slide(svs)\n",
    "    slide_props = slide.properties\n",
    "    levels = len(slide.level_dimensions)\n",
    "    factors = np.array(slide.level_downsamples)\n",
    "    data = [slide_props['aperio.Filename']]\n",
    "    for r in range(levels):\n",
    "        data.append(factors[r])\n",
    "    data.extend([slide_props['openslide.level[0].height'], slide_props['openslide.level[0].width'], \n",
    "                slide_props['openslide.level[1].height'], slide_props['openslide.level[1].width'])\n",
    "    df_data.append(data)\n",
    "df = pd.DataFrame(df_data, columns=col_names)\n",
    "df"
   ]
  },
  {
   "attachments": {},
   "cell_type": "markdown",
   "metadata": {},
   "source": [
    "Next, calculate some statistics about the dimensions of the GIVEN images (i.e. at level 0)"
   ]
  },
  {
   "cell_type": "code",
   "execution_count": null,
   "metadata": {},
   "outputs": [],
   "source": [
    "# Calculate average width, height\n",
    "\n",
    "# Calculate average number of pixels\n",
    "\n",
    "# Show distribution of image sizes/number of pixels"
   ]
  },
  {
   "attachments": {},
   "cell_type": "markdown",
   "metadata": {},
   "source": [
    "Also, calculate some information about images I am working with (i.e. level 1)"
   ]
  },
  {
   "cell_type": "code",
   "execution_count": null,
   "metadata": {},
   "outputs": [],
   "source": [
    "# * idea: calculate the average size of the images used (in GBs)"
   ]
  }
 ],
 "metadata": {
  "kernelspec": {
   "display_name": "masters",
   "language": "python",
   "name": "python3"
  },
  "language_info": {
   "name": "python",
   "version": "3.8.13"
  },
  "orig_nbformat": 4,
  "vscode": {
   "interpreter": {
    "hash": "ffe23d2e96a16864107ff4dcf870e48a8d9f9eb7155608451cb62e6ec1007317"
   }
  }
 },
 "nbformat": 4,
 "nbformat_minor": 2
}
