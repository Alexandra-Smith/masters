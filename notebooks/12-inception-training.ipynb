{
 "cells": [
  {
   "attachments": {},
   "cell_type": "markdown",
   "id": "db8a26ee",
   "metadata": {},
   "source": [
    "### Imports"
   ]
  },
  {
   "cell_type": "code",
   "execution_count": 1,
   "id": "d9214dc7-bdb4-4434-9355-e4ac271793bb",
   "metadata": {},
   "outputs": [
    {
     "name": "stdout",
     "output_type": "stream",
     "text": [
      "PyTorch Version:  2.0.0+cu117\n",
      "Torchvision Version:  0.15.1+cu117\n"
     ]
    }
   ],
   "source": [
    "import torch\n",
    "from torch import nn\n",
    "import torch.nn.functional as F\n",
    "from torchinfo import summary as Model_Summary\n",
    "import torch.optim as optim\n",
    "from typing import Optional"
   ]
  },
  {
   "attachments": {},
   "cell_type": "markdown",
   "id": "2b23a802",
   "metadata": {},
   "source": [
    "### Inception Model"
   ]
  },
  {
   "attachments": {},
   "cell_type": "markdown",
   "id": "fa9ada80",
   "metadata": {},
   "source": [
    "Convolutional block: 1 convolutional layer + batch normalisation, with ReLU activation\n",
    "\n",
    "- include kernel size and stride here?\n",
    "- is environment.yaml file .yaml or .yml?"
   ]
  },
  {
   "cell_type": "code",
   "execution_count": null,
   "id": "8047c64c",
   "metadata": {},
   "outputs": [],
   "source": [
    "class ConvBlock(nn.Module):\n",
    "    def __init__(self, in_channels: int, out_channels: int, kernel_size, stride=1, padding='same'):\n",
    "        super(ConvBlock, self).__init__()\n",
    "        self.conv = nn.Conv2d(in_channels, out_channels, kernel_size, stride=stride, padding=padding)\n",
    "        # could also use default momentum and eps values for batch norm\n",
    "        self.batch_norm = nn.BatchNorm2d(out_channels, eps=0.001, momentum=0.9997)\n",
    "        \n",
    "    def forward(self, x):\n",
    "        return F.relu(self.batch_norm(self.conv(x)))"
   ]
  },
  {
   "attachments": {},
   "cell_type": "markdown",
   "id": "eef1d724",
   "metadata": {},
   "source": [
    "Inception block: contains various branches, output from these branches are concatenated to produce a final output in the ```forward()``` function"
   ]
  },
  {
   "cell_type": "code",
   "execution_count": null,
   "id": "bf559c0a",
   "metadata": {},
   "outputs": [],
   "source": [
    "class InceptionBlockA(nn.Module):\n",
    "    def __init__(self, \n",
    "                in_channels,\n",
    "            ):\n",
    "        \n",
    "        super(InceptionBlockA, self).__init__()\n",
    "    \n",
    "    def forward(self, x):\n",
    "        branches = []\n",
    "\n",
    "        return torch.cat(branches, 1)"
   ]
  },
  {
   "attachments": {},
   "cell_type": "markdown",
   "id": "147174e1",
   "metadata": {},
   "source": [
    "Auxiliary classifiers -- check setup in inceptionv3"
   ]
  },
  {
   "cell_type": "code",
   "execution_count": null,
   "id": "65e4ad3e",
   "metadata": {},
   "outputs": [],
   "source": [
    "class InceptionAux(nn.Module):\n",
    "    def __init__(self, \n",
    "                 in_channels: int, \n",
    "                 num_classes: int, \n",
    "                 stride=1, \n",
    "                 padding='same'):\n",
    "        super(InceptionAux, self).__init__()\n",
    "        # pooling operation can be applied as layer or defined in forward function dependent\n",
    "        # on whether it is to be trained as well\n",
    "        # self.pool0 = nn.AvgPool2d(kernel_size=5, stride=3)\n",
    "        # self.conv0 = ConvBlock(in_channels, 128, kernel_size=1, stride=stride, padding=padding)\n",
    "        self.conv0 = ConvBlock(in_channels, 128, kernel_size=1)\n",
    "        self.conv1 = ConvBlock(128, 768, kernel_size=5)\n",
    "        # self.pool1 = nn.AvgPool2d(kernel_size=1)\n",
    "        # self.conv1.stddev = 0.01\n",
    "        self.fc = nn.Linear(768, num_classes)\n",
    "        # self.fc.stddev = 0.001\n",
    "    \n",
    "    def forward(self, x):\n",
    "        # x = self.pool0(x)\n",
    "        x = F.avg_pool2d(x, kernel_size=5, stride=3)\n",
    "        x = self.conv0(x)\n",
    "        x = self.conv1(x)\n",
    "        x = F.adaptive_avg_pool2d(x, (1 ,1))\n",
    "        # x = self.pool1(x)\n",
    "        x = torch.flatten(x, 1)\n",
    "        x = self.fc(x)\n",
    "        return x"
   ]
  },
  {
   "attachments": {},
   "cell_type": "markdown",
   "id": "97a19833",
   "metadata": {},
   "source": [
    "Full model"
   ]
  },
  {
   "cell_type": "code",
   "execution_count": null,
   "id": "fbf85111",
   "metadata": {},
   "outputs": [],
   "source": [
    "class InceptionV3(nn.Module):\n",
    "    def __init__(self, aux_logits=True, num_classes=2):\n",
    "        super(InceptionV3, self).__init__()\n",
    "\n",
    "        self.aux_logits = aux_logits\n",
    "        in_channels=3\n",
    "\n",
    "        # Initial convolutional and pooling layers\n",
    "        self.conv0 = nn.Conv2d(in_channels, 32, kernel_size=3, stride=2)\n",
    "        self.conv1 = nn.Conv2d(32, 32, kernel_size=3, stride=1)\n",
    "        self.conv2 = nn.Conv2d(32, 64, kernel_size=3, stride=1, padding='same')\n",
    "        self.pool1 = nn.MaxPool2d(kernel_size=3, stride=2)\n",
    "        self.conv3 = nn.Conv2d(64, 80, kernel_size=1, stride=1)\n",
    "        self.conv4 = nn.Conv2d(80, 192, kernel_size=3, stride=1)\n",
    "        self.pool2 = nn.MaxPool2d(kernel_size=3, stride=2)\n",
    "\n",
    "        # ? run model to test what number of channels is after pool2 layer, is it still 3? for in_channels to follow in inception blocks\n",
    "\n",
    "        # Inception blocks\n",
    "        # (in_channels, b1_out_channels=None, include1x1=False, include5x5=False, include3x3=False, include3x3dbl=False, include7x7=False, include7x7dbl=False, include7x7x3=False, include_pool_avg=False, include_pool_max=False):\n",
    "        self.inception_mixed_0 = InceptionBlock(in_channels, b1_out_channels=64, avg_pool_channels=32, include1x1=True, include5x5=True, include3x3dbl=True, include_pool_avg=True)\n",
    "        self.inception_mixed_1 = InceptionBlock(in_channels, b1_out_channels=64, avg_pool_channels=64, include1x1=True, include5x5=True, include3x3dbl=True, include_pool_avg=True)\n",
    "        self.inception_mixed_2 = InceptionBlock(in_channels, b1_out_channels=64, avg_pool_channels=64, include1x1=True, include5x5=True, include3x3dbl=True, include_pool_avg=True)\n",
    "        self.inception_mixed_3 = InceptionBlock(in_channels, b3_out_channels=384, avg_pool_channels=64, include3x3=True, include3x3dbl_1=True, include_pool_max=True)\n",
    "        self.inception_mixed_4 = InceptionBlock(in_channels, b1_out_channels=192, b7_channels=128, avg_pool_channels=192, include1x1=True, include7x7=True, include7x7dbl=True, include_pool_avg=True)\n",
    "        self.inception_mixed_5 = InceptionBlock(in_channels, b1_out_channels=192, b7_channels=160, avg_pool_channels=192, include1x1=True, include7x7=True, include7x7dbl=True, include_pool_avg=True)\n",
    "        self.inception_mixed_6 = InceptionBlock(in_channels, b1_out_channels=192, b7_channels=160, avg_pool_channels=192, include1x1=True, include7x7=True, include7x7dbl=True, include_pool_avg=True)\n",
    "        self.inception_mixed_7 = InceptionBlock(in_channels, b1_out_channels=192, b7_channels=192, avg_pool_channels=192, include1x1=True, include7x7=True, include7x7dbl=True, include_pool_avg=True)\n",
    "        self.inception_mixed_8 = InceptionBlock(in_channels, include3x3_1=True, include7x7x3=True, include_pool_max=True)\n",
    "        self.inception_mixed_9 = InceptionBlock(in_channels, b1_out_channels=320, avg_pool_channels=192,  include1x1=True, include3x3_2=True, include3x3dbl_2=True, include_pool_avg=True)\n",
    "        self.inception_mixed_10 = InceptionBlock(in_channels, b1_out_channels=320, avg_pool_channels=192, include1x1=True, include3x3_2=True, include3x3dbl_2=True, include_pool_avg=True)\n",
    "        \n",
    "        if aux_logits:\n",
    "            self.AuxLogits = InceptionAux(512, num_classes)\n",
    "\n",
    "        # Final layers\n",
    "        self.avg_pool = nn.AvgPool2d(padding='valid')\n",
    "        self.dropout = nn.Dropout(p=0.8)\n",
    "        self.flatten = nn.Flatten()\n",
    "        self.fc = nn.Linear(in_features=2048, out_features=num_classes)\n",
    "\n",
    "    def forward(self, x):\n",
    "        # Initial layers\n",
    "        x = self.conv0(x)\n",
    "        x = self.conv1(x)\n",
    "        x = self.conv2(x)\n",
    "        x = self.pool1(x)\n",
    "        x = self.conv3(x)\n",
    "        x = self.conv4(x)\n",
    "        x = self.pool2(x)\n",
    "        # Inception blocks\n",
    "        x = self.inception_mixed_0(x)\n",
    "        x = self.inception_mixed_1(x)\n",
    "        x = self.inception_mixed_2(x)\n",
    "        x = self.inception_mixed_3(x)\n",
    "        x = self.inception_mixed_4(x)\n",
    "        x = self.inception_mixed_5(x)\n",
    "        x = self.inception_mixed_6(x)\n",
    "        x = self.inception_mixed_7(x)\n",
    "        # Auxiliary heads\n",
    "        aux: Optional[Tensor] = None\n",
    "        if self.AuxLogits is not None:\n",
    "            if self.training:\n",
    "                aux = self.AuxLogits(x)\n",
    "        # more Inception\n",
    "        x = self.inception_mixed_8(x)\n",
    "        x = self.inception_mixed_9(x)\n",
    "        x = self.inception_mixed_10(x)\n",
    "\n",
    "        x = self.avg_pool(x)\n",
    "        x = self.dropout(x)\n",
    "        x = self.flatten(x)\n",
    "        x = self.fc(x)\n",
    "\n",
    "        return x, aux"
   ]
  },
  {
   "attachments": {},
   "cell_type": "markdown",
   "id": "c7ec0970",
   "metadata": {},
   "source": [
    "Check model"
   ]
  },
  {
   "cell_type": "code",
   "execution_count": null,
   "id": "18c7b401",
   "metadata": {},
   "outputs": [],
   "source": [
    "model = InceptionV3()\n",
    "print(model)\n",
    "\n",
    "# Model_Summary(model, test_input.shape)"
   ]
  },
  {
   "cell_type": "code",
   "execution_count": null,
   "id": "05ee7846",
   "metadata": {},
   "outputs": [],
   "source": [
    "# Test model: sanity check with dummy input\n",
    "test_input = torch.randn(2, 3, 224, 224)\n",
    "aux1, aux2, output = model(test_input)\n",
    "print(output.shape)"
   ]
  },
  {
   "attachments": {},
   "cell_type": "markdown",
   "id": "e1a427d2-759e-49e6-b0a5-e8cbe8d450c2",
   "metadata": {},
   "source": [
    "### Helper functions"
   ]
  },
  {
   "cell_type": "code",
   "execution_count": null,
   "id": "601ed00d",
   "metadata": {},
   "outputs": [],
   "source": []
  },
  {
   "attachments": {},
   "cell_type": "markdown",
   "id": "f7457a15",
   "metadata": {},
   "source": [
    "### Parameters"
   ]
  },
  {
   "cell_type": "code",
   "execution_count": 2,
   "id": "e3b0a0cd-f03f-4eba-acfe-1f33c21baff7",
   "metadata": {},
   "outputs": [],
   "source": [
    "# Number of classes in the dataset\n",
    "num_classes = 2\n",
    "# Batch size for training (change depending on how much memory you have)\n",
    "batch_size = 32\n",
    "# Number of epochs to train for\n",
    "# * paper: 100\n",
    "num_epochs = 20"
   ]
  },
  {
   "attachments": {},
   "cell_type": "markdown",
   "id": "e4c80fee-5d59-41da-bc97-72467d0e66b0",
   "metadata": {},
   "source": [
    "### Initialise model"
   ]
  },
  {
   "cell_type": "code",
   "execution_count": null,
   "id": "72c5d0c4",
   "metadata": {},
   "outputs": [],
   "source": [
    "# move function to `initalise_models.py`\n",
    "def inception(num_classes):\n",
    "\n",
    "    # Hyperparameters\n",
    "    WEIGHT_DECAY = 0.9                  # Decay term for RMSProp.\n",
    "    # weight_decay = 0.00004?\n",
    "    # from inception_v3_parameters\n",
    "    MOMENTUM = 0.9                      # Momentum in RMSProp.\n",
    "    EPSILON = 1.0                       # Epsilon term for RMSProp.\n",
    "    INITIAL_LEARNING_RATE = 0.1         # Initial learning rate.\n",
    "    NUM_EPOCHS_PER_DECAY = 30.0         # Epochs after which learning rate decays.\n",
    "    LEARNING_RATE_DECAY_FACTOR = 0.16   # Learning rate decay factor.\n",
    "\n",
    "    model = InceptionV3()\n",
    "    # * set parameters correct?\n",
    "    optimiser = optim.RMSprop(lr=INITIAL_LEARNING_RATE, momentum=MOMENTUM, eps=EPSILON, weight_decay=WEIGHT_DECAY)\n",
    "    criterion = nn.CrossEntropyLoss()\n",
    "    # * complete\n",
    "    parameters = {\"learning_rate\": INITIAL_LEARNING_RATE, \"momentum\": MOMENTUM}\n",
    "\n",
    "    return model, optimiser, criterion, parameters"
   ]
  },
  {
   "cell_type": "code",
   "execution_count": null,
   "id": "f66a2147",
   "metadata": {},
   "outputs": [],
   "source": [
    "# Define the loss function with weight decay\n",
    "loss_fn = nn.CrossEntropyLoss()\n",
    "weight_decay = 0.00004\n",
    "l2_reg = torch.tensor(0.)\n",
    "for param in conv_layer.parameters():\n",
    "    l2_reg += torch.norm(param)\n",
    "loss_fn = nn.CrossEntropyLoss()\n",
    "loss_fn = loss_fn(output, target) + weight_decay * l2_reg"
   ]
  },
  {
   "attachments": {},
   "cell_type": "markdown",
   "id": "a6d9429f-ed91-4c1e-b610-f0291554e90e",
   "metadata": {},
   "source": [
    "### Load data"
   ]
  },
  {
   "attachments": {},
   "cell_type": "markdown",
   "id": "dfc9d1cb-35c9-447c-a82a-b2b3100f6107",
   "metadata": {},
   "source": [
    "### Model"
   ]
  },
  {
   "cell_type": "code",
   "execution_count": null,
   "id": "c4ed60eb-ede9-4898-be2a-2d2537220110",
   "metadata": {},
   "outputs": [],
   "source": [
    "# Hyperparameters\n",
    "RMSPROP_DECAY = 0.9                # Decay term for RMSProp.\n",
    "MOMENTUM = 0.9                     # Momentum in RMSProp.\n",
    "RMSPROP_EPSILON = 1.0              # Epsilon term for RMSProp.\n",
    "INITIAL_LEARNING_RATE = 0.1        # Initial learning rate.\n",
    "NUM_EPOCHS_PER_DECAY = 30.0        # Epochs after which learning rate decays.\n",
    "LEARNING_RATE_DECAY_FACTOR = 0.16  # Learning rate decay factor."
   ]
  }
 ],
 "metadata": {
  "kernelspec": {
   "display_name": "masters",
   "language": "python",
   "name": "python3"
  },
  "language_info": {
   "codemirror_mode": {
    "name": "ipython",
    "version": 3
   },
   "file_extension": ".py",
   "mimetype": "text/x-python",
   "name": "python",
   "nbconvert_exporter": "python",
   "pygments_lexer": "ipython3",
   "version": "3.8.13"
  }
 },
 "nbformat": 4,
 "nbformat_minor": 5
}
