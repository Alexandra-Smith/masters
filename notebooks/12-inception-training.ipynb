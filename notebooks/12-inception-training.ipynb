{
 "cells": [
  {
   "attachments": {},
   "cell_type": "markdown",
   "id": "db8a26ee",
   "metadata": {},
   "source": [
    "### Imports"
   ]
  },
  {
   "cell_type": "code",
   "execution_count": 1,
   "id": "d9214dc7-bdb4-4434-9355-e4ac271793bb",
   "metadata": {},
   "outputs": [
    {
     "name": "stdout",
     "output_type": "stream",
     "text": [
      "PyTorch Version:  2.0.0+cu117\n",
      "Torchvision Version:  0.15.1+cu117\n"
     ]
    }
   ],
   "source": [
    "import torch\n",
    "from torch import nn\n",
    "import torch.nn.functional as F\n",
    "from torchinfo import summary as Model_Summary\n",
    "import torch.optim as optim"
   ]
  },
  {
   "attachments": {},
   "cell_type": "markdown",
   "id": "2b23a802",
   "metadata": {},
   "source": [
    "### Inception Model"
   ]
  },
  {
   "attachments": {},
   "cell_type": "markdown",
   "id": "fa9ada80",
   "metadata": {},
   "source": [
    "Convolutional block: 1 convolutional layer + batch normalisation, with ReLU activation\n",
    "\n",
    "- include kernel size and stride here?\n",
    "- is environment.yaml file .yaml or .yml?"
   ]
  },
  {
   "cell_type": "code",
   "execution_count": null,
   "id": "8047c64c",
   "metadata": {},
   "outputs": [],
   "source": [
    "class ConvBlock(nn.Module):\n",
    "    def __init__(self, in_channels, out_chanels, kernel_size, stride, **kwargs):\n",
    "        super(ConvBlock, self).__init__()\n",
    "        self.conv = nn.Conv2d(in_channels, out_chanels, kernel_size, stride, **kwargs)\n",
    "        self.batch_norm = nn.BatchNorm2d(out_chanels)\n",
    "        \n",
    "    def forward(self, x):\n",
    "        return F.relu(self.batch_norm(self.conv(x)))"
   ]
  },
  {
   "attachments": {},
   "cell_type": "markdown",
   "id": "eef1d724",
   "metadata": {},
   "source": [
    "Inception block: contains various branches, output from these branches are concatenated to produce a final output in the ```forward()``` function"
   ]
  },
  {
   "cell_type": "code",
   "execution_count": null,
   "id": "eb7fe46b",
   "metadata": {},
   "outputs": [],
   "source": [
    "class InceptionBlock(nn.Module):\n",
    "    def __init__(\n",
    "        self, \n",
    "        in_channels, \n",
    "        out_1x1,\n",
    "        red_3x3,\n",
    "        out_3x3,\n",
    "        red_5x5,\n",
    "        out_5x5,\n",
    "        out_pool,\n",
    "    ):\n",
    "        super(InceptionBlock, self).__init__()\n",
    "        self.branch1 = ConvBlock(in_channels, out_1x1, kernel_size=1)\n",
    "        self.branch2 = nn.Sequential(\n",
    "            ConvBlock(in_channels, red_3x3, kernel_size=1, padding=0),\n",
    "            ConvBlock(red_3x3, out_3x3, kernel_size=3, padding=1),\n",
    "        )\n",
    "        self.branch3 = nn.Sequential(\n",
    "            ConvBlock(in_channels, red_5x5, kernel_size=1),\n",
    "            ConvBlock(red_5x5, out_5x5, kernel_size=5, padding=2),\n",
    "        )\n",
    "        self.branch4 = nn.Sequential(\n",
    "            nn.MaxPool2d(kernel_size=3, padding=1, stride=1),\n",
    "            ConvBlock(in_channels, out_pool, kernel_size=1),\n",
    "        )\n",
    "    \n",
    "    def forward(self, x):\n",
    "        branches = (self.branch1, self.branch2, self.branch3, self.branch4)\n",
    "        return torch.cat([branch(x) for branch in branches], dim=1)"
   ]
  },
  {
   "attachments": {},
   "cell_type": "markdown",
   "id": "147174e1",
   "metadata": {},
   "source": [
    "Auxiliary classifiers -- check setup in inceptionv3"
   ]
  },
  {
   "cell_type": "code",
   "execution_count": null,
   "id": "65e4ad3e",
   "metadata": {},
   "outputs": [],
   "source": [
    "class InceptionAux(nn.Module):\n",
    "    def __init__(self, in_channels, num_classes):\n",
    "        super(InceptionAux, self).__init__()\n",
    "        # ? adaptive pooling necessary or use normal?\n",
    "        self.pool = nn.AvgPool2d(kernel_size=5, stride=3)\n",
    "        self.conv = ConvBlock(in_channels, 128, kernel_size=1)\n",
    "        # in_features=2048 because we should flatten the input tensor which has shape of (batch, 4,4,128) so after flaten the tensor will be (batch, 4*4*128)\n",
    "        # out_features=1024 this number from paper ??\n",
    "        self.fc1 = nn.Linear(2048, 1024)\n",
    "        # ? must this be included?\n",
    "        # self.batch_norm = nn.BatchNorm1d(num_features=1024)\n",
    "        self.dropout = nn.Dropout(p=0.7)\n",
    "        self.fc2 = nn.Linear(1024, num_classes)\n",
    "    \n",
    "    def forward(self, x):\n",
    "        x = self.pool(x)\n",
    "        x = self.conv(x)\n",
    "        x = x.reshape(x.shape[0], -1)\n",
    "        x = F.relu(self.fc1(x))\n",
    "        x = self.dropout(x) # dropout?\n",
    "        x = self.fc2(x)\n",
    "        return x"
   ]
  },
  {
   "attachments": {},
   "cell_type": "markdown",
   "id": "97a19833",
   "metadata": {},
   "source": [
    "Full model"
   ]
  },
  {
   "cell_type": "code",
   "execution_count": null,
   "id": "fbf85111",
   "metadata": {},
   "outputs": [],
   "source": [
    "class InceptionV1(nn.Module):\n",
    "    def __init__(self, aux_logits=True, num_classes=1000):\n",
    "        super(InceptionV1, self).__init__()\n",
    "        self.aux_logits = aux_logits\n",
    "        self.conv1 = ConvBlock(\n",
    "            in_channels=3, \n",
    "            out_chanels=64,\n",
    "            kernel_size=(7, 7),\n",
    "            stride=(2, 2),\n",
    "            padding=(3, 3),\n",
    "        )\n",
    "        self.conv2 = ConvBlock(64, 192, kernel_size=3, stride=1, padding=1)\n",
    "        self.maxpool = nn.MaxPool2d(kernel_size=3, stride=2, padding=1)\n",
    "        self.inception3a = InceptionBlock(192, 64, 96, 128, 16, 32, 32)\n",
    "        self.inception3b = InceptionBlock(256, 128, 128, 192, 32, 96, 64)\n",
    "        self.inception4a = InceptionBlock(480, 192, 96, 208, 16, 48, 64)\n",
    "        self.inception4b = InceptionBlock(512, 160, 112, 224, 24, 64, 64)\n",
    "        self.inception4c = InceptionBlock(512, 128, 128, 256, 24, 64, 64)\n",
    "        self.inception4d = InceptionBlock(512, 112, 144, 288, 32, 64, 64)\n",
    "        self.inception4e = InceptionBlock(528, 256, 160, 320, 32, 128, 128)\n",
    "        self.inception5a = InceptionBlock(832, 256, 160, 320, 32, 128, 128)\n",
    "        self.inception5b = InceptionBlock(832, 384, 192, 384, 48, 128, 128)\n",
    "        self.avgpool = nn.AvgPool2d(kernel_size=7, stride=1)\n",
    "        self.dropout = nn.Dropout(p=0.4)\n",
    "        self.fc = nn.Linear(1024, num_classes)\n",
    "        \n",
    "        if self.aux_logits:\n",
    "            self.aux1 = InceptionAux(512, num_classes)\n",
    "            self.aux2 = InceptionAux(528, num_classes)\n",
    "        else:\n",
    "            self.aux1 = self.aux2 = None\n",
    "    \n",
    "    def forward(self, x):\n",
    "        x = self.conv1(x)\n",
    "        x = self.maxpool(x)\n",
    "        x = self.conv2(x)\n",
    "        x = self.maxpool(x)\n",
    "        x = self.inception3a(x)\n",
    "        x = self.inception3b(x)\n",
    "        x = self.maxpool(x)\n",
    "        x = self.inception4a(x)\n",
    "        \n",
    "        if self.aux_logits and self.training:\n",
    "            aux1 = self.aux1(x)\n",
    "        \n",
    "        x = self.inception4b(x)\n",
    "        x = self.inception4c(x)\n",
    "        x = self.inception4d(x)\n",
    "        \n",
    "        if self.aux_logits and self.training:\n",
    "            aux2 = self.aux2(x)\n",
    "        \n",
    "        x = self.inception4e(x)\n",
    "        x = self.maxpool(x)\n",
    "        x = self.inception5a(x)\n",
    "        x = self.inception5b(x)\n",
    "        x = self.avgpool(x)\n",
    "        x = x.reshape(x.shape[0], -1)\n",
    "        x = self.dropout(x)\n",
    "        x = self.fc(x)\n",
    "        \n",
    "        if self.aux_logits and self.training:\n",
    "            return aux1, aux2, x\n",
    "        return x"
   ]
  },
  {
   "attachments": {},
   "cell_type": "markdown",
   "id": "c7ec0970",
   "metadata": {},
   "source": [
    "Check model"
   ]
  },
  {
   "cell_type": "code",
   "execution_count": null,
   "id": "18c7b401",
   "metadata": {},
   "outputs": [],
   "source": [
    "model = InceptionV1()\n",
    "print(model)\n",
    "\n",
    "Model_Summary(model, test_input.shape)"
   ]
  },
  {
   "cell_type": "code",
   "execution_count": null,
   "id": "05ee7846",
   "metadata": {},
   "outputs": [],
   "source": [
    "# Test model: sanity check with dummy input\n",
    "test_input = torch.randn(2, 3, 224, 224)\n",
    "aux1, aux2, output = model(test_input)\n",
    "print(output.shape)"
   ]
  },
  {
   "attachments": {},
   "cell_type": "markdown",
   "id": "e1a427d2-759e-49e6-b0a5-e8cbe8d450c2",
   "metadata": {},
   "source": [
    "### Helper functions"
   ]
  },
  {
   "cell_type": "code",
   "execution_count": null,
   "id": "601ed00d",
   "metadata": {},
   "outputs": [],
   "source": []
  },
  {
   "attachments": {},
   "cell_type": "markdown",
   "id": "f7457a15",
   "metadata": {},
   "source": [
    "### Parameters"
   ]
  },
  {
   "cell_type": "code",
   "execution_count": 2,
   "id": "e3b0a0cd-f03f-4eba-acfe-1f33c21baff7",
   "metadata": {},
   "outputs": [],
   "source": [
    "# Number of classes in the dataset\n",
    "num_classes = 2\n",
    "# Batch size for training (change depending on how much memory you have)\n",
    "batch_size = 32\n",
    "# Number of epochs to train for\n",
    "# * paper: 100\n",
    "num_epochs = 20"
   ]
  },
  {
   "attachments": {},
   "cell_type": "markdown",
   "id": "e4c80fee-5d59-41da-bc97-72467d0e66b0",
   "metadata": {},
   "source": [
    "### Initialise model"
   ]
  },
  {
   "cell_type": "code",
   "execution_count": null,
   "id": "72c5d0c4",
   "metadata": {},
   "outputs": [],
   "source": [
    "# move function to `initalise_models.py`\n",
    "def inception(num_classes):\n",
    "\n",
    "    # Hyperparameters\n",
    "    WEIGHT_DECAY = 0.9                  # Decay term for RMSProp.\n",
    "    MOMENTUM = 0.9                      # Momentum in RMSProp.\n",
    "    EPSILON = 1.0                       # Epsilon term for RMSProp.\n",
    "    INITIAL_LEARNING_RATE = 0.1         # Initial learning rate.\n",
    "    NUM_EPOCHS_PER_DECAY = 30.0         # Epochs after which learning rate decays.\n",
    "    LEARNING_RATE_DECAY_FACTOR = 0.16   # Learning rate decay factor.\n",
    "\n",
    "    model = InceptionV3()\n",
    "    # * set parameters correct?\n",
    "    optimiser = optim.RMSprop(lr=INITIAL_LEARNING_RATE, momentum=MOMENTUM, eps=EPSILON, weight_decay=WEIGHT_DECAY)\n",
    "    criterion = nn.CrossEntropyLoss()\n",
    "    # * complete\n",
    "    parameters = {\"learning_rate\": INITIAL_LEARNING_RATE, \"momentum\": MOMENTUM}\n",
    "\n",
    "    return model, optimiser, criterion, parameters"
   ]
  },
  {
   "attachments": {},
   "cell_type": "markdown",
   "id": "a6d9429f-ed91-4c1e-b610-f0291554e90e",
   "metadata": {},
   "source": [
    "### Load data"
   ]
  },
  {
   "attachments": {},
   "cell_type": "markdown",
   "id": "dfc9d1cb-35c9-447c-a82a-b2b3100f6107",
   "metadata": {},
   "source": [
    "### Model"
   ]
  },
  {
   "cell_type": "code",
   "execution_count": null,
   "id": "c4ed60eb-ede9-4898-be2a-2d2537220110",
   "metadata": {},
   "outputs": [],
   "source": [
    "# Hyperparameters\n",
    "RMSPROP_DECAY = 0.9                # Decay term for RMSProp.\n",
    "MOMENTUM = 0.9                     # Momentum in RMSProp.\n",
    "RMSPROP_EPSILON = 1.0              # Epsilon term for RMSProp.\n",
    "INITIAL_LEARNING_RATE = 0.1        # Initial learning rate.\n",
    "NUM_EPOCHS_PER_DECAY = 30.0        # Epochs after which learning rate decays.\n",
    "LEARNING_RATE_DECAY_FACTOR = 0.16  # Learning rate decay factor."
   ]
  }
 ],
 "metadata": {
  "kernelspec": {
   "display_name": "masters",
   "language": "python",
   "name": "python3"
  },
  "language_info": {
   "codemirror_mode": {
    "name": "ipython",
    "version": 3
   },
   "file_extension": ".py",
   "mimetype": "text/x-python",
   "name": "python",
   "nbconvert_exporter": "python",
   "pygments_lexer": "ipython3",
   "version": "3.8.13"
  }
 },
 "nbformat": 4,
 "nbformat_minor": 5
}
